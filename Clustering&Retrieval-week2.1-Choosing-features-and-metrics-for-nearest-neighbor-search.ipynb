{
 "cells": [
  {
   "cell_type": "markdown",
   "metadata": {},
   "source": [
    "## Choosing features and metrics for nearest neighbor search (using sframe and scikit-learn)"
   ]
  },
  {
   "cell_type": "markdown",
   "metadata": {},
   "source": [
    "### Import packages"
   ]
  },
  {
   "cell_type": "code",
   "execution_count": 2,
   "metadata": {
    "collapsed": false
   },
   "outputs": [
    {
     "name": "stderr",
     "output_type": "stream",
     "text": [
      "[INFO] sframe.cython.cy_server: SFrame v2.1 started. Logging /tmp/sframe_server_1477834318.log\n"
     ]
    }
   ],
   "source": [
    "import sframe\n",
    "import matplotlib.pyplot as plt\n",
    "import numpy as np # dense matrices\n",
    "from scipy.sparse import csr_matrix # sparse matrices\n",
    "%matplotlib inline"
   ]
  },
  {
   "cell_type": "markdown",
   "metadata": {},
   "source": [
    "### Load in the dataset"
   ]
  },
  {
   "cell_type": "code",
   "execution_count": 3,
   "metadata": {
    "collapsed": true
   },
   "outputs": [],
   "source": [
    "wiki = sframe.SFrame('people_wiki.gl/')\n",
    "wiki = wiki.add_row_number() # add row number, starting at 0"
   ]
  },
  {
   "cell_type": "code",
   "execution_count": 4,
   "metadata": {
    "collapsed": false
   },
   "outputs": [
    {
     "data": {
      "text/plain": [
       "{'URI': '<http://dbpedia.org/resource/Digby_Morrell>',\n",
       " 'id': 0,\n",
       " 'name': 'Digby Morrell',\n",
       " 'text': 'digby morrell born 10 october 1979 is a former australian rules footballer who played with the kangaroos and carlton in the australian football league aflfrom western australia morrell played his early senior football for west perth his 44game senior career for the falcons spanned 19982000 and he was the clubs leading goalkicker in 2000 at the age of 21 morrell was recruited to the australian football league by the kangaroos football club with its third round selection in the 2001 afl rookie draft as a forward he twice kicked five goals during his time with the kangaroos the first was in a losing cause against sydney in 2002 and the other the following season in a drawn game against brisbaneafter the 2003 season morrell was traded along with david teague to the carlton football club in exchange for corey mckernan he played 32 games for the blues before being delisted at the end of 2005 he continued to play victorian football league vfl football with the northern bullants carltons vflaffiliate in 2006 and acted as playing assistant coach in 2007 in 2008 he shifted to the box hill hawks before retiring from playing at the end of the season from 2009 until 2013 morrell was the senior coach of the strathmore football club in the essendon district football league leading the club to the 2011 premier division premiership since 2014 he has coached the west coburg football club also in the edflhe currently teaches physical education at parade college in melbourne'}"
      ]
     },
     "execution_count": 4,
     "metadata": {},
     "output_type": "execute_result"
    }
   ],
   "source": [
    "wiki[0]"
   ]
  },
  {
   "cell_type": "code",
   "execution_count": 54,
   "metadata": {
    "collapsed": false
   },
   "outputs": [
    {
     "data": {
      "text/plain": [
       "dtype: str\n",
       "Rows: 59071\n",
       "['digby morrell born 10 october 1979 is a former australian rules footballer who played with the kangaroos and carlton in the australian football league aflfrom western australia morrell played his early senior football for west perth his 44game senior career for the falcons spanned 19982000 and he was the clubs leading goalkicker in 2000 at the age of 21 morrell was recruited to the australian football league by the kangaroos football club with its third round selection in the 2001 afl rookie draft as a forward he twice kicked five goals during his time with the kangaroos the first was in a losing cause against sydney in 2002 and the other the following season in a drawn game against brisbaneafter the 2003 season morrell was traded along with david teague to the carlton football club in exchange for corey mckernan he played 32 games for the blues before being delisted at the end of 2005 he continued to play victorian football league vfl football with the northern bullants carltons vflaffiliate in 2006 and acted as playing assistant coach in 2007 in 2008 he shifted to the box hill hawks before retiring from playing at the end of the season from 2009 until 2013 morrell was the senior coach of the strathmore football club in the essendon district football league leading the club to the 2011 premier division premiership since 2014 he has coached the west coburg football club also in the edflhe currently teaches physical education at parade college in melbourne', 'alfred j lewy aka sandy lewy graduated from university of chicago in 1973 after studying psychiatry pharmacology and ophthalmology he is a full professor and vicechair of the department of psychiatry at ohsu oregon health science university and holds an md and phd prior to moving to oregon in 1981 lewy was at the national institute of mental health nimh in bethesda maryland working with senior colleague thomas wehr in oregon he has worked closely with robert l sack as of december 2005 he had 94 publications available on pubmed he describes his research as follows my laboratory studies chronobiologic sleep and mood disorders these disorders include winter depression jet lag maladaptation to shift work and certain types of sleep disturbances relying on a very precise assay for plasma melatonin a hormone that has a clearly defined 24hour pattern of secretion biological rhythm disorders can be assessed and their treatment can be monitored current research is focused on developing bright light exposure and melatonin administration as treatment modalities for these disorders treatment must be precisely scheduled morning light exposure and evening melatonin administration cause circadian phaseadvance shifts evening light exposure and morning melatonin administration cause circadian phasedelay shifts totally blind individuals have 25hour circadian rhythms drifting an hour later each day unless they take a melatonin capsule at a certain time every day', 'harpdog brown is a singer and harmonica player who has been active in canadas blues scene since 1982 hailing from vancouver he crossed tens of thousands of miles playing club dates and festivals in canada the northwestern united states and germanyover the years he has issued seven cds in 1995 his home is where the harp is won the muddy award for the best nw blues release from the cascade blues association in portland oregon as well that year it was nominated for a canadian juno for the best bluesgospel recording teamed up with graham guest on piano his cd naturally was voted 1 canadian blues album of 2010 by the blind lemon surveybrown tours extensively with his guitarist j arthur edmonds performing their electric mid1950s chicago blues either as a duo or with the full band while he is home he juggles a few combos working many venues big and small he also leads the harpdog brown band which is a gutsy traditional chicago blues band in 2014 they released what it is comprising mainly original songs and a few classic covers influential blues promoter and broadcaster holger petersen called what it is browns best albumhe was just awarded the maple blues award in toronto for best harmonica player in canada 2014 and was honored with a life time membership to the hamilton blues society', 'franz rottensteiner born in waidmannsfeld lower austria austria on 18 january 1942 is an austrian publisher and critic in the fields of science fiction and the fantasticrottensteiner studied journalism english and history at the university of vienna receiving his doctorate in 1969 he served about fifteen years as librarian and editor at the sterreichisches institut fr bauforschung in vienna in addition he produced a number of translations into german of leading sf authors including herbert w franke stanislaw lem philip k dick kobo abe cordwainer smith brian w aldiss and the strugatski brothersin 1973 his new york anthology view from another shore of european science fiction introduced a number of continental authors to the englishreading public some of the authors in the work are stanislaw lem josef nesvadba gerard klein and jeanpierre andrevonthe year 1975 saw the start of his series die phantastischen romane for seven years it republished works of both lesser and betterknown writers as well as new ones ending with a total of 28 volumes in the years 19791985 he brought out trnaslations of h g wellss works in an eighteen volumes seriesrottensteiner provoked some controversy with his negative assessment of american science fiction what matters is the highest achievements and there the us has yet to produce a figure comparable to hg wells olaf stapledon karel apek or stanisaw lem rottensteiner describedroger zelazny barry n malzberg and robert silverberg as producing travesties of fiction and stated asimov is a typical nonwriter and heinlein and andersonare just banal however rottensteiner praised philip k dick listing him as one of the greatest sf writers from 1980 through 1998 he was advisor for suhrkamp verlags phantastische bibliothek which brought out some three hundred books in all he has edited about fifty anthologies produced two illustrated books the science fiction book 1975 und the fantasy book 1978 as well as working on numerous reference works on science fiction his close association with and promotion of lem until 1995 was a factor in the recognition of the latter in the united statesrottensteiner has been the editor of quarber merkur the leading german language critical journal of science fiction since 1963 in 2004 on the occasion of the hundredth number of this journal he was awarded a special kurdlawitzpreis', 'henry krvits born 30 december 1974 in tallinn better known by his stagename genka is an estonian rapper and record producergenka started rapping in 1996 along with revo and dj paul oja who was genkas schoolmate together they started a band called toe tag their first album the real kuhnja homophobes was released next year in 1998 genka and revo joined another estonian rap group arhm and toe tag went on vacation also genka started making his own solo songs the most famous hit was tallinn which was rapped along with droopy in 2001 during the same year toe tag came back together and started a big estonian tour in 2004 toe tag released their second studio album legendaarne legendary which consisted of 18 songs the most famous songs from the album were legendaarne and pankrot bankruptcy in 2006 genka and arhm released their new album leegion which had 23 songs the most famous songs from this album were palmisaar palm island and tugitooli gangster armchair gangstergenka and dj paul oja started their own record company legendaarne records also genka and arhm were the warmup performers for 50 cent on his 2007 europe promo tour for the curtis album in tallinn', 'sam henderson born october 18 1969 is an american cartoonist writer and expert on american comedy historyhenderson was born in woodstock new york he attended boiceville new yorks onteora high school graduating in 1987 and the school of visual arts in new york city where he graduated in 1991henderson has been selfpublishing xeroxed minicomics since 1980 in the midtolate 1980s he drew and published a comic called captain spaz with his friend bobby weiss the series ended in 1988 as he was busy in college in college he drew a series of minicomics featuring a character known as monroe simmons in 1993 he began selfpublishing his bestknown title the magic whistle now published by alternative comics also in 1993 he began the wordless comic strip scene but not heard starring a pink man and a red bear in nickelodeon magazine it was the magazines longestrunning comic strip a collection is due out in 2010in their review of magic whistle bigger larger and bigger the san antonio expressnews wrote that hendersons crude blobby little scratchings are some of the funniest junk being turned out henderson was nominated for the harvey awards special award for humor every year from 19992004in 2003 hendersons writing and storyboard directing work on spongebob squarepants earned him a nomination for best animated program for programming less than one hour in the 55th emmy awardshis earliest comic which was reprinted in magic whistle number 4 contained 5009 toilets 5009 penises sic and 5009 asses henderson currently lives in his hometown of woodstock new yorksince march 2010 hendersons comic magic whistle has been published weekly in niblit comics journal', 'aaron lacrate is an american music producer recording artist dj fashion designer of milkcrate records and milkcrate clothing and a film director he was born in baltimore maryland and grew up in highlandtown east baltimoreaaron lacrate is credited for popularizing baltimore music and culture on a world wide level via his music and clothing in 2009 aaron lacrate produced the first ever baltimore club platinum record for pop star dizzee rascals song road ragehbo commissioned milkcrate athletics and aaron lacrate to create the official fashion range for the baltimore based cable television series the wire this was first time that hbo collaborated with a streetwear fashion designer milkcrate athletics is baltimores first original streetwear brandaaron lacrate productions is credited for the early success of lily allen amanda blank spank rock mndr eliza doolittleat the age of 10 lacrate began experimenting with diy culture lacrate began djing at baltimore nightclubs house parties writing graffiti and even started making custom tshirts his first studio was in his basement where he created mixtapes and tshirts sold throughout baltimore lacrate was the youngest working dj in baltimore prior to attending syracuse university where he took over the campus music scene he spent his summers in new york city interning for def jam recordings payday and rocafella records helping launch jayzs classic reasonable doubt lacrate also played a vital role in the hard knock life tour and later produced the exclusive jay z x milkcrate fade to black collaboration tshirtin 1999 aaron lacrate and milkcrate athletics sponsored a highly successful series of live shows at nyc nightclub tramps featuring eminems first nyc show tribe called quest rakim slick ricks first show upon being released from prison outkast wutang clan epmd ultramagnetic mcs and many other historical performanceslacrate has produced and remixed official major label commissioned music for madonna gorillaz soulja boy tell em dizzee rascal young mc lily allen and the cool kids tracks from lacrates album bmore gutter music released in 2005 was used by marc jacobs in a fashion showlacrate has toured with lily allen mark ronson dizzee rascal rakim and most recently kanye west aaron has developed exclusive specialedition fashion collaborations with vans colette paris rakim hbo the wire jayz and cashmere king lucien pellatfinet lacrate has also collaborated with cocacola hbo delicious vinyl dazed confused and ferrariwhich ferrari his music has been featured on hbo the wire entourage life support dj hero videogame and on the soundtrack to observe and report starring seth rogenrecently lacrate released the first bmore major label record bmore club crack which features mr vegas eliza doolittle and local baltimore gutter artists including mz streamz and verb', 'trevor ferguson aka john farrow born 11 november 1947 is a canadian novelist who lives in hudson quebec he is the author of nine novels and four plays he has been called canadas best novelist both in books in canada and the toronto starborn in seaforth huron county ontario in 1947 he was raised in montreal from the age of three in his midteens he gravitated towards canadas northwest where he worked on railway gangs and also began to write working at night in the bunkhousesin his early twenties he travelled and worked throughout europe and the united states before returning to montreal to write he settled into driving a taxi by night and writing by day until the publication of his first novel high water chants in 1977 which dennis lee called one of the best in the language his second novel onyx john in 1985 received arguably the highest critical acclaim in the history of canadian literature leon rooke called it one of the five best novels of the twentieth century sixteen years later the novel would become a bestseller in france indeed his work is highly regarded in france where hes often cited as being one of the worlds preeminent writersextraordinary praise also awaited the publication of his third novel the kinkajou the timekeeper won the hugh maclennan prize for fiction and was developed into a film 1 a ninth novel river city was published in 2011 and the paperback at 1000 pages in 2012 the option for it to be a miniseries has been agreed upon as of november 2013 trevor fergusons next novel will be the river burns published by simon and schuster in april 2014city of ice written under the penname john farrow has been published in 17 countries the vancouver sun called the book the best ever produced in canada in genre fiction the second in the series ice lake caused the new york library journal booklist to claim that the series is among the very best in crime fiction today die ziet a major cultural newspaper in germany declared the series the best of all time river city was the third of the three and was equally well received a new trilogy of john farrow crime novels the storm murders has been sold to thomas dunne booksst martins press in new york the first will appear in 2015in 2002 trevor fergusons first play long long short long was produced by infinitheatre dir guy sprung in montreal and has become the first english play in history to be nominated by lacadmie qubcoise du theatre for a masque award for best text it returned to the stage in french in the fall of 2005 at place des arts in montreal and was seen by more than 20000 people his second play beach house burnt sienna was chosen to commemorate the tenth anniversary of village theatre west in hudson in 2002 coproduced with infinitheatre dir guy sprung it enjoyed a highly successful run a third play barnacle wood was produced in montreal also by infinitheatre in march 2004 his fourth play zarathustra said some things no opens with the bridge theatre company at studio 54 in new york city in april 2006 ferguson is a past chair of the writers union of canada he has been a writerinresidence at the university of alberta an invit dhonneur at the salon des livres in montreal and he was among the quebec authors invited as special guests of the paris book fair in 1999 in 2002 he was one of the few canadian writers invited to the festival of the americas in paris also in 2002 he served on the faculty of the may writers studio at the banff centre for the arts he frequently teaches creative writing at concordia university', 'grant nelson born 27 april 1971 in london also known as wishdokta bump flex and nng is an english dj remixer and record producernelson is heralded as one of the godfathers of uk garage due to his numerous club hits on his nice n ripe record label in the early 1990s it was his sound along with a few others that gave birth to the then known as sunday scene which evolved into uk garagehe also produced under the name wishdokta from 19901993 when he was producing breakbeat hardcoredrum and bass for the legendary london label kickin records in 1993 wishdokta teamed up with dj vibes and together they delivered some of happy hardcores biggest anthems on vibes asylum music inc and other labels including happy traxin 1997 nelson started using the alterego bump flex and began to produce uk 2step he delivered some of the scenes biggest records including funk on ah roll by james brown nelson has always remained a house head since his early nice n ripe days and continues to do so to the present with his swing city records label that consistently delivers top drawer house musicsome of the artists nelson has remixed and worked with include kelis jodeci misteeq aaliyah james brown the artful dodger jamiroquai lutricia mcneal thelma houston another level goldie roy ayers guy rosie gaines juliet roberts liberty x towa tei evelyn champagne king bebel gilberto negrocan beverley knight brand new heavies faithless simply red frankie knuckles and agnes', 'cathy caruth born 1955 is frank h t rhodes professor of humane letters at cornell university and is appointed in the departments of english and comparative literature she taught previously at yale and at emory university where she helped build the department of comparative literature she received her phd from yale university in 1988 and is the author of empirical truths and critical fictions locke wordsworth kant freud johns hopkins up 1991 unclaimed experience trauma narrative and history johns hopkins up 1996 literature in the ashes of history johns hopkins up 2013 and listening to trauma conversations with leaders in the theory and treatment of catastrophic experience johns hopkins up forthcoming 2014 she is also editor of trauma explorations in memory johns hopkins up 1995 and coeditor with deborash esch of critical encounters reference and responsibility in deconstructive writing rutgers university press 1995 robert jay lifton md describes her as one of the most innovative scholars on what we call trauma and on our ways of perceiving and conceptualizing that still mysterious phenomenon for a good discussion of both caruths work on trauma theory see roger luckhurst the trauma question and shoshana felman the juridical unconscious trials and traumas in the twentieth century harvard university press 2002 pp 173182 n3', 'sophia violet sophie crumb born september 27 1981 is an americanfrench comics artist she is the daughter of underground comix artists robert crumb and aline kominskycrumbcrumb was born in woodland california and lived in the nearby farming town of winters with her parents until she was nine years old in 1991 she relocated with her family to sauve a village in southern france her parents reported that they wanted to remove her from the political conservatives and christian fundamentalists of the united states in a 2010 interview sophie told the philadelphia inquirer that her mother was afraid sophie would turn into a valley girlit was after this relocation that terry zwigoff released crumb 1994 a critically acclaimed documentary film about sophies father and their family zwigoff later commissioned sophie to prepare some original drawings for inclusion in his 2001 comedydrama ghost world an adaptation of daniel clowes comics serial of the same nameafter completing her secondary education in france crumb studied acrobatics and clowning at a french circus school while living in brooklyn in the mid2000s she sold her comics on the street and apprenticed herself to a tattoo artist at another stage she earned a living by teaching english as a foreign languageshe lives in southern france with her husband a construction worker and their son eli who was born in 2009', 'jenn ashworth is an english writer she was born in 1982 in preston lancashire she has graduated from cambridge university and the manchester centre for new writing she previously worked as a librarian in a mens prisonshe founded the preston writers network later renamed as the central lancs writing hub and worked as its coordinator until it closed in january 2010 she has also taught creative writing at the centre for new writing at the university of manchester and at the university of central lancashireshe currently runs a literature consultancy called the writing smithy with the poet sarah hymas and works as an editor and mentor there she is also a lecturer in creative writing at the department of english and creative writing at the university of lancasterin march 2011 she was featured as one of the bbc culture shows best 12 new novelistsshe has written short stories and her first novel a kind of intimacy was published in february 2009 it is the story of a lonely woman failing to come to grips with reality unable to relate to others and full of selfdeception it contains strong elements of both comedy and tragedy and eventually violence this novel won a betty trask award in 2010two earlier novels are both unpublished one of them was lost as a result of a computer theft in 2004 however an extract from this lost novel was the winner of the 2003 quillercouch prize for creative writing at cambridge universityashworths 2011 novel cold light aims according to her own account to be dark and funny and odd this novel tells the story of three teenage girls one of whom dies with her boyfriend in suspicious circumstances the novel is set on the tenth anniversary of the death when a memorial summerhouse is built and another body is found a third novel the friday gospels published in january 2013 imagines a lancastrian family welcoming their son home from a twoyear mission for the church of jesus christ of latterday saints lds church jenn ashworth was herself brought up as member of the lds church but left the church in her teens', 'jonathan hoefler born august 22 1970 is an american typeface designer hoefler pronounced heffler founded the hoefler type foundry in 1989 a type foundry in new york in 1999 hoefler began working with type designer tobias frerejones and from 20052014 the company operated under the name hoefler frerejones until their public splithoefler has designed original typefaces for rolling stone magazine harpers bazaar the new york times magazine sports illustrated and esquire and several institutional clients including the solomon r guggenheim museum and alternative band they might be giants perhaps his bestknown work is the hoefler text family of typefaces designed for apple computer and now appearing as part of the macintosh operating system he also designed the current wordmark of the church of the latterday saintsin 1995 hoefler was named one of the forty most influential designers in america by id magazine and in 2002 the association typographique internationale atypi presented him with its most prestigious award the prix charles peignot for outstanding contributions to type design hoefler and frerejones have been profiled in the new york times time magazine and esquire magazine and appearances on national public radio and cbs sunday morninghoeflers work is part of the cooperhewitt national design museums permanent collection', 'anthony fitzhardinge gueterbock 18th baron berkeley and baron gueterbock obe ceng mice hon fimeche hon dsc frsa fcit born 20 september 1939 also known as tony berkeley is a british labour politician he is both an english hereditary peer and a life peerafter being educated at eton college gueterbock went up to trinity college cambridge where he graduated ma he then embarked upon a career in civil engineering joining george wimpey plc where he worked as an engineer until 1985 for the next ten years he worked as an engineer for eurotunnel 8595gueterbock inherited his ancestors ancient title of baron berkeley in 1992 succeeding his aunt mary foleyberkeley 17th baroness berkeley berkeley was created a life peer too in 2000 as baron gueterbock of cranford in the london borough of hillingdon so as to remain sitting as a labour peer in the house of lords following the removal of hereditary peers automatic right to seats in parliamentsince lord berkeley first entered the house of lords in 1992 he has held the positions of opposition spokesperson for transport 199697 and opposition whip 199697lord berkeley is the secretary of the all party parliamentary cycling group and has asked many questions in the house of lords on transport matters including about bicycles on trains berkeley has also tabled questions about police conduct with regards to civil liberties he has also questioned restrictions on peers being entitled to bring guests into the house of lordshe is chairman of the rail freight group the industry representative body of the rail freight sector and a board member of the european rail freight association he is also a trustee of plymouth marine laboratory he lives in polruan cornwalllord berkeley is president of the uk maritime pilots association and a harbour commissioner of the port of fowey', 'david chernushenko born june 1963 in calgary alberta is a politician professional speaker sustainability consultant and documentary filmmaker in ontario canada he was elected to ottawa city council in the 2010 municipal election and is running for reelection in 2014 he is the former senior deputy to the leader of the green party of canada and a former leadership contestant for that partya graduate of queens university political science and alumnus of cambridge university international relations chernushenko has worked for the canadian international development agency cida the canadian department of foreign affairs and international trade dfait and the united nations environment programme he has served on committees and boards of local housing and environment groups schools and health advisory bodieschernushenko is a green building professional accredited by the leed leadership in energy and environmental design certification program as owner of the consulting firm green gold inc since 1998 he has advised public private and nonprofit organizations on adopting more sustainable and socially responsible practicesfrom 1998 to 2004 chernushenko served on the international olympic committees commission on sport and the environment he has written several books on sustainable management practices including sustainable sport management unep 2001 and greening our games running sports events facilities that wont cost the earth centurion 1994 and the electronic publication greening campuses and their communities iisdacccunep 1996 in 2001 he cofounded clean air champions a national charity that engages athletes in raising awareness about air pollution climate change and the benefits of physical activity in canada he is a director of the sustainable ottawa energy cooperativehe was the green party candidate for ottawa centre in the 2004 federal election he finished fourth with 4730 votes 8 receiving more votes than any other green candidate in ottawa he ran again in ottawa centre in the 2006 federal election and again came fourth losing to paul dewar from the new democratic party ndp chernushenko received 6766 votes 102 the highest vote count of any green party candidate in canada the 2006 election he passed the 10 threshold thus becoming eligible for partial government reimbursement of campaign expenditures chernushenko was endorsed by the ottawa citizen newspaper in both the 2004 and 2006 elections he also ran as the green party candidate in ottawa south in the 2003 ontario general electionon november 10 2006 prime minister stephen harper appointed chernushenko to canadas national round table on the environment and the economy a nonpartisan panel that advises the federal government on environmental policy and works to promote the integrated pursuit of excellence in environmental social and economic practices in canadas public private and civil society sectors chernushenko served as a member on the nrtee from 2006 to 2009 and served as vicechair in 20082009chernushenko resigned as deputy leader of the green party in july 2007 in order to devote more time to his international consulting business and the nrtee and to make documentary films since then he has launched the living lightly multimedia project and produced three documentaries titled be the change 2008 powerful energy for everyone 2010 and bike city great city 2013chernushenko ran as city councillor for capital ward in the 2010 ottawa municipal election he won with 4134 of the vote he is running for reelection in 2014', 'joerg steineck is a german filmmaker editor and graphic designerartist who is based in berlinduring his study of film and design he produced a few short documentaries and fictional films in his films he often explores subcultures such as underground music genres and people who exist parallel to or on the edge of societyhe seeks to tell common but nevertheless extraordinary stories and generate unique audiovisual atmospheres steineck also works as a graphic artist and illustrator in his 84minute feature documentary truckfighters he combines creative elements to tell the story about a common swedish rock band in a most unconventional way truckfighters fuzzomentary attracted media attention due to guest appearances of well known musicians and bands including josh homme and fu manchu the release of his music documentary lo sound desert is set for 2012 trailers for this film are available on the internet since 2006 and have attracted attention of fans of the musical genre desert or stoner rock which is also a main topic in truckfighters steineck started his creative development with drawing painting and photographing during his childhood he shot his first film in the age of thirteen with a friends vhs camera steineck also contributes musical content from time to time to his electronic music project the gap influence', 'fr andrew pinsent born 19 august 1966 is research director of the ian ramsey centre for science and religion at oxford university a member of the theology faculty a research fellow of harris manchester college and a catholic priest of the diocese of arundel and brighton in england a focus of his present research is the application of insights from autism and social cognition to secondperson accounts of moral perception and character formation his previous scientific research contributed to the delphi experiment at cern and he is a coauthor of thirtyone publications of the collaborationfr pinsent has a first class degree in physics and a dphil in high energy physics from merton college oxford three degrees in philosophy and theology from the pontifical gregorian university in rome and a further phd in philosophy from saint louis university he is also a member of the united kingdom institute of physics and a tutor of the maryvale institute in birmingham he has been interviewed for various media including the bbc and ewtn on issues of science and faith he has also written for the catholic herald who identified him as a prominent young catholic his most recent book is the secondperson perspective in aquinass ethics virtues and gifts routledge 2012 besides academic publications he is a coauthor of the evangelium catechetical course and the credo apologia and lumen pocket books', 'paddy dunne was a gaelic football player from park in county laoishe played for many years on the laois senior football team in the centre half back position and was widely regarded as one of the outstanding players in ireland of the 1950swith his club park he was captain as they won two laois senior football championship titles in 1952 and 1953called up the laois team in 1949 following outstanding performances for his club park paddy was centre back on the laois team who were narrowly beaten by meath in the 1951 leinster football final he would still be there in his famous no 6 jersey when laois suffered another agonising defeat in the 1959 leinster football finalhe also played for his province leinster winning three consecutive railway cup medals in 1952 1953 and 1954 all on the field of play only one other laois player colm browne has managed to emulate this featdunne played for the rest of ireland xv in 1953 and 1954 he retired from all football following the 59 leinster final due to a recurring back problema lasting tribute to dunnes greatness in the famous blue white jersey was his selection at centre half back on the laois team of the millennium which was selected a few years backin 2008 dunne was selected to be inducted into the laois gaa hall of fame', 'alexandros mouzas born 1962 is a greek composer he studied composition with theodore antoniou advanced theory with haris xanthoudakis and electronic music with dimitris kamarotos he has composed for various ensembles and has received commissions from organizations and orchestrashe has collaborated with the choreographer konstantinos michos and the lathos kinissi dance group in many productions among them trisha never left home days of vironas papageno and calamity till the dawn and with airesis dance companyhis professional activities include imagerelated music he has written original music for short films television series documentaries and commercials for most of the greek television channelshe was the artistic director of the greek section of the european programme new media edge project 2003in 2004 he composed under commission by the athens 2004 organizing committee original music for the athens olympic games corporate videos his recent professional activities include production management of various important cd releases of greek orchestral music he is the manager and founding member of the ergon ensemblehe runs his own production company anax cultural projects he teaches music technology and film music at top schools in athenssince 1998 he has been a member of the board of directors of the greek composers unionnaxos music label released the cd with orchestral works titled music for an imaginary film performed by the sofia philharmonic orchestra', 'john angus campbell born march 10 1942 in portland oregon usa is a retired american professor of rhetoric and is a fellow of the center for science and culture a branch of the discovery institute a conservative christian think tank and of the international society for complexity information and design a professional society dedicated to the promotion of intelligent designcampbell served as an assistant and associate professor of communications at the university of washington from 19681995 and as a professor of communications at the university of memphis from 1995 until his retirement in 2005 together with stephen c meyer who is also a fellow of the center for science and culture he edited darwinism design and public education a collection of articles from the journal rhetoric and public affairscampbell was slated to appear as a witness for the defense in the kitzmiller v dover area school district trial but withdrew on june 2 2005 the day of his scheduled depositionin 2007 campbell ran for a seat on the school board in north mason county washington he offered his services to restore trust and establish transparency but did not disclose his links to intelligent design in a telephone interview he stated that he would not be dealing with curricula and that he is a darwinist who considers that debating darwin can engage the interest of students and improve their skills in critical thinking he was quoted as saying rather than demonizing people that believe in id i think there are ways people could use their ideas to study darwinism more closely the election was held on november 6 2007 and the unofficial results showed john campbell defeating the incumbent glenn landram by 2996 votes 6806 to 1406 3194 he currently serves on the schoolboard', 'chris batstone was the 20002002 lead singer of the thirdwave ska band suburban legends he joined the band in 2000 as the replacement for tim maurer who had left the band after the recording of origin edition chris first and only official recording with the band was on their first ep suburban legends released in 2001 chris has credits for cowriting the song i want more and desperate found on the ephe left the band in early 2002 reportedly he became increasingly dissatisfied with the direction the band was taking and decided to pursue other musical directions and an acting careerhe was replaced by tim maurer who rejoined the band in 2002 as the lead singer the band then rerecorded the vocal tracks on their selftitled ep with tim to create suburban legends tim remixchris batstone also recorded songs with the band on various compilations he can be found singing all the nights on supporting the scene compilation gummi bears on because we care a benefit for the childrens hospital of orange county compilation he produced and performed on suburban legends cover of rose tint my world singing along with aaron bertram dallas cook and vince walker on an unreleased tribute albumchris can also be seen in the video for i want more', 'ceiron thomas born 23 october 1983 is a welsh rugby union footballer currently playing for st ives rfc after signing from the cornish pirates in june 2012 his previous clubs are leeds carnegie and the scarlets his regular position is at flyhalf though he is often played at fullbackthomas began his rugby career with the llanellibased scarlets and made his debut for the region in 2003 when he played in a friendly against the slovenia national team llanelli won the game 950 scoring 14 tries with thomas converting eleven of them he also scored one penalty bringing his points total for the game to 25 in the 200304 season thomas made five appearances for llanelli including three in the 200304 celtic leaguehowever thomas did not play for the regional side again until april 2005 almost 18 months after his last appearance he made three more appearances in the 200405 season before falling out of favour and not making another appearance until april 2006 again he only made two more appearances in the 200506 season but managed to hold down a place in the side for the 200607 magners league sharing duties at fullback with barry davies and morgan stoddart he made 25 appearances that season and scored 110 pointsthomas began the 200708 magners league as the scarlets starting flyhalf while regular number 10 stephen jones was on wales duty at the 2007 rugby world cup in france but lost the berth to rival flyhalf rhys priestland before jones return in the 200809 magners league thomas spent much of his time on the bench playing secondfiddle to jones and priestland at flyhalf and the majority of his playing time was spent in other positions including two starts on the wing in december 2008 thomas only made six appearances for the scarlets in 2009 resulting in a transfer to leeds carnegie in june 2009', 'adel sellimi arabic was born on 16 november 1972 in the bab jedid district of tunis as a child he drew inspiration from the 1978 world cup team who became the first african nation to win a world cup match at the age of 10 he joined his first club club africain of tunis and he stayed there for the next 14 years picking up two tunisian league titles and one tunisia cup along the wayhis quick pace strength on the ball and creativity earned him a callup to the national team and he earned his first cap in september 1993 during a match against germany following a promising performance he carved out a virtually permanent place for himself in the countrys national team for the next eleven yearstunisians grew to appreciate his discretion in life outside football as a modest and determined professional on the pitch he singularly distinguished himself at international level during the 1996 african cup of nations finals in south africa as one of the best players of the tournament sellimi became a household name throughout the country a skillful and talented bright spark who carried the team to the final of the tournament for the second time in their history sellimi struck twice in the semifinal against zambia and was widely considered one of the best players in the tournamentthis movement into the limelight earned the player a transfer to french ligue 1 side fc nantes atlantique following another impressive showing at the 1996 olympic games in atlanta but his move to france marked the start of a long barren period although the nantes fans dubbed him the lung on account of the distance he clocked up during matches he never really settled in at his new club he hit just two goals in 30 appearances in his first season and failed to achieve the kind of success he had enjoyed back home in tunisia after another disappointing season in 199798 sellimi left nantes for spanish second division side real jan it was here that he got some firstclass matches under his belt and finally found form this surge in form earned him a callup to the 1998 world cup squad where he put in steady performances against england and romaniabundesliga side freiburg took a gamble on sellimi and partnered the player with other tunisian internationals anchorman zoubeir baya and fellow striker mehdi benslimane but here too he took a long time finding his true form and many at freiburg considered him a mistaken purchase during his first year however he proved his detractors wrong in the best possible way in the 19992000 season sellimi just could not stop scoring goals and even headed the bundesligas goalscoring list going into the winter breaka disappointing 2001 lead to sellimi missing out on the 2002 african cup of nations in mali and a number of international friendlies after a fallout with former national coach henri michel but the frenchmans replacement with ammar souayah coupled with the national teams goal drought brought about his recall the 2002 world cup in korea and japan turned out to be adel sellimis swansong in premier football competitions and he retired from international football shortly after the tournament at the age of 31 he returned to club africain shortly afterwards and is now head coach of jendouba sport in tunisia recently gaining promotion to ligue 1', 'faith soloway born march 28 1964 is an american folkrock musician comedic performer and creator of several folkrock musicals based in the boston area she studied theater at indiana university and performed improv comedy regularly along with leaving school to tour with second city she spent three years as music director for second city which led to the creation of soloways first original musical the real life brady bunch the show which premiered in 1990 was a collaboration with her sister jill soloway and it toured across the country both soloway sisters moved to hollywood briefly to produce television shows but faith soloway decided she was not interested in television work and in 1994 moved to cambridge massachusetts to pursue a songwriting careerafter performing at open mike nights as a solo musician soloway began producing a series of rock operas that were performed at club passim she started with the minimalist the principal and the potter which was followed by miss folk america which featured what became one of soloways signature songs queer in revere and debbie does falcon ridge both of which parodied the folk scene in 2000 soloway produced miss folk america at the somerville theater a larger venue this was followed by jesus has two mommies the title refers to the controversial childrens book heather has two mommies which featured such notable boston folk musicians as catie curtis and jennifer kimballsoloway also works at charles river creative arts program in dover massachusetts in the summer in the theater and music departments for the camp she has written the musicals harrie norbert beany is action man and hamletta with tom evans soloways lone solo album training wheels features her song lesbo song which is at once a statement of her sexuality and a tweaking of the earnest humorless stereotype of womens music her song sisters boyfriend was featured on the respond compilation a benefit for domestic violence causes she continues to perform with her band the faith soloway crisissoloways expartner writer harlyn aizley wrote a book entitled buying dad about the couples efforts to conceive a child via artificial insemination their daughter betsy was born in 2002 soloway wrote an essay betsy loves bobbies that will appear in a forthcoming anthology edited by aizley the other mother tales from the lesbian homefront or nonbiological mothers tell all after the couple separated soloway started work on a new show journey to the self one womans self journey her new partner carol rosenthal is very active in hollywood', 'tom jennings born 1955 as thomas daniel jennings in boston massachusetts is a los angelesbased artist and technician he is the creator of fidonet the first message and file networking system for bbses originally the fidonet protocols were implemented in a program named fido authored by jennings but they were ultimately implemented by other authors in other software to create a network using a multiplicity of platformsaside from creating the most influential protocol for networking computer bulletin boards jennings built wired magazines first internet presence wrote the portable bios that led to phoenix technologies bios ran an early regional internet service provider the little garden later incorporated as tlgnet inc and maintains an informal archive of cold war science and technologywhile he lived in san francisco from 1988 until 1991 jennings was the publisher and coeditor with deke nihilson of homocore one of the earliest queercore zines the name came from the pages of jds zine and featured musicians and writers such as the apostles steve abbott donna dresch larry livermore daniel nicoletta and gb jones the editors other activities such as organizing homocore shows where bands such as fugazi and beat happening appeared and writing for and creating other publications were instrumental in popularizing the queercore movement particularly on the west coast deke also performed in films such as the yoyo gang and had his own queercore band comrade in arms internationally homocore zine throughout its eight including the rarely seen issue 512 issues along with jds was influential in the rise of queercore as the zines found their way into the hands of queer punk kids across north america south america and europejennings currently resides in los angeles california with his partner josh stehlik he is faculty at calarts arttechnology program and also works as a technician at the university of california irvines arts computation engineering graduate program', 'victor john stasiuk born may 23 1929 is a retired canadian professional ice hockey left winger and a former nhl head coach stasiuk played junior hockey in his native lethbridge alberta before signing with the chicago black hawks he played sparingly in chicago and he was traded to the detroit red wings in 1951 for much of the early portion of his career stasiuk was viewed as a physical defensiveoriented forward on the offensiverich red wings stasiuk was often the odd man out and he spent significant time toiling in the minors with the indianapolis capitals and the edmonton flyers he won the stanley cup in 1952 and 1953 however in 1954 although stasiuk played 42 regular season games for detroit because he spent the playoffs in the minors his name was left off the stanley cup after the wings captured the league crown1in 1955 stasiuk was traded to the boston bruins and found instant chemistry with johnny bucyk and bronco horvath a grouping dubbed the uke line because of the ukrainian ancestry of the three players in 195758 this line became the first in nhl history to have all three participants reach the 20 goal mark now a formidable twoway presence stasiuk scored a career high 68 points in 1960 in 1961 he was traded back to detroit playing with this club until 1963 before finishing his career in the minors he played for the chicago black hawks detroit red wings and boston bruins he recorded 183 goals and 254 assists in 745 nhl games2 after retiring stasiuk moved to coaching he took over the pittsburgh hornets of the american hockey league for two seasons and later led the same leagues quebec aces to backtoback difficult losses in the calder cup finals stasiuk then earned a job with the philadelphia flyers his team finished out of the playoffs by a single point in 196970 then were eliminated in the first round of the postseason the next year stasiuk was fired after the 197071 season the flyers offered him a scouting position but he took a head coaching job three games into the nhl season with the california golden seals 3 stasiuk was fired after the season due to a stylistic conflict with management and he then spent one year behind the bench of the vancouver canucks before settling into a career in junior hockey coaching4', 'anthony caruana born 2 january 1968 is a melbourne australia based technology journalist who writes for australian macworld the australian broadcasting commission several titles from next media it wire and many other publications he was the chief editor of the anz section of techtarget from april 2011 to january 2012 where he regularly wrote articles for searchcio au he was also a regular contributor to the age for several yearshe was the founding editor of technology decisions a new technology magazine that launched in october 2012 and focuses on the needs of senior it executives and influencershe made his start as one of the original review team members for pocket pc thoughts before being given an opportunity to write product reviews for apc magazine under editor david flynnin addition to writing about technology caruana has appeared on the australian broadcasting corporations the business as a technology commentator as well as other nationally broadcast news and current affairs shows in australia he is also a regular on raf epsteins drive program on 774 local radio melbourne as part of the geek club segment that is on air every wednesday from 330pmsince early 2011 caruana has been blogging about how to run a successful freelance business at journo advice he regularly speaks at events about this topic and spoke at the melbourne freelance convention in march 2012', 'ian mitchell is a scottish author who grew up mainly in south africa he is the author of isles of the west a hebridean voyage and isles of the north a voyage to the realms of the norse both books are concerned with apparentlyvirtuous environmental ngos which operate in rural scotland but which in the point of view of the author actually do damage to it mitchell is a critic of bodies like the royal society for the protection of birds and scottish natural heritage and has compared aspects of their behavior to that of the nazismitchell was founder and director of an organisation called people too described by him as an organisation founded to defend rural communities from the imposts of centralized bureaucracymitchell has also written a book called the cost of a reputation about the aldingtontolstoy libel trial which took place in london in 1989 and concerned the claims that a controversial british army operation in may 1945 handed back tens of thousands of cossack and yugoslav refugees from stalin and tito for the most part illegally to the dictators the book mainly concerned the london trial at which mitchell claims lord aldington who had issued the illegal orders in 1945 as staff brigadier perjured himself in this as an exdeputy chairman of the conservative party he was assisted by both the foreign office and the ministry of defensemitchell lived for fifteen years on the hebridean island of islay where he has three children he now lives in moscow where he works as a journalist and has broadcast about books on the voice of russia on april 6 2007 he delivered a lecture seeing scotland historical places and themes at the ele public forum in moscow', 'leon duane hapgood born 7 august 1979is an english amateur footballer he has represented england schoolboyshapgood was born in torquay and began his career as an apprentice with torquay united scoring on his league debut in september 1997 while still an apprentice coming on as a 38th minute substitute for the injured steve mccall in the 30 win at plainmoor against brighton hove albion he turned professional in may 1998 but played only a peripheral role in wes saunders side the following season in june 1999 he was offered a threemonth contract by torquay but was released in august almost immediately teaming up with his former manager kevin hodges on trial at plymouth argyle he signed noncontract terms with the pilgrims but was allowed to join former torquay player sean william joyces bideford on loan in november 1999 on 7 february 2000 he joined conference side yeovil town after failing to break into the plymouth first teamin june 2000 he moved to taunton town managed by former torquay player russell musker playing as a substitute in tauntons 21 fa vase final win over berkhamsted town on 6 may 2001 at villa parkhe subsequently moved to merthyr tydfil in december 2001 at the of that season he moved to the united states to work as a coach returning to the uk to play for taunton in october 2002 he moved to bideford in february 2003 initially on loan as he recovered from injury and left bideford to join clevedon town in june 2004on 10 january 2007 he rejoined torquay united on an initial onemonth contract which was later extended for a second month however he was released by torquay on 11 march 2007 when his contract expired after starting the 20072008 season with liskeard athletic he subsequently rejoined bidefordhe is the great nephew of former arsenal and england left back eddie hapgoodleon hapgood resumed his north american coaching career in august 2008 with calgary foothills soccer club where he serves as academy manager', 'emily jordan osment born march 10 1992 is an american actress singer and songwriter born in los angeles california after working in several television films in her childhood she gained fame for costarring as the character gerti giggles in spy kids 2 island of lost dreams and spy kids 3d game over she went on to costar in the emmy awardnominated disney channel sitcom hannah montana as lilly truscott as well as the series movie hannah montana the movie she also starred as cassie in r l stines the haunting hour volume one dont think about it and the disney channel original movie dadnapped as melissa morris she most recently starred in the 2011 abc family original movie cyberbully the 2013 tv series cleaners produced for the online service crackle and the 2014 lifetime movie a daughters nightmare she currently stars in the abc family television series young hungry 2014 as gabi diamondosment expanded her repertoire into pop music and more recently alternativeindie rock where she has recorded teen pop hits like i dont think about it if i didnt have you alongside her hannah montana costar mitchel musso and most recently once upon a dreamosments debut album fight or flight was released on october 5 2010 via windup records and it features lead single lets be friends which was released june 8 2010 the second single off the album was entitled lovesick and was released on october 19 2010', 'dominick a dom flora born june 12 1935 is an american former college basketball standout at washington and lee university wl located in lexington virginia flora played for the wl generals from 195455 to 195758 dom flora was a native of jersey city new jersey and played high school basketball for william l dickinson high schoola point guard flora was an explosive scorer whose accurate jump shot and crisp ballhandling ability helped him average 21 points per game for his career he was able to score despite being double and tripleteamed by opposing defenses and his aggressive style of play led him to become one of the most prolific free throw shooters in ncaa division i history as of the conclusion of the 201112 season floras 696 free throws made are still in the top 25 alltime in division i history he shot 696for954 730 in 109 career games played as a senior in 195758 flora was named the southern conference player of the year the virginia big six player of the year and a first team allamerica selection by the helms foundation he also earned his second straight first team allsouthern conference selection when his career ended flora finished with 2310 points which at the time was the fifthhighest total in ncaa history he also played baseball all four years while at wlbill brill a sports writer for the roanoke times world news once wrote about floraflora left the fans gasping with one bit of razzledazzle on which he dribbled with his left hand jumped into the air switched the ball behind his back to his right hand and made a jump shot it was worth the price of admission', 'theodore preston hill born december 28 1943 is an american mathematician known for his research on mathematical probability theory in particular for his work on benfords law and for his work in the theories of optimal stopping secretary problems and fair divisionborn in flatbush new york he studied at the united states military academy at west point distinguished graduate of the class of 1966 and stanford university ms in operations research after surviving the us army ranger school and serving as an army captain in the combat engineers of the 25th infantry division in vietnam he returned to study mathematics at the university of gttingen fulbright scholar the university of california at berkeley ma phd under advisor lester dubins and as natonsf postdoctoral fellow at leiden universityhe spent most of his career as a professor in the school of mathematics at the georgia institute of technology with temporary appointments at washington university tel aviv university the university of hawaii the university of gttingen fulbright professor the university of costa rica the free university of amsterdam the mexican centre for mathematical research cimat and as gauss professor in the gttingen academy of sciences he is currently professor emeritus of mathematics at georgia institute of technology adjunct professor of electrical and computer engineering at the university of new mexico and research scholar in residence at california polytechnic state university san luis obispo', 'mindaugas gervaldas until 2012 year mindaugas murza born december 16 1973 is an antisemitic lithuanian politician a radical nationalist former member of the national democratic party lithuania former member of the lithuanian national defence volunteer forces a lithuanian government sponsored paramilitary organization a one time leader of the neonazi national socialist party and member of iauliai city municipality council he is known for his antisemitic statementsin 1998 gervaldas and other members of his party lithuanian alliance of nationalistsocialist unity in their publications voice of the nation attacked lithuanias minorities of jews poles and russians and demanded that conditions for these minorities be made so unbearable so that they would leave lithuania in 2001 he attempted to revive moribund logic of life party gyvenimo logikos partija when registration for the national socialist alliance was refusedin april 2005 gervaldas passed plans to establish a new political party called the unified lithuanian national workers movement its aims would be to encompass up to 3 of the population eventually and win in the next municipal elections to iauliai city council at the creation of new party mindaugas murza compared globalism to zionism which led to investigation against him being carried out by lithuanian prosecutors on basis of preaching hatred antisemitism on april 12 2005 police seized hard drives from gervaldass personal computer and computers of his colleagues for legal reasons prosecution pending the court did not allow mindaugas murza to change his name to mindaugas gervaldason november 19 2011 he married russian citizen zlata rapova the marriage was conducted using neopagan rituals', 'robert scott reece born january 5 1951 is an american former professional baseball player a catcher he was a graduate of stanford university and spent nine seasons in the minor league system of the montreal expos playing in nine games in the major leagues for montreal at the beginning and the end of the 1978 season he threw and batted righthanded stood 6 feet 1 inch 185 m tall and weighed 190 pounds 86 kgreece was signed by the expos as a nondrafted free agent in 1973 he reached the triplea level in 1975 as a member of the memphis blues of the international league then the expos top farm system affiliate the following season montreal signed a player development contract with the denver bears of the american association and reece would spend all or parts of six years as a member of the bearsin 1978 reece batted a careerhigh 296 in 47 games for denver in between his major league trial with the expos he played rarely for montreal appearing in a total of seven games between april and early june on may 7 his third big league game reece collected his first mlb hit run scored and run batted in when he doubled off relief pitcher dave tomlin during a 195 rout of the cincinnati reds at riverfront stadiumhe started his first mlb game at catcher two days later during the second game of a doubleheader against the atlanta braves he was held hitless in two at bats by future hall of famer phil niekro then was pinch hit for by the expos regular catcher another future hall of famer gary carter during his lateseason stint with the expos reece got into two september gamesin the second of those on september 16 he singled off don robinson of the pittsburgh pirates for his second and final mlb hit in his final bigleague appearancereece started three of the mlb games in which he played he collected two hits in 11 atbats with no bases on balls striking out four times his minor league career ended after the 1981 season and 672 games played', 'douglas james davies born 1947 is professor in the study of religion in the department of theology and religion at the university of durham he is an authority in the history theology and sociology of death his fields of expertise also include anthropology the study of religion the rituals and beliefs surrounding funerary rites and cremation around the globe and mormonism his research interests cover identity and belief and anglican leadershipborn in wales he read two bachelor of arts degrees at st johns college university of durham before doing his phd at the university of nottingham he then achieved both master and doctor of letters at oxford university and has recently been awarded an honorary doctorate of theology from uppsala university sweden one book reusing old graves a report on popular british attitudes which he cowrote with alastair shaw won the 1995 booksellerdiagram prize for oddest title of the yearhis current projects include writings on the encyclopedia of cremation the clergy and british society 19402000 a brief history of death innerspeech and prayer and ritual purityhe has also published a large number of articles on death and contemporary christianityprofessor davies has been involved with various editorial boards and conferences including the editorial board of mortality and the british sociological association religion group chairman 20002003 he was also guest speaker at both the scandinavian sociological society conference in 2004 and the international cremation federation conference in barcelona 2003within the university of durham he teaches three undergraduate modules study of religion death ritual and belief and theology and anthropology he also teaches ritual symbolism and belief to those studying a taught masters degree in theologyhe is a member of the senior common room of st chads college durham', 'freimut brngen born october 17 1930 is a german astronomer a few sources give his first name wrongly as freimuthhe has studied galaxies with the schmidt telescope at the karl schwarzschild observatory in tautenburg germany in 1995 he retired but continues to work as a freelancer for the observatory as a byproduct of his work he has discovered numerous asteroids 519 as of july 2006 the research on asteroids had to be done in his spare time as the search for small objects was not considered prestigious enough by the gdr research managers during the gdr regime brngen restricted himself to politically neutral names for his asteroids such as topics related to thuringia or famous scientists and composers examples include 2424 tautenburg 3181 ahnert 3245 jensch or 3941 haydn after the german reunification he chose systematically historical cultural scientific and geographical namings and at times honoured amateur astronomers other names include references to resistance fighters against the nazi suppression or document a religious interestfreimut brngen has achieved great reputation in the international scientific community for his human qualities and the wellsubstantiated choice of names the iau honoured him with asteroid 3859 brngen which was discovered by e bowell at the anderson mesa station of the lowell observatory arizonain the year 2006 he was also awarded the bundesverdienstkreuz am bande cross of merit on ribbon by german federal president horst khler', 'thring brm born 10 april 1944 is a swiss composer and conductorbrm graduated from a high school in basel he then studied piano conducting and composition in basel and musicology at the university of basel and the university of heidelberg he worked as a conductor and rptiteur at the curtis institute of music the aspen music festival and school and holds a master of arts in composition from the university of california berkeleyfrom 1973 to 1987 he was a member of the board of the city of basel music academy and from 1987 to 1999 director of the conservatory of lucerne from 1999 to 2001 he was founding rector of the lucerne college of music from 2000 to 2006 he was a board member of the association europenne des conservatoire he is a member of the research council of the swiss national science foundationfrom 1984 to 1990 he was president of the jeunesses musicales de suissebrm was from 1987 to 2006 chief conductor of the junge philharmonie zentralschweiz he is head of the regio choir binningenbasel and a regular guest conductor of the chamber philharmonic pardubice he gave master classes in the czech republic slovakia and argentinahe is a jury member of the concours de musique du festival de fribourg and the sacred johannes brahms chamber music competition of the music academy in gdanskbrm was influenced by composers such as anton webern pierre boulez and john cagehe composed more than 100 works among his most famous compositions include the angelus silesius cantata the requiem for cs and litteri un schatt luci e ombre as a guest composer he worked variously at the hokuto international music festival and with the swiss groupe lacroix and the german ensemble sortisatio on a cd called 8 pieces on paul klee in honor to the painter paul klee', 'aharon solomons b september 27 1939 is a freediver and national record holderborn ernest henry child simpson solomons is the son and only child of ernest aldrich simpson and his third wife the former mary raffray ne mary huntemuller kirk his father was a partner with the shipping brokerage firm simpson spence young and best known as the second husband of wallis simpson who later married the former edward viii of the united kingdom solomons was born and baptised as ernest henry child simpson at guards chapel wellington barracks london england his mother died in 1941 and his father died in 1958 the same year ernest hc simpson changed his name to aharon solomons solomons spent the early years of his childhood in the uk india and with friends of his father in pennsylvania us he returned to the uk in 1946 and attended westbourne house school in sussex england then harrow school and finally institut le rosey in switzerlandin 1957 he was inducted into his fathers regiment the coldstream guards and was commissioned as an officer in the intelligence corps and served in the middle east in 1962 solomons moved to israel and joined the israeli defense forces where he saw action in 196768 and on the golan heights in 1973 he married joy corisande jackson april 25 1932 september 22 2010 in 1960 they had two sons uri b 1964 and nadav b 1965the solomons lived for ten years on communal agricultural settlements and then in rosh pinna from 1975 he traveled in the sinai greece micronesia and mexico where he settled for a time he taught scuba for many years in eilat in 1992 he met francisco ferreras pipin and trained with him in cuba in the no limits and constant weight disciplines of freedivingsolomons married mariateresa mt solomons in 1997 and had another son zeev in 1998 the solomons are currently separated but work and train together in the freedivers association solomons and his wife were members of the israeli freediving team in ibiza in 2001 and mt was on the uk team in egypt in 2008 both are aida instructor trainers and teach in israel the turks and caicos greece and mexicomarcus greatwood aharons student quotes aharons ideology as a foundation of his system of freediving', 'steven weil is an american rabbi who grew up on a cattle farm in upstate new york he attended ohr torah high school and yeshivat kerem byavneh in israel and yeshiva university in new york he was ordained at the rabbi isaac elchanan theological seminary and earned a masters in business administration from new york university stern school of businessweil became rabbi of the young israel of oak park michigan and then at beth jacob congregation in beverly hills california in both synagogues he substantially increased membership and expanded programming he has delivered invocations for president george h w bush vice president dick cheney governor arnold schwarzenegger and beverly hills mayors stephen h webb and jimmy delshad he has served internationally as scholar in residence while visiting congregations across the country and strongly advocating for israel and jewish education he has worked closely with leaders in the american israel public affairs committee and has worked with the beth medrash govoha of lakewood township new jerseyin his term as rabbi of beth jacob congregation weil increased membership by over 250 families to 750 families he increased the congregations endowment fund and was considered the most successful fundraiser in southern californiaweil currently resides in teaneck new jersey with his wife yael their three boys and four girls', 'gary emineth born october 24 1958 is a political figure in the us state of north dakota serving as the chairman of the north dakota republican party since july 2007s retirement of ken karls he was chosen at the partys committee meeting in fargo north dakota in july 2007in the 2010 election he led the north dakota republican party as every single republican candidate for statewide office won election including us representative and us senator during both of his terms as state party chairman republicans significantly increased their majorities in both houses of the state legislature republicans currently lead the house by a 6925 margin and the senate by a 3512 marginin a letter to the members of the republican national committee he wrote as a former finance director executive director finance chairman and finally party chairman i learned one thingit wasnt about me it was all about getting all the pieces in place and setting the wheels in motion so that the victory train would come rolling into the station exactly on time with republican candidates on board to be a successful chairman is first and foremost to know your job description and not become distracted by the siren songs heard inside the beltway 1', 'timothy grucza born 1 july 1976 melbourne australia is a cameraman and documentary film maker he is best known for his work in conflict zones such as iraq and afghanistan he is currently based in paris francegrucza began his career in australia working on issues in the south pacific including civil unrest in west papua in 1999 he documented repatriated kosovan australian refugees who had escaped the war in kosovo and were granted safe haven in australia he began covering iraq in 2002 when he entered the kurdish enclave in the north of the country during the 2003 invasion of iraq grucza worked as a correspondent for the french network canal since then he has worked extensively in iraq israel and the palestinian territories pakistan and afghanistan for pbs frontlinein 2006 along with yuri maldavsky grucza released his first feature length documentary film named white platoon aka la section white the film is a unique look at a platoon of soldiers who spend one year in baghdad entering as idealistic young men and leaving as cynical sometimes bitter veterans the film won best feature length documentary at the banff world television festival and was selected for the hot docs canadian international documentary film festivalin 2009 grucza was awarded a news and documentary emmy for outstanding individual achievement in a craft cinematography for his work on the frontline documentary the war briefinghe continues to produce his own films and pieces for frontline', 'robert bruce bob adams born august 15 1946 in stockton california is a former professional american football tight end in the national football league and an official within the church of scientology he attended el camino high school during the 1960s and was encouraged by a coach at the college of san mateo to play football he played for a single season at the college during 1966 while participating in other sports at the school including trackandfield and basketball a former coach of the college of san mateo doug scovil recruited adams to the college of the pacific where he received a full scholarship to play football there by 1968 he was captain of the teams offense at the schoolhe was not drafted by the national football league and was signed as a free agent with the pittsburgh steelers where he played under coach chuck noll in 1973 while a member of the pittsburgh steelers adams became a scientologist he said applying scientology methodology helped his performance playing football after seven years with the national football league adams finished his procareer as a member of the atlanta falcons he subsequently took up other professions including owning a fitness center in redwood city california being a consultant for high tech companies and working as a teacherin 2004 adams served within the scientology organization as senior vice president of its association for better living and education able a nonprofit founded by scientology members in 1988 to supervise the secular programs narconon criminon the way to happiness and applied scholastics by 2006 he had become a media executive and vice president of the church of scientology and worked out of the organizations facilities in hollywood california he represented the church of scientology at the 2006 conference of the religion newswriters association in utah adams held the position of vice president of public affairs for the church of scientology international in 2009 and was a reverend within the organization he traveled to melbourne australia in december 2009 for the world religions conference he continued to serve as vice president of the church of scientology international in 2010 and was one of four officials listed as spokespersons for the church', 'sylvie roy born november 4 1964 in la tuque quebec is a politician in quebec canada and the coalition avenir qubec member of the national assembly for the electoral district of arthabaska she previously represented the riding of lotbinire from 2003 until 2012 initially as a member of the nowdefunct adq until the merger of that party into the caq in 2012she was awarded a law degree from universit laval in 1987 and admitted to the barreau du qubec in 1988 she was lawyer for 15 years including 12 years for mental health organizations in mauricie she served as mayor of saintsophiedelvrard from 1998 to 2003 she also worked for the bcancour regional county municipality quebecroy was first elected to the national assembly in the 2003 election with 37 of the voteparti qubcois pq incumbent jeanguy par finished third with 26 of the votein the 2007 election roy was easily reelected with 59 of the vote liberal candidate laurent boissonneault finished second with 22 of the voteon march 29 2007 roy was appointed deputy official opposition house leaderin the 2008 election roy won reelection with 44 of the vote even though her partys support sharply declined and party leader mario dumont announced his resignation on february 27 2009 she was named the interim leader of the adq until gilles taillon became the permanent leader later that year the adq merged with the caq in 2012 and roy was reelected in the 2012 election', 'rob sheffield born february 2 1966 is an american music journalist and author he is currently a contributing editor at rolling stone writing music reviews and essays on pop culture prior to that he was a contributing editor at blender before the print version of the magazine folded in 2009 and at spin a native of boston sheffield attended yale and the university of virginiahis first book love is a mix tape life and loss one song at a time an excerpt of which was featured in the january 2007 issue of gq was released by random house in january 2007 it received starred reviews in publishers weekly and library journalmost of love is a mix tape takes place in charlottesville virginia where sheffield met and married his late wife rene crist a fellow dj at radio station wtju and continues in new york city after crists death in 1997 the couple had no childrensheffield remarried in 2006 and lives in brooklyn new yorksheffields second book released in july 2010 is called talking to girls about duran duran one young mans quest for true love and a cooler haircutsheffields third book released in august 2013 is called turn around bright eyes the rituals of love and karaoke and discusses how he met and fell in love with ally the woman who would become his second wife thanks to their mutual love of music', 'professor michel che born in lyon france completed his doctorate epr study of titanium dioxide in 1968 at the university of lyon and studied as a postdoctoral fellow at princeton university 196971 he was appointed professor at university of paris vi pierre et marie curie in 1975 and senior member of the institut universitaire de france in 1995his work has led to around 400 publications in international journals he has been very active in the promotion and organisation of catalysis being the presidentfounder of efcats european federation of catalysis societies with creation in 1993 of the cycle of the now famous biennial europacat congresses and president of iacs international association of catalysis societies in 200004 culminating with the organisation and opening of the 13th international congress on catalysis in paris in 2004his research activity has been largely devoted to catalysis processes involving gassolid liquidsolid and solidsolid interfaces he has pioneered a molecular approach to heterogeneous catalysis based on transition elements taken as probes specific isotopes and physical techniques which provided him with an original position in the field his work has led to the emergence of interfacial coordination chemistry at the junction of colloidal electro supramolecular geo and solidstate chemistries his studies have largely contributed to improve understanding of the elementary processes involved in laboratoryindustrial catalysis and particularly watermediated assemblies in catalyst preparationmichel ches awards include j h vant hoff netherlands japan society for the promotion of science japan m sklodowskacurie and p curie poland a joannides and p sue france von humboldt gaylussac germany he is doctor honoris causa of several universities cracow poland lisbon portugal bucharest romania and member of several highranking academies eg academia europaea deutsche akademie der naturforscher leopoldinain 2014 he was awarded the royal society of chemistrys faraday lectureship prize', 'jaafar aksikas born 1974 in azemmour morocco is an american academic and cultural critic he holds a phd in cultural studies from george mason university an ma in the humanities and comparative literary studies from al akhawayn university morocco and a ba in english language and literature from chouaib doukkali university morocco he is currently associate professor of cultural studies at columbia college chicago united states he is also president of the cultural studies association his books and edited volumes includecultural studies ofand the law edited with sean johnson andrews 2014arab modernities2009 the sirah of antar an islamic interpretation of arab and islamic history 2002his other publications includeculture industries critical interventions 2011 an inaugural special journal issue on the culture and media industries for the journal lateral critical purchase in neoliberal times a special journal issue on engaged and communitybased forms of cultural studies scholarship for the journal lateralhis work has appeared in several scholarly journals including cultural studies reviews in cultural theory lateral mediterranean politics and cultuur en migratie aksikas has taught and published widely in the fields of cultural studies mediaculture industry studies critical legal studies american studies and middle eastern studies he also serves on the editorial boards of cultural studies and lateral journals he has received numerous awards including the george mason university vision award 2003 and the marquis who is who in america award 2010 he also holds membership at the phi beta delta honor society for international scholarshe is the founding general editor of cultural landscapes the founding coordinator of the cultural studies colloquium series at columbia college chicago and he serves as a member of the illinois network on islam and muslim societies he also serves as consultant for lawyers and the media on middle eastern and north african societies cultures and politics', 'will m tuttle born 1953 is an american writer speaker and musician and author of the amazon 1 bestseller the world peace diethe is the cofounder with judy carman of the circle of compassion and the worldwide prayer circle for animals he has lectured through unity church and other new thought and progressive centers throughout north america since 1990 and was the first guest of animal rights zone in 2010 he made an international debut in august 1995 at the 8th international vegan festival in san diego where he performed inspirational classical music and spoke about inner and outer peace and harmony in the context of a vegan diet tuttle is a former zen monk who studied in korea he obtained his bachelors degree in administrative science with an emphasis of literature and music from colby college waterville maine in 1975 his masters degree in humanities from san francisco state university and his phd from the university of california berkeley specializing in the philosophy of education he is a frequent speaker at vegetarian spiritual and animal rights conferences and at local vegetarian societies he and steve prussack organized the veganpalooza online audio conference 1115 june 2012 and has organized other online events and conference calls on the theme of veganism and world peace tuttle has been a vegan since 1980', 'dr vanessa theme ament born january 8 1955 in glendale california is an american author academic foley artist and musician best known for her 2009 book updated in 2014 the foley grail published by focal press elsevier the first mainstream academic text explicitly concerned with the history and development of as well as the personalities behind the art of foley she is currently the edmund f and virginia b ball endowed chair professor of telecommunications at ball state university ament is well known also for her 1989 appearance on the television program late night with david letterman the only foley artist ever invited as a guest though she started her career as an actress singer and dancer ament achieved success in the world of foley and postproduction sound after gaining experience in television shows such as knots landing dallas and cagney lacey working on such major films of the 1980s and 1990s as prizzis honor platoon predator die hard beauty and the beast noises off batman returns and a goofy movie her exhusband david edwin stone is an academy awardwinning sound editor having won in 1993 for his work in bram stokers dracula despite her success in the film industry ament has also taught in primary schools since 1978 and in universities including depaul university georgia state university ball state university columbia college chicago and cuesta college since 2001 has an mdiv from starr king school for the ministry 1990 and a phd in moving image studies from georgia state university 2014 and released a jazz cd in 2004 entitled working without a net she also lent her voice and songwriting to the 1999 film foreign correspondents which featured her song every other night', 'marc anthony logan born may 9 1965 is a former american football running back that played ncaa d1a before playing in the nflmarc weighs in at 60 228 lbs marc attended the university of kentucky in college wearing the number 25 at kentucky marc enjoyed four very successful seasons leading his team in receptions in his sophomore junior and senior years as a sophomore in the 1985 hall of fame bowl marc scored two touchdowns on just five plays in his mvp performance setting two ncaa bowl records for the longest kick return 85 yards as well as the longest play from scrimmage 63 yards his kickoff return record still stands today marc was selected in the fifth round of the 1987 nfl draft by the cincinnati bengals he then went on to play eleven years in the national football league from 1987 to 1997 for the bengals miami dolphins san francisco 49ers and washington redskins throughout his career marc rushed for 1391 yards on 325 carries averaging 44 yards per carry with 15 tds marc also had 123 receptions for 1135 yards averaging 92 yards per reception with 3 tds he also added 1830 yards on 89 returns averaging 206 yards with 1 td he played in super bowl xxiii for the bengals and was a part of the super bowl xxix winning san francisco 49ers', 'corey woolfolk born february 26 1983 in ann arbor michigan is a former american soccer forwardwoolfolk attended pioneer high school where he was a 1996 first team all state and nscaa high school all american he then attended stanford university where he played on the mens soccer team from 1997 to 2000 he graduated with a bachelor degree in urban planning on february 6 2001 the san jose earthquakes drafted woolfolk in the 5th round 49th overall in the 2001 mls superdraft he played seven preseason games scoring four goals the earthquakes waived woolfolk on may 30 2001 to free up a roster spot for landon donovan on june 18 2001 woolfolk signed with the minnesota thunder in the usl aleague he broke his foot in 2002 and lost most of the season playing part of the time with the dayton gemini of the premier development league and serving as an assistant coach with the university of michigan mens soccer team in 2003 he played for the pittsburgh riverhounds then in 2004 he moved to the rochester rhinos in 2005 he joined the puerto rico islanders where he was the teams second leading scorer with nine goals on february 1 2006 he signed with the vancouver whitecaps he suffered a stress fracture in the preseason and played only one game before with vancouver the team released him in december 2006 in 2007 he played three games for the atlanta silverbacks', 'professor lyrical is a hip hop artist from lowell massachusetts who also teaches college his 2005 album infiniti won for album of the year in the mic hip hop awards in bostonhe is a fulltime lecturer at northeastern university and has been an adjunct professor at several other schools parttime in massachusetts primarily in the areas of math and entertainment including a hip hop course at lasell college entertainment courses at bay state college and math courses at new england arts institute his latest 82013 album put em all to shame is both an album and a book and they appear together as the worlds first albook the book is entitled put em all to shame the curriculum he speaks and performs regularly at many different venues but primarily at colleges and universities he received a bs and an ms mathematics from umasslowell lyrical is a doctoral candidate at northeastern in the early and mid 1990s he competed in several invitation only freestyle battles such as the battle for world supremacy in nyc and the universal zulu nation east coast finals he went on to win many more in the years to follow he is part of the mass industry committee which also created 617live tv lyrical has filled in for fellow boston rapper akrobatik on jamn 945 to perform the daily sports rap up part of the highly rated morning show on occasion when akrobatik has been unavailable he has appeared on many different radio segments television shows news programs and even movies', 'michelle ye or ye xuan born february 14 1980 is a chinese actress and producer in 1999 she won the miss chinese international competition ye then signed a contract with tvb from 1999 to 2005 after she left tvb she signed with rich famous talent management group limited to pursue a movie careerye is fluent in cantonese english and mandarin she immigrated to the united states at age 10 she attended john dewey high school where she won first place at the international science and engineering fair in the botany sector 1998 she was a scholarship student at wellesley college but left before graduating to pursue a career in the entertainment industryin july 1999 ye accepted a contract offered by tvb after winning the miss chinese international pageant she had a number of leading roles in dramas such as eternal happiness triumph in the skies and lost in the chamber of loveye has worked as a host and mcin 2004 she was tvbs onsite reporter at the olympic games in athens additionally she was the mc for a special midautumn evening broadcast on cctvshe left tvb in june 2005 and moved on to rich famous one month after to get more exposure in the movie industry ye also starred in a few series with atv china productions and icableye published an autobiography titled shang shan ruo shui xuan gong lue in july 2006apart from her acting career she is currently owner and chairman of a production company michelle ye studioszhejiang bohai television ltd owner of a sushi restaurant and vice president of the hengdian film association', 'robert neil chatigny born 1952 taunton ma is a federal judge for the united states district court for the district of connecticut having served on the court from 1994 to the present judge chatigny was nominated to the court by president bill clinton on august 5 1994 to a seat vacated by warren w eginton confirmed by the united states senate on september 28 1994 and received his commission on september 29 1994 he has served as chief judge of the court from 2003 to september 2009 judge chatigny received an ab from brown university in 1973 and a jd from georgetown university law center in 1978 where he was case and note editor of the georgetown law journal he served as a law clerk to three different judges samuel conti of the us district court for the northern district of california 19791980 jose cabranes of the us district court for the district of connecticut 1980 and jon o newman of the us court of appeals for the 2nd circuit 19801981judge chatigny was elected to the house of delegates of the connecticut bar association and has served on the executive committee of the federal practice section he advised the federal courts study committee tasked with developing longrange plans for the federal judiciary the university of connecticut school of law awarded him the center for childrens advocacy childrens justice award in 2008he gained national attention in 2005 when he delayed the execution of michael bruce ross in order to determine if he was competent to waive challenges to his death sentence and potentially prevent a violation of the eighth amendments prohibition on cruel and unusual punishment ross was subsequently found competent to waive his rights and was executed the prosecution filed a complaint against judge chatigny that was dismissed by the second circuit judicial council in a 24page decision on july 26 2006judge chatigny has been nominated by president barack obama to a seat on the second circuit court of appeals the nomination received a unanimous rating of well qualified from the american bar associations standing committee on the federal judiciary and the us judiciary committee approved the nomination on june 10 2010 on an 117 partyline vote no date was set for full senate considerationopposition to the nomination has centered upon judicial restraint and attitude toward sexual offenders on march 5 2010 one of the prosecutors in the ross case michael e ohara supervisory assistant states attorney for the state of connecticut wrote a 12page letter to the u s senate judiciary committee to elaborate upon the complaint that was filed and dismissed in 20052006 stating that judge chatignys actions certainly call into questions sic judge chatignys fitness to serve on the united states court of appeals for the second circuit a may 26 2010 washington times editorial enumerated 1 that chatigny served as cocounsel for director woody allen when he unsuccessfully complained against a prosecutor who had publicly stated he had probable cause grounds for allens reportedly abusing a minor stepchild 2 that judge chatigny was reversed by the us supreme court in 2001 when the judge tried to rule against one aspect of his states version of a megans law sexoffender registry 3 that the sentences imposed by judge chatigny in 12 childpornography cases were either at or more lenient than the recommended minimum with most downward departures involving sentences less than half as long and 4 that in the ross case judge chatigny threatened to take away an attorneys law license if the lawyer failed to appeal the death sentence of an eighttime murderer of girls and young women the judge claimed the killers sexual sadism was a mental disorder that made the murderer himself a victimsupport for the nomination includes three republican former appointees as us attorney for the district of connecticut who said in a letter to the judiciary committee in april 2010 that they support without any reservation this nomination they wrote while each of us has dealt with judge chatigny under different circumstances we have found him to be even tempered thorough and without agenda we believe that he is a fair minded and impartial judge who has appropriate fitness and temperament for the appellate court we believe that a close examination of judge chatignys record in sentencing federal criminal defendants shows that he is appropriately sensitive to the facts of the person before him and the rights of victims of the crimes that have been committed indeed it is our understanding that the government has never filed an appeal from judge chatignys sentencings and that there has only been one defendant who has appealed from an upward departure we are of the strong opinion that judge chatignys record on the bench makes him an outstanding and very qualified candidate seventeen former federal prosecutors who have worked with judge chatigny wrote to the senate judiciary committee that in criminal as well as civil matters judge chatigny has proven himself over the course of 15 years on the bench to be unbiased compassionate and temperatein its 2006 dismissal of charges in the ross case the second circuit judicial council found that judge chatignys actions were not motivated by any bias in favor of ross the prisoner or against the death penalty but only by the judges reasonable perception that the discharge of his own judicial dutyrequired that he take forceful steps on rosss behalf while the judge used strong language there was no misconductin the judges reasonable view the circumstances thrust on him called for unusual action in discharge of judicial duty to ensure the fair resolution of the important proceeding before himchatigny has yet to rule on the appeal of former yale professor james van de velde who had sued the city of new haven in 2001 then yale in 2003 for allowing his name to be leaked at the inception of the investigation into the death of yale student suzanne jovin in december 1998 chatigny dismissed the federal fourth amendment claims in march 2004 but left alone the state claims relating to the ruination of van de veldes career by not allowing the case to proceed van de velde claims his efforts to shed light on the cold case and pressure the authorities try to solve the case have been stonewalledof the 440some opinions judge chatigny has issued as a federal court judge since 1994 16 have been reversed an analysis by the sentencing commission for fiscal years 20059 provided by judge chatigny place his departure rate in line with the average for the district of connecticut as a whole', 'for a hong kong entrepreneur please refer to vincent fang entrepreneurvincent fang chinese pinyin fng wnshn was born on 26 january 1969 in hualien taiwan he is a taiwanese multigolden melody award nominated lyricist best known for his collaboration with singersongwriter jay chou fang won best lyricist at the 19th golden melody awards for blue and white porcelain sung by jay chou from on the runin 1997 he sent samples of his lyrics to record companies hoping to find a new career that complemented his passion for writing record company owner jacky wu was impressed with his work and hired fang to work with chou who had just started his songwriting career in 2000 chou released his first album titled jay and since then produced albums in which fang contributes the majority of the lyrics chous fame grew rapidly across asia pulling fang into the limelight as wellfangs lyrics are noted for covering a wide of issues from family to war beyond what is normally discussed in love ballads he is known for using a writing style similar to traditional chinese poetry making frequent references to chinese history and folklore esp in chinese style music a fusion genre made popular in the 2000s decade by jay chou fusing modern rock and contemporary rb together with traditional chinese music he calls his style of lyrical poetry su yan rhyme poetry which has become a new poetry form in modern chinese musical literature', 'misa telefoni retzlaff born hermann theodor retzlaff 21 may 1952 is a former samoan deputy prime minister and deputy leader of the human rights protection partyretzlaff was educated at kings college in auckland new zealand he studied law at the university of auckland before going on to practice law in samoa he was appointed attorneygeneral of samoa in 1986in 1988 he resigned his position as attorneygeneral to run for election winning the seat of falelatai samatau initially part of the opposition he joined the government of tofilau eti alesana in 1991 as minister of agriculture forests fisheries and shipping in 1996 he became minister of health and in 2001 deputy prime minister in addition to that role he currently holds the portfolios of commerce industry and labourhe has stated he will not be standing to retain the seat he has held for 22 years in the 2011 general electionretzlaff is of germanswedishsamoan descent having inherited his german ancestry from his paternal grandfather his name telefoni is the name that was given by the samoan community in the early twentieth century to his grandfather when he arrived in the german colony as a public servant of the postal services to introduce the telephone to the country he has had two books published love and money a love story about the richest young bachelor in auckland new zealand falling in love with and marrying the young samoan kitchen help from his exclusive boarding school and to thine own self be true a collection of articles speeches and poemsin february 2011 telefoni confirmed he was retiring from politics at the 2011 election see a short tribute to misa telefoni published in the samoa observer 9 march 2011 by his son lemalu hermann paul retzlaff tribute to misa telefoni httpwwwsamoaobserverwsindexphpoptioncomcontentviewarticleid31878tributetocatid1latestnewsitemid50', 'mary goldring obe is a british business journalist and broadcasteran economist who graduated from lady margaret hall oxford university goldring turned to journalism in the late 1940s and became a member of staff at the economist where for a long time she was its business editor rising to the rank of deputy editor alongside norman mcrae she left the paper suddenly in spring 1974 following a dispute over its editorship in the wake of the surprise departure of alastair burnet who left to become editor of the daily expressgoldring then moved to the bbc and meantime also wrote a weekly column for the investors chronicle edited at the time by andreas whittam smith in 1976 she became one of the main regular presenters of bbc radio 4s analysis series of analytical authored currentaffairs documentaries she developed it into a flagship programme staying with it until 1987 she also made five series of television documentaries the goldring audit for channel 4 screened from 1993 to 1998in the late 1960s mary goldring became particularly noted as the economists aviation correspondent for her sustained and trenchant critique of the development programme for the anglofrench concorde supersonic aircraft on the basis of noise pollution and above all what she predicted would be disastrous commercial economics an almost solitary voice of dissent at the time her views turned out to be wellfounded', 'susan westerberg prager 1942 is an american legal scholar and administrator she is currently since november 1 2013 the dean of southwestern law schoolpreviously prager was provost of dartmouth college and president of occidental college starting in september 2008 she was the sixth executive director and ceo of the association of american law schools from 1982 through 1996 she was the dean of the ucla school of law giving her the longest tenure of any dean in ucla law history she was one of the first female deans of a law school in the united states and she was the first alumnusalumna to become dean of ucla law during her term at the ucla law she became the second woman to serve as the president of the association of american law schoolsprager was born in sacramento california and grew up in sloughhouse california a small town outside of sacramento she received her undergraduate degree in history from stanford university in 1964 and she later received a masters degree in history also from stanford she served for 14 years as a trustee of stanford university she worked for a number of legislators in the us senate the us house of representatives and the california state assembly including us senator thomas kuchel of california she received her law degree from ucla law and was editorinchief of the ucla law reviewshe practiced law at powe porter alphin in durham north carolina before returning to the ucla school of law faculty where she focused on family law community property and historic preservation law', 'yohannes yual both or johannes yoal bath etc was a leader of the south sudan defense forces whose mobile forces gave the sudan peoples liberation army considerable difficulty during the second sudanese civil war 19832005in august 1991 riek machar lam akol and gordon kong announced that john garang had been ejected from the splm the breakaway faction based in nasir until 1995 and then in waat and ayod was called the splmanasir faction from 1991 to 1993the bul nuer anyanya 2 militia at mayom under paulino matip and the lou nuer anyanya 2 militia at doleib hill under yohannes yual declared for rieklater these forces become part of the governmentsponsored ssdf militiathe civil war ended in january 2005 yohannes yual accepted the juba declaration of 8 january 2006 joining the army along with other soldiers under the command of paulino matiep his men are primarily lou nuer now in the 8th divisions command in jonglei state he is a major general and has been deputy commander of the 4th division in duar upper nile statea group called the south sudan united democratic alliance alleged that on 12 april 2006 lou nuer janaigatliek section spla forces under johannes yoal bath launched a revenge attack on ulang and killed more than 30 people including both civilians and soldiersthe attack was said to be in retaliation for cattle raids in nyayin on the east bank of the sobat river made by combined forces of the spla and jikany nuer under commander george athor dengjohannes yoal bath had been involved in an attack on nasir in may 1994', 'christopher sorrentino born may 20 1963 is an american novelist and short story writer of puerto rican descent he is the son of novelist gilbert sorrentino and victoria ortiz his first published novel sound on sound 1995 draws upon innovations pioneered in the work of his father but also contains echoes of many other modernist and postmodernist writers the book is structured according to the format of a multitrack recording session with corresponding section titles secondary percussion vocals playback and so forthhis second novel trance 2005 an epic fictional treatment of the patty hearst saga used many of the same experimental techniques as sound on sound but according to sorrentino incorporated them more carefully and subtly into the text the book was widely praised for its lush descriptions riveting characterizations and dialogue imaginative departures and attention to period detail trance ended up on several reviewers best lists was named a finalist for the 2005 national book award for fiction and was longlisted for the 2007 international impac dublin literary award in 2009 trance was named one of the 61 essential postmodern reads by the los angeles timesin 2006 new york magazine revealed that sorrentino and jonathan lethem were the writers behind the pseudonymous ivan felt and harris conklin authors of believeniks 2005 the year we wrote a book about the mets a hyperliterary account of the mets 2005 season that was intended as a playful poke at bookworld scamssorrentinos next book american tempura a collaboration with artist derek boshier was published by nothing moments press in the fall of 2007 a novella american tempura is a satire about commercial moviemaking in los angeles death wish a monograph on the 1974 film of the same name was published in the fall of 2010 by soft skull press as one of the inaugural entries in its deep focus series of film booksin april 2014 it was announced that sorrentino would publish his next novel the fugitives with simon schustersorrentinos work has appeared in such publications as the new york times esquire harpers playboy granta mcsweeneys tin house open city bookforum conjunctions and many otherssorrentino has taught at eugene lang college the new school for liberal arts and at columbia university school of the arts and is a member of the faculty at the unterberg poetry center of the 92nd street y he was the visiting writer at fairleigh dickinson university in 20102011 he currently lives in new york city with his partner the writer and editor minna proctor and their children', 'alexis bhagat is a writer and curator in new york he was born and raised in new york city and studied sculpture and ecological design at goddard collegehe was an active member of the spoken word poetry scene on the lower east side in the early 1990s notably organizing the atm poetry opens in bank lobbies in the summer of 1994 at goddard college he produced his first multichannel tape installations and tapecollages for radio a practicing sound artist from 19992009 producing sound installations speak deep whitman death songs bandshell ghost everybody says lecture on democracy stereo version collages lecture 2 on the possibility of life without the sun no one is neutral on moving train his blood is no match for chinas industrial strength authority look in the mirror radioplays and performances lecture 1 on sound as art words that should be abandoned or repaired everybody says the same bullshit in all lands and through all ages lecture on democracy threechannel version that utilized the recorded voice as material from 20012004 he interviewed a crosssection of senior and emerging sound artists through his project sound generation an unpublished book project that has manifested as concerts panel discussions and radio broadcasts he began working with free103point9 in 2003 and is included in their publication transmission arts artists and airwaves paj he has organized lectures listening lounges and convocations around the world to catalyze discussions about sound', 'professor david vernon williams is a professor and former deputy dean of the university of aucklands faculty of law he came from the hawkes bay region of new zealand and was educated at wanganui collegiate schoolhis formal tertiary education qualifications include undergraduate degrees in history and in law ballb from victoria university of wellington a graduate degree in law bcl from the university of oxford england where he was a rhodes scholar at balliol college and a doctoral research qualification from the university of dar es salaam tanzania phd that included an analysis of colonial legal history in new zealand and a diploma in theology from the university of oxford diptheolhe is a barrister and solicitor of the high court of new zealand and holds a practising certificate to act as a barrister he was employed as a legal academic at universities in england tanzania and new zealand from 1971 to 1991 and during that time he wrote numerous published articles and book chapters on issues related to colonial law indigenous law and the treaty of waitangifrom 1992 to 2000 his primary occupation was as a consultant contracted to research on law in history and on treaty of waitangirelated legal issues he has acted in a variety of capacities in contracts with the crown forestry rental trust the law commission and te puni kkiri he was responsible for the mori land legislation manual and database which was published in two volumes by the crown forestry rental trust in 1994 and 1995 he is the author of te kooti tango whenua the native land court 18641909 published by huia publishers in 1999he has acted as an arbitrator in respect of moriowned forestry land he is the honorary legal adviser to te phopatanga o aotearoa anglican church and a member of the anglican churchs general synodte hinota whanui in 2001 he was appointed an associate professor in law at the university of auckland and in 2005 was promoted to full professorhe also campaigned for the new zealand national party in 1966 but has never voted for them', 'guillermo roux born in 1929 is an argentine painter known for his watercolors collages and frescoesroux was born in buenos aires argentina and his father ral roux was a wellknown uruguayan painter he studied in the buenos aires school of fine arts until 1948 and in 1956 he travelled to rome there roux worked in umberto nonnis bottega as an assistant in restoration and decoration projects he returned to argentina in 1960 and relocated to jujuy province where he taught art and continued to painthe lived in new york city where he worked as an illustrator and a painter from 1966 to 1967 and returned to buenos aires he traveled extensively exhibiting in berlin london munich paris and sicily and in 1975 he earned his first international prize at the xiii so paulo art biennial this was followed by among other honors the konex award the highest prize in the argentine cultural realm in 1982 rouxs work was added to the prestigious phillips collection in washington dc in 1988 and he contributed one of four new frescoes that were added to the cupola of the shopping arcade galeras pacfico when it was reopened in 1991roux created his own teaching workshop in 1997 his themes include still life harlequins italian actors and geometric shapes they are often surrealistic he was named illustrious citizen of buenos aires in 2007', 'william jonas ely jr born december 29 1911 is a retired lieutenant general in the united states army he is a 1933 graduate of the united states military academy west point he served during world war ii with the united states army and was stationed in australia new guinea philippine islands and japan he also served with the united states army corps of engineers in the 1930s in the midway islands he eventually retired at the rank of lieutenant 3 star general he is a former deputy commanding general of the army development logistic command and deputy commander of the us army materiel command he was born in sycamore pennsylvania the son of j ross and frances d ely his awards include the army distinguished service medal silver star bronze star and two legions of merit after his retirement ely was an avid golfer and designed and operated a golf course near pittsburgh pennsylvania he gave up golf when he turned 100 in 2011 as of 2015 he is the oldest living graduate of west point ely was married to helen mountford from february 10 1940 to march 25 2014 when she died at the age of 100 he was formerly married to jane i meyers whom he wed on may 20 1937 and had three children with he resides at a nursing home in delray beach florida', 'alan roper born may 1939 in tipton staffordshire england is a retired professional footballerhe began his career in the youth team at wolverhampton wanderers in the mid 1950s but was unable to break into the first team beginning his career when wolves were one of the top club sides in england and signed for walsall in 1962 he made his debut in september of that year in a 32 win over middlesbrough in the football league second division at fellows park and spent three years with the club making 60 league and cup appearances mostly as a fullback scoring twice he remained there until the end of the 196465 seasonafter retiring from football roper was the landlord of the union public house in his hometown tiptonhe has been married to valerie since 1964 and they have two children lesley born 1966 and steven born 1970 lesley was seriously injured in a car crash in 1982 at the age of 16 in dudley which claimed the lives of two other teenage girlshe still lives in tipton but now suffers from alzheimers diseasehe is not related to ian roper who played nearly 400 games for walsall between 1995 and 2008references 1 express and star 10 may 1982 midlands today 27 march 2014', 'bob havens born may 3 1930 is an american big band and jazz musician who appeared on the lawrence welk show from 1960 to 1982 his instrument is the tromboneborn to a musical family in quincy illinois he began studying violin and trombone at age seven and played both instruments throughout his school years he landed his first professional job with a local dance band at age 12 by the age of 16 his talent as a trombonist was recognized with a scholarship from the interlochen music camp in michigan and bob held the first trombone chair in the schools 250 piece concert band he later held the first trombone chair in the quincy symphony while also playing in many popular dance groups in illinoisafter serving in the illinois national guard as a bandsman during the korean war he left quincy in 1955 to tour with the ralph flanagan orchestra in 1956 he joined george girards dixieland band at the famous door in new orleans there he met his idol jack teagardenin 1957 bob joined al hirt at dans pier 600 on bourbon street when hirt formed his very first band the front line consisted of hirt havens and pete fountain during the time in new orleans he recorded albums for good times jazz and vic labels with the girard band and on verve and audio fidelity with hirt he also recorded about a dozen albums for the southland label with many other new orleans musiciansbob stayed with this group until 1960 when he was persuaded to move to the west coast and join the lawrence welk orchestra as a featured soloist on their weekly tv series his tenure with this show lasted for 23 years until the show ended in 1982following that he continued as a freelance professional working often with the bob crosby bob cats and the benny goodman orchestra led by clarinetist peanuts hucko from 1985 to 1995 havens played with the great pacific jazz band along with bob ringwald lead vocalspiano don nelson saxophone and zeke zarchy trumpetin 2005 he performed with the north carolina pops orchestra at campbell university with fellow welk star ava barber in a benefit concert raising money for victims of hurricane katrinabob havens lives in quincy illinois he continues to record and appear at jazz festivals and concerts throughout the world', 'susan christie is an american singersongwriter from philadelphia pennsylvania she had a minor hit with the novelty song i love onions written by donald cochrane and john hill the track which peaked at 63 on the billboard hot 100 chart in 1966 is described as having a sound reminiscent of the 1930s with christies breathy vocal backed by a chorus of kazoo players and male backup singersin canada however the single fared much better reaching 19 on the rpm 100 national singles chart on august 1 1966 the tune was adapted as i love funyuns for a late 60s tv commercial for an onionflavored snack food the tune was later adapted for a canadian television commercial as i love turtles in 1980signed to columbia records christie recorded an album in 1970 paint a lady described as psychedelic folk music the album went unreleased by columbia which considered it to be noncommercial and christie was dropped from the label the album of which only three vinyl copies were ever pressed languished in obscurity until 2006 when manchesterbased dj andy votel received a copy and brought the album renewed attention and a cd release spin magazine described the album as funky free folk filled with brilliantly original songs and christie as a dark strange songbirdchristie participated in the 2008 lost ladies of folk project spearheaded by votel and his spouse recording artist jane weaver performing in concert at queen elizabeth hall in london and appearing on the compilation album bearded ladies in 2010 christie appeared as a guest artist on weavers album the fallen by watch bird', 'elizabeth gunn is an american author of mystery novelsgunn lives in tucson arizona her careful research into police techniques results in precisiontooled procedurals according to marilyn stasio of the new york times one series is set the fictional city of rutherford minnesota a second is set in tucson where she moved in 1999 her publishers include walker dell harlequin forge and severn houseprior to her career as a writer gunn earned her private pilots license became a sky and scuba diver hiked deserts and mountains and travelled extensively in the us canada mexico and europe including several years as a liveaboard sailor while she was sailing gunn began to write travel articles many of which were published in regional papers around the us this was the beginning of her path to becoming a fulltime writer before retiring to her career as a writer gunn made her living as an innkeeper in helena montana where she owned a motel with her husband phillip together they raised two daughters and the family lived in a small apartment directly above the lobby of their motel as a result of those cramped quarters gunn developed her desire to travel she grew up in the southeast minnesota of her jake hines novels and later moved to tucson the setting of her sarah burke series', 'bo hampton born 1954 in united states is a noted comic book and cartoon artisthe graduated from the school of visual arts new york city he drew wrote and painted comics and graphic novels for 15 years always with a bent toward realism that was fairly uncommon in the medium some art highlights from that period include viking glory a 96 page graphic novel for dc comics legend of sleepy hollow for tundra publishing and verdilak a horror story cowritten and painted for nbm publishing hampton spent a year as a professor at savannah college of art and design helping to develop the original incarnation of their sequential arts program before moving into the realms of storyboarding animated shows and tv commercials he was behind one of the most popular uk advets of all times smash means mashhe has worked on extreme ghostbusters for sony tv and full length video feature as well as superman warner bros and batman animation for cartoon network spot he has done live storyboard work for commercial clients including papa johns pizza bellsouth cocacola motorola and many more ad agencies that use his work regularly include mccannerickson washington dc pearson mcmahon fletcher and england indianapolis fricksfirestone atlanta and over 40 more all over the us', 'maria ilva biolcati commander omri italian pronunciation maria ilva bjolkati born july 17 1939 known as milva is an italian singer stage and film actress and television personality she is also known as la rossa italian for the red due to the colour of her hair and additionally as the panther of goro which stems from the italian press having nicknamed the three most popular italian female singers of the 1960s combining the names of animals and the singers birth places popular in italy and abroad she has triumphed on musical and theatrical stages the world over and has received popular acclaim in her native italy and particularly in germany where she has often participated in musical events and televised musical programmes she has also released numerous successful albums in france japan korea greece spain and south americahaving received enormous success both in italy and internationally she remains to this day one of the most popular italian personalities in the fields of music and theatre her artistic stature has been officially recognised by the italian german and french republics each of which have bestowed her with the highest honours she is the only italian artist in contemporary times in fact who is simultaneously chevalier of the national order of the legion of honour of the french republic paris 11 september 2009 commander of the order of merit of the italian republic rome 2 june 2007 officer of the order of merit of the federal republic of germany berlin 2006 and officier of the ordre des arts et des lettres paris 1995', 'will tiao is a taiwanese american actor and producer born and raised in manhattan kansas he worked in the field of international politics before entering the hollywood scene tiao was a cello performance major at the university of michigan before transferring to tufts university where he received his ba in international relations magna cum laude and a ma in international affairs from columbia university he received a fulbright scholarship for his research on the association of southeast asian nations in manila philippinestiao worked as a presidential management fellow under the clinton administration and went on to become an international economist under the george w bush administration however in 2002 he decided to leave politics to pursue a career in entertainmenttiao has worked as an actor producer and writertranslator for tv film and stage his tv credits include madtv fox yes dear cbs untold stories from the er tlc mind of mencia comedy central the winner fox and the internet series quarterlife his theatre credits include waiting for lefty extremities marty in the boom boom room and proof he starred in and produced the awardwinning short film a starbucks story as well as the independent dark comedy stan he is the writer actor and producer of formosa betrayed a feature film based on the true events surrounding taiwanese democracy and independence activists in the 1980s', 'quintin e primo iii born march 14 1955 is the cofounder chairman and ceo of capri capital partners llc one of the largest minorityowned real estate investment management firms in the united states that advises pension funds and other institutional investors primo whose firm has 404 billion in assets under management in domestic and international commercial real estate is ranked on the forbes top twenty richest african americans in the world listprimo who is a regular contributor on cnbc is known in the real estate industry for his innovation in 2000 under primos leadership capri capital developed and launched one of the industrys first real estate mezzanine fundsas a minorityowned firm capri capital was also an early investor in americas underserved urban markets such as south los angeles in 2006 capri purchased baldwin hills crenshaw plaza one of americas oldest urban regional malls that was opened in 1947in 2012 black enterprise magazine saluted primo and his firm as its financial services company of the yearprimos latest visionary move was to become one of americas first minorityowned firms to invest overseas in september 2013 capri capital partners llc launched capri global capital limited which was formed after signing a strategic alliance with money matters financial services limited in india which included the renaming of money matters financial services limited to capri global capital limited mr primo is the newly appointed nonexecutive chairman and director of capri global capital limiteds board of directors in india in this position mr primo becomes one of if not the first africanamerican to serve on the board of an indianregistered publicly listed companyin addition to his business acumen primo is known for his philanthropy as the founder and chairman of the primo center for women and children a transition homeless shelter for moms and their kids that is located on the west side of chicago', 'geoffrey bayldon born 7 january 1924 in leeds west riding of yorkshire is a british actor after playing roles in many dramas including shakespeare he became known for portraying the title role of the childrens series catweazle 197072 after turning down the opportunity to play both the first and second doctors in the longrunning bbc science fiction television series doctor who bayldons other longrunning parts include the crowman in worzel gummidge 197981 and magic grandad in the bbc television series watch 1995bayldon made several film appearances in the 1960s and 1970s including king rat 1965 to sir with love 1967 casino royale as q 1967 the envy segment of the magnificent seven deadly sins 1971 the marc bolant rex film born to boogie and the film version porridge of the television series porridge 1979 as the governoramong his more recent television appearances was the five game show fort boyard 1998he also had a guest appearance in doctor who as organon in the creature from the pit 1979 more recently he has played an alternative first doctor in two audio plays based on the doctor who television series by big finish productions in the doctor who unbound series auld mortality and a storm of angelsother television roles include parts in the dramatisation of blott on the landscape 1985 and in two episodes of the avengers 1961 1967 and of star cops 1987 he was in the tales of the unexpected episode down among the sheltering palms 1983 he has also appeared in a number of bbc schools programmes where he has displayed a number of otherwise unexploited talents such as singing in 1993 he played simplicio in the open university video newtons revolution in 2007 he made a guest appearance in new tricks as leonard caseyin 1986 bayldon provided the vocals on paul hardcastles the wizard which was also used without the vocal as the theme for bbc tvs top of the pops', 'prof dr ulfdietrich reips is a full professor in the faculty of sciences at the university of konstanz where he holds the chair for psychological methods assessment and iscience between 2009 and 2013 he was a fulltime tenured ikerbasque research professor at university of deusto in bilbao spain and remains affiliated with ikerbasque until 2009 he was an assistant professor and lecturer oberassistent at the psychology department of the university of zurich switzerland he received his phd in 1997 and his habilitation venia legendi title privatdozent in 2004 from the university of tbingen germany in 1992 he received an ma in psychology from sonoma state university california reips spent most of his undergraduate and graduate years at the university of tbingen where he had attended the leibniz kolleg he majored in both psychology and general rhetoric as a student of walter jens and had a minor in political science in 2012 ulfdietrich reips received a first award from university of colorado boulder and is since affiliated on an honorable basis with its department of psychology and neuroscience based on his affiliation with ikerbasque the consejo superior de investigaciones cientificas spain ranked him 7th of top scientists working at spanish private universities in 2014ulfdietrich reips is working on internetbased research methodologies or iscience internet science online research methods in particular internetbased psychological experimenting a method used in experimental psychology and internetbased tests the psychology of the internet measurement the cognition of causality social media and big data in 1994 and 1995 he founded the web experimental psychology lab the first laboratory for conducting real experiments on the world wide web in 1997 he was one of the seven founders of the german society for online research dgof and wrote a book chapter on the methodology of conducting experiments via the internet that later won him a young scientist award by the german society for psychology his 2002 article in the journal experimental psychology standards for internetbased experimenting defined the field and became one of its journals most cited articles in 2005 reips was elected the first nonnorth american president of the society for computers in psychology scipulfdietrich reips is the founding editor of the international journal of internet science currently serving jointly with uwe matzat', 'marcel j mlanon is a philosopher and scientist who works in canada and is mostly known for his book on the french philosopher albert camus albert camus an analysis of his thought albert camus analyse de sa pense he has mostly worked together with the biologist richard d lambertprofessor mlanon teaches in the department of philosophy in the collge de chicoutimi and he is a researcher in bioethics funded by sshrc fonds de la recherche en sant du qubecfrsq and the programme de soutien des chercheurs de collge pscche is also associate professor in the department of religion and ethics at the universit du qubec at chicoutimi where he is codirector of a graduate program in bioethicshe received a masters degree in experimental medicine with a specialty in genetics from universit laval and a doctorate in philosophy from the universit de fribourg in switzerlandprofessor mlanon has authored more than two books and some articles on ethical issues in genetics with particular reference to genetic testing and screening he is currently the director of an interinstitutional and interdisciplinary group gnthiq in quebec representing researchers in genetics ethics sociology and law and codirector of the ethics division of the clinical ethics network funded by the frsqprofessor mlanon is a founding member of the canadian bioethics society where he served as vicepresident from 1986 to 1988 he is also a member of various bioethics committees and also a member of the ncehr committee on evaluation', 'mike powell is a british former newspaper and radio journalist who hosted shows on several uk music radio stations before transitioning to station management after working in provincial newspapers in the westcountry powell joined devonair radio exeter and torbay at its launch in 1980 as a senior journalist then head of news and current affairs he later jointly hosted the breakfast showpowell moved to guildford surrey in 1983 as launch news editor of county sound radio he was promoted to program director from 1984 to 1986 and then ceo from 1986 to 1991 growing the group to four radio stations his innovations at county sound included being the first uk radio station to use rcs radio computing services selector musicscheduling software 24 hours a day and introducing the uks first gold format radio station county sound gold powell designed the programming for awardwinning station fox fm a joint venture with capital radio londonafter taking county sound to a uk stock market listing he departed to form radio investment research and management company infinity radio which set up pirate fm cornwall with powell as launch ceo pirate fm was featured on the bbc technology programme tomorrows world for its pioneering use of computerised music playoutshortly after the launch of pirate fm infinity radio merged with ukrd group where powell became ceo eventually building the group to over 20 radio stations and associated companieswhile running ukrd powell played a key role in launching manchesters kiss 102 and served as launch ceo of berkshires star fm which was joint launch customer in the uk for the computerised rcs master control studio automation system in 1995 he launched the new county sound radio network consisting of county sound radio 964 the eagle and delta radioin 2001 powell became chairman of infinity media which then separated from ukrd to concentrate on digital platform technologiesin october 2002 he joined rcs as vice president of its international division based at its world headquarters in white plains new york in october 2014 he was promoted to senior vice president international operations and chief compliance officer', 'uladzimir vasilyevich yurchanka belarusian russian born 26 january 1989 in mogilev is a belarussian footballer who plays for shakhtyor salihorskyurchenko made his debut for the u21 national team on 9 september 2008 in a match against latvia u21 he was part of the belarus u21 side that participated in the 2009 uefa european under21 football championship and made appearances in all three matches on 12 august 2009 yurchenko netted his first goal for the belarus u21 team opening the scoring against the austria u21 in the 21 home win in a 2011 uefa european under21 football championship qualifier on 12 october 2010 yurchenko netted twice to help his team to a 30 win against italy u21 which secured qualification for the 2011 uefa european under21 football championshipon 2 november 2010 yurchenko earned his first callup to the senior team of his country but was subsequently injured and withdrawn from the squad for the friendly match against omanon 1 june 2011 yurchenko was selected to take part in the 2011 uefa european under21 football championship in denmark but was injured in a pretournament friendly and missed the competition he was replaced by aliaksandr perepechka following his recovery from injury he made the belarusian squad for the 2012 toulon tournament and participated in all three group stage matches he was also selected as part of the preliminary squad including 43 players for the 2012 london olympics but did not make the final cut of 22 18 nominees 4 reserves footballers for the games', 'nobuo uematsu uematsu nobuo born march 21 1959 is a japanese video game composer best known for scoring the majority of titles in the final fantasy series he is considered one of the most famous and respected composers in the video game community uematsu a selftaught musician began playing the piano at the age of eleven or twelve with elton john as his biggest influenceuematsu joined square later square enix in 1986 where he met final fantasy creator hironobu sakaguchi they have worked together on many video game titles most notably the games in the final fantasy series after 18 years with square he left in 2004 to found his own company called smile please and the music label dog ear records he has since composed music as a freelancer for many other video games including ones developed by square enix and sakaguchis development studio mistwalkersoundtracks and arranged albums of uematsus game scores have been released pieces from his video game works have been performed in final fantasy concerts he has worked with grammy awardwinning conductor arnie roth on several of these concerts from 2002 to 2010 he was in a rock band with colleagues kenichiro fukui and tsuyoshi sekito called the black mages in which he played electronic organ and other keyboards the band played arranged rock versions of uematsus final fantasy compositions he has since performed with his band earthbound papas', 'john warner born 1970 is an american writer and editor he is the author of four books and the editor of mcsweeneys internet tendency he is a frequent contributor to the morning news and has been anthologized in may contain nuts stumbling and raging more politically inspired fiction and the future dictionary of america he frequently collaborates with writer kevin guilfoile warners most debut novel was the funny man the book has been reviewed by publishers weekly and kirkus reviews his most recent work is the short story collection a tough day for the army edited by michael griffith and published by the lsu press series yellow shoe fictionhe is the chief creative czar of tow books a publishing imprint dedicated to humorous books distributed by fw publications incwarner was born in northbrook illinois his great uncle is the american writer allan seagerhe previously taught at clemson university in clemson sc his focus was creative writing and he was the director of a humor creative inquiry in this inquiry he was working to teach students what humor is and how to create it this three course series resulted in a student publication in 2008currently warner teaches creative writing at college of charleston in charleston sc', 'doug mcinstosh is a retired american basketball player and is currently a pastor he won two national championships at ucla and appeared on the cover of sports illustrated magazine in 1965mcintosh a center from lily high school in lily kentucky went west to play college basketball for future hall of fame coach john wooden at the university of california at los angeles he was a key reserve for the bruins as they won their first national title in 1964 playing 30 minutes in the championship game against duke and grabbing 11 rebounds mcintosh became a starter for his junior and senior seasons anchoring the pivot for woodens 1965 champions as a junior for his bruin career mcintosh scored 543 points 64 per game and 486 rebounds 57 per gameyears later john wooden would say that doug mcintosh was one of the two players in his coaching tenure who came closest to fulfilling their potential wooden stated that he didnt believe that mcintosh would play much but that he surprised him as a significant contributor as a sophomore and a starter the next two years through his hard workfollowing his college career doug mcintosh was not drafted in the 1966 nba draft he attended seminary at dallas theological seminary and later cofounded the cornerstone bible church in lilburn georgia', 'avi muchnick born 1979 is an artist author programmer and entrepreneurin 2002 while attending benjamin n cardozo school of law muchnick cofounded the popular creative contest site worth1000 together with israel derdikin 2007 he cofounded aviary a company that built an awardwinning multimedia application suite of creative web apps with israel derdik and michael galpert as ceo he raised 17 million in venture capital from amazon founder jeff bezos mit media lab director joi ito linkedin founder reid hoffman venture capital firm spark capital and other notable investors in september 2011 citing stalling growth of the multimedia application suite he shifted aviarys business strategy to powering the photoediting in thirdparty apps on web and mobile smart phones seeing enormous immediate growth he chose to focus the company exclusively around this new direction and closed down aviarys consumerfacing multimedia application suite one year later on september 15 2012 as of march 2013 aviary announced passing 35 million monthly active users 3500 partners and 3 billion photos edited across its partner network muchnick served as ceo until december 2012 when he brought on former walmart executive tobias peggs to take over at which point he stepped into the chief product officer role on september 22 2014 aviary was acquired by adobe systemsmuchnick was named one of the top 35 innovators under 35 by mits technology review magazine in 2010', 'robin macpherson born 1959 glasgow scotland is professor of screen media at edinburgh napier university director of screen academy scotland a creative skillset film academy partnership with edinburgh college of art and of the institute for creative industries at edinburgh napiereducated at garthamlock secondary school glasgow and at the university of stirling he entered the film and television industry in 1989 as a producer at edinburgh film workshop trust where he made documentary current affairs and drama including the baftanominated halfhour drama the butterfly man in 1997 he established asylum pictures an independent production company whose films include the scottishbafta nominated documentary tree fellers and as coproducer the awardwinning fellini im a born liarafter two years as development executive at scottish screen in 2002 he joined edinburgh napier university where in 2005 he became the first director of screen academy scotland since 2008 he has led engage an eu mediafunded collaboration with the irish estonian and finnish national film schoolsin 2010 he was appointed by the scottish government to the board of creative scotland the following year he was appointed as director of the institute for creative industries at edinburgh napier university in april 2011 he joined the board of creative edinburgh', 'judi silvano born 1951 is a jazz singer and composer a native of philadelphia her singing style bears similarity to norwegian jazz singer karin krog she is a scholar of sheila jordan and of jeanne lee silvano researches and performs underrepresented music by women composers some of which is featured on her womens work cd on jsl records her 10th recording as leader indigo moods cd on jazzed media is a collection of standards from the great american songbook played in an empathetic trio with just piano voice and trumpet silvano also writes many original songs with or without lyrics as well as chamber music pieces and has had her compositions played on stages in new york city and in europe composer lori dobbins wrote sketches for silvano for her scored for voice percussion and vibes jazz pianist and composer kenny werner wrote the vocal narrator part for silvano in his no beginning no end for wind and percussion ensemble her husband is tenor saxophonist joe lovano and upon marriage she changed her name from formerly silverman to silvanobefore attending college she studied flute piano and dance she has a bachelors degree in music and dance from temple university of philadelphia she has taught at rutgers university and other collegesshe has collaborated with joe lovano mal waldron kenny werner and bill frisell aside from performing in the united states she has toured europe since 2011 she has been studying painting at the wallkill river school of art in montgomery ny and has had 3 solo art shows recently with her many watercolor and pastel paintings', 'evelin gerda lindner born may 13 1954 in hameln germany is a transdisciplinary scholar in social sciences and humanities she holds two doctorates one in medicine and the other in psychology her research focuses on human dignity and she believes that the humiliation of honor and dignity may be among the strongest obstacles on the way to a decent world community she is the founding president of human dignity and humiliation studies humandhs a global transdisciplinary fellowship of concerned academics and practitioners who wish to promote dignity and transcend humiliationher parents were displaced from silesia in 1946 and she therefore grew up in west germany she has since confirmed that her familys traumatic experiences have formed the background of her workin 1994 she obtained her first doctorate in medicine dr med from the university of hamburg germany and in 2001 her second doctorate in psychology dr psychol from the university of oslo norway she graduated in psychology in 1978 and in medicine in 1984 both from the university of hamburg and heidelberg university she has also studied law and sinology at the goetheuniversitt frankfurt am main philosophy at the university of hamburg and has participated in the norwegian research councils ethics programme under philosopher dagfinn fllesdalsince 1977 lindner often spends time in norway following her marriage to a norwegian from 1984 to 1991 she also lived and worked in cairo egypt where she was a clinical psychologist and psychological counselor at the american university in cairo for 3 years and had her own practice for 4 years she also lived studied and did research in asia japan 3 years china thailand australia new zealand in africa west africa somalia kenya rwanda burundi in the middle east usa and in europe mostly in france belgium and switzerland in 1993 she founded the ngo better global understanding and organized an important peace festival in hamburg and in 1994 she was a candidate in the european parliament election 1994she speaks english french german norwegian and egyptian arabic fluently and is familiar with a number of other languages among others swedish danish dutch portuguese russian chinese japanese indonesian and modern hebrewsince 1997 she is affiliated with the university of oslo where she wrote her doctoral dissertation from 1997 to 2001 since 2001 she is also affiliated with columbia universitys advanced consortium on cooperation conflict and complexity ac4 in new york since 2003 she is furthermore affiliated with the maison des sciences de lhomme in paris her first book making enemies humiliation and international conflict has been honored as outstanding academic title by the journal choice for 2007 in the usa she published her second book in 2009 on emotion and conflict also her third book on gender humiliation and global security that was published in 2010 with a foreword by desmond tutu is being highly recommended by choice she has also written numerous articles and book chapters for example for bernt hagtvets anthology genocides black book 2008 she has received several awards among them the prisoners testament peace award in 2009lindner advocates equality in dignity locally and globally she has chosen norway as a main base because she believes that norway is in a unique historical position the ideal of equality in dignity likeverd in norwegian is at the core of the human rights message it is at the same time deeply rooted in norwegian culture and an important part of norwegian heritage while it is new to cultures with more hierarchical traditions that stand for social inequality research points at the importance of equality for health and stability both at the individual and the community level equality in dignity is important for a sustainable future locally and globally lindner believes that norway has a responsibility to make the norwegian cultural heritage more accessible globally norway enjoys very high reputation in the world which means that the message of equality in dignity when it comes from norway has a greater impact', 'robert s gold is a researcher in the application of computer technology to health education and health promotion his publications include more than seventy research and evaluation articles dozens of pieces of software for organizations such as the american cancer society and the department of defense commercially published software including healthquest and abledata and several textbooks gold is professor of health education and dean of the school of public health at the university of maryland college parkhe earned an associate of science from orange county community college in 1967 followed by a bs in biology from the state university of new york at brockport in 1969 he earned his ms in health education at the same school two years later gold earned a phd in health education from the university of oregon in 1976 and a drph with a specialization in community health practice from the university of texas school of public health at houston in 1980 he was an instructor in suny brockports department of health science 19701974 before earning his phd and returned there as assistant professor from 1976 through 1978 after completing the degree while working on his second doctorate he served as an evaluator for the texas department of mental health and mental retardation he next joined the faculty of southern illinois university at carbondale siuc in 1980 as associate professor of health education he received a leave of absence from siuc in 1984 to serve as director of the school health initiative of the us department of health and human services in 1986 he joined the faculty of the university of maryland college park as professor of health education from 1988 through 1989 he joined the world health organization where he was invited to help reestablish whos division of health educationhealth promotion in 1990 he began dividing his time between the university of maryland and macro international where he became vice president and director of public health research in 1994 in 1999 he returned to a fulltime faculty position at the university of maryland and became chair of umds department of public and community health since july 2002 gold has been dean of the school of public health college of health and human performance prior to 2005 at the university of maryland at college park he is also the director of the public health informatics lab at umd a research and evaluation lab that heavily emphasizes multimediabased training and educational applications gold works in the application of advanced technologies to health education ranging from interactive video and computer software to knowledge management decision support and expert systems technology during his years at suny brockport he partnered with david f duncan in offering a course on computers in health education in 1980 gold and duncan published two papers on the use of computers in health education the second of these explored the potential of personal computers several years later at southern illinois university gold and duncan taught the first course on pcbased health education during his tenure at siuc he spent several summers at the university of cologne where he collaborated with klaus klein in developing applications of computers in health education beginning in 1983 gold wrote a regular column in the journal of health education entitled computing health', 'agnes baltsa greek a m born 19 november 1944 is a leading greek mezzosopranobaltsa was born in lefkada she began playing piano at the age of six before moving to athens in 1958 to concentrate on singing she graduated from the greek national conservatoire in 1965 and then travelled to munich to continue studying under a maria callas scholarship baltsa made her first appearance in an opera in 1968 as cherubino in the marriage of figaro at frankfurt opera before going on to appear as octavian in der rosenkavalier at the vienna state opera in 1970 under the guidance of herbert von karajan she soon became a regular at the prestigious salzburg festival she became kammersngerin of the vienna state opera in 1980her most well known performance is that of carmen by georges bizet which she has sung a number of times with jos carreras she has also sung works by mozart notably cos fan tutte rossini il barbiere di siviglia la cenerentola semiramide litaliana in algeri mascagni cavalleria rusticana saintsans samson et dalila verdi aida la forza del destino il trovatore don carlos bellini i capuleti e i montecchi and donizetti il campanello maria stuardashe also starred in the austrian film duett in 1992 playing an opera singer', 'zvonimir juri born 4 june 1971 is a croatian film director and screenwriterborn in osijek juri finished his primary and secondary education in his hometown as a teenager the 1980s he appeared in minor roles in a number of tv series produced by tv zagreb such as the 10part biographical series nikola tesla 1977 the partisan series nepokoreni grad 1982 and the popular childrens series smogovci 1982after graduating from high school juri spent the 199192 semester studying film directing at the loyola marymount university in los angeles in 1992 he returned to croatia and enrolled at the film directing department of the academy of dramatic art in zagreb while a student at the academy juri directed several short films and documentarieshis feature film directorial debut which he codirected and cowritten with goran devi was a critically acclaimed 2009 psychological war drama titled the blacks the film deals with a fictional croatian army unit who refuse to lay down their arms during a ceasefire in the croatian war of independence the film won juri and devi the golden arena for best director at the 2009 pula film festival the croatian national film awards it went on to be selected as croatias submission to the 83rd academy awards for the academy award for best foreign language film but it failed to make the final shortlist', 'johnpaul himka born may 18 1949 in detroit michigan is a canadian historian and retired professor of history of the university of alberta in edmonton he is of mixed ethnic background ukrainian on fathers side and italian on mothers initially he wanted to become a greek catholic priest and studied at st basil seminary in stamford connecticut however due to the radicalization of his political views to the left by the end of the 1960s he did not pursue that vocationhimka received his ba in byzantineslavonic studies and phd in history from university of michigan in 1971 and 1977 respectively the title of his phd dissertation was polish and ukrainian socialism austria 18671890 as a historian himka was a marxist in the 1970s80s but became influenced by the postmodernism in the 1990s in 2012 he defined his methodology in history as eclecticsince 1977 he taught at university of alberta department of history and classics he became full professor in 1992 and retired from the university in 2014in his academic interests himka focused on history of greek catholic church and socialism in habsburg galicia sacred culture of the eastern slavs on iconography in particular and the holocaust in ukraine since the late 1990s his contention with what he calls ukrainian nationalist historical myths became subject of increasing sometimes heated debates both in ukraine and ukrainian diaspora especially in north america himka challenged the interpretation of holodomor as a genocide and the view that ukrainian nationalism and nationalists played none or almost to none role in the holocaust in ukraine he also opposed official glorification of such nationalistic heroes as roman shukhevych and stepan bandera in ukraine during presidency of viktor yushchenko', 'elisha qimron is an academic in the study of ancient hebrew in which he took his phd in 1976 at the hebrew university of jerusalem writing his dissertation on the hebrew of the scrolls currently he is a professor in the department of hebrew language at bengurion university of the negev in israel for several decades he has been one of the team of international scholars working on the dead sea scrolls in particular on the texts found in cave 4 at qumranin 1979 qimron was coopted by john strugnell the editorinchief of the dead sea scrolls publication team to assist in completing longoverdue work on the halakhic letter 4qmmt on which strugnell had been working alone since 1959 the work on the fragments was eventually completed and published in 1994 qimron was the first israeli scholar on the teamduring the late 1970s and early 1980s many scholars felt frustrated at the delay in publishing the dead sea scrolls it was generally known that most of the texts had been translated but were still not available to researchers some also complained about the proprietary attitude of some of strugnells team toward the scrolls they were working on which made access to them difficult if not impossible in some caseshershel shanks of the biblical archaeology society decided that the reconstructions of the dead sea scrolls should be made available to scholars so in 1992 he published the twovolume a facsimile edition of the dead sea scrolls which included without permission material on the halakhic letter 4qmmt that qimron had been working on for some eleven years qimron had even given the document its titleqimron decided to sue the biblical archaeology society for breaching his copyright on the grounds that the research bas had published was his intellectual property as he had reconstructed about 40 of the published text such reconstruction is unique in the sense that if the original photographs had been given to a hundred different researchers a hundred different reconstructions would be made in 1993 judge dalia dorner of the israeli supreme court awarded qimron the highest compensation allowed by law for aggravation in compensation against hershel shanks and others a 2000 appeal in front of judge aharon barak and colleagues against the verdict was upheld in qimrons favor', 'robert grant irving phd is an author and lecturer specializing in the history of art and architecture of britain and the british empire his book indian summer lutyens baker and imperial delhi yale university press 1981 and oxford university press 1982 is the story of the creation of new delhi from 1911 to 1931 the grandest architectural undertaking in the history of the british empire the principal architects were the two leading practitioners of the day sir edwin lutyens and sir herbert baker dr irvings book won the british council prize in the humanities as well as the highest honor of the society of architectural historians the alice davis hitchcock book awarddr irving was born in hartford connecticut of scottishcanadian parents and was educated at balliol college oxford kings college cambridge and yale university he holds degrees in history and the history of art and architecture a fellow of berkeley college at yale he has taught at yale wesleyan trinity college in hartford and the university of virginia dr irving has lectured at universities and museums on six continents he has held research grants in india africa britain and the united states including a fulbright scholarship and fellowships from the woodrow wilson national fellowship foundation american institute of indian studies american council of learned societies ernest oppenheimer memorial trust national endowment for the humanities and the john simon guggenheim memorial foundationdr irving has been a lifetime advocate and activist for historic preservationduring his studies at yale in preparation for his dissertation mr irving had been conducting research in india in 196869 mr irving had placed all his research material in two trunks that were shipped from new delhi to hartford upon his return to yale in 1969 he discovered that pan american world airways had lost his research the airline permitted mr irving to visit john f kennedy airport to search through 16 acres not 60 as stated in a news article of unclaimed luggage he was able to locate one trunk but the contents had become damaged and useless because of exposure to the weather mr irving filed a successful 15000 not 35000 as stated in a press article lawsuit in order to recoup expenses accrued on his return to india to redo his entire research and photography discovered too late to be of use the second trunk surfaced at a boston airport warehouse after more than four yearsthe completed dissertation became the basis for the awardwinning book indian summer', 'sam leach born 1973 is an emerging australian contemporary artist he was born in adelaide south australia leach worked for many years in the australian tax office after completion of a degree in economics he also completed a diploma of art bachelor of fine art degree and a master of fine art degree at rmit in melbourne victoria leach currently resides in melbourneleachs work has been exhibited in several museum shows including optimism at the queensland art gallery and neo goth at the university of queensland art museum in 2008 in 2009 the shilo project at the ian potter museum of art and horror come darkness at the macquarie university art gallery and still at hawkesbury regional gallery in 2010 his work is held in public collections of regional galleries of geelong gold coast coffs harbour newcastle and gippsland and the collections of latrobe university and the university of queensland his portrait of musical comedian tim minchin won the archibald prize one of australias most noteworthy art prizes in 2010 in the same year he won the wynne prize for his landscape proposal for landscaped cosmos in doing so he became only the third artist after william dobell and brett whiteley to win the archibald portrait prize and the wynne landscape prize in the same year the award has generated some controversy due to the similarities acknowledged by leach between his work and one by seventeenthcentury dutch artist adam pynacker', 'this article is about the cave explorer for the wiccan see patricia crowther wiccanpatricia pat p crowther born 1943 later known as patricia p wilcox is an american cave explorer and cave surveyor active in the 1960s and early 1970s she also worked as a computer programmercrowther was wellknown among kentucky cavers for her slight frame she weighed 115 pounds and her extreme dedication these two traits led her to pursue promising leads that other cavers were unwilling or unable to attempt of particular note is her traversal of a narrow canyon known as the tight spot in the portion of the flint ridge cave system underlying houchins valley the tight spot proved to be the critical juncture leading to the passages connecting mammoth cave and the flint ridge cave system both patricia crowther and her thenhusband will crowther participated in many expeditions that attempted to connect the caves she was part of the september 9 1972 expedition that discovered and surveyed the historic final connectioncrowther earned a bs degree in physics at mit where she met and married william the couple had two daughters sandy and laura and divorced in 1976 around 1977 crowther married john wilcox who had led the cave connection expeditionscrowther authored the grand kentucky junction an account of the expeditions undertaken to connect the mammoth and flint ridge cave systems', 'katja mira herbers dutch pronunciation ktja mira rbrs born 19 october 1980 is a dutch actress of theatre film and televisionherbers was born on 19 october 1980 in amsterdam in the netherlands she is the daughter of dutch violinist vera beths and german oboist and conductor werner herbers she had a canadian au pair and learned to speak dutch german and english while growing upherbers went to the ignatius gymnasium in amsterdam from 1993 to 1999 she studied psychology at the university of amsterdam 19992000 but stopped after a year during her studies she attended the local theatre school de trap she then went to the hb studio in new york city 20002001 and studied theatre at the theaterschool in amsterdam 20012005during her studies she played in the films peter bell 2002 and brush with fate 2003 after her graduation herbers became a member of ntgent in ghent she is currently member of the munich kammerspiele in munich and het nationale toneel in the hague she lives in munich and amsterdam in 2013 she won the guido de moor award for young talentshe performed the piece im wunderschnen monat mai with pianist conductor and composer reinbert de leeuw in 2013in february 2014 it was announced that she will play the role of the only female physicist at los alamos in the wgn americas drama series manhattan', 'neil shaka hislop cm born 22 february 1969 is a former football goalkeeper the majority of his career was spent in the top division in england where he was a part of the newcastle united team which finished second in the premier league for two successive seasons under kevin keegans first tenure before this he played for reading where he was on the losing side in the 1st division playoffs despite finishing second overall which became an automatic promotion slot the following season he later played for west ham united on two separate occasions receiving an fa cup runnerup medal during his second term in 2006 and also portsmouth where he won the 1st division in 200203he was eligible to play for both england and trinidad and tobago he initially played for the england u21 team and was on the bench for a full international against chile but in the end opted to play for trinidad tobago a dispute with the national team ruled him out of contention for several years but he returned to play and starred in the countrys first ever world cup appearance in 2006he is now working for sports news and broadcasting service espn and regularly provides commentary on eredivisie serie a and mexican liga mx matches he had also briefly worked as a goalkeeping coach for the football team at quinnipiac university', 'martin iveson is a british composer known for his audio work within the video games industry and better known for his contributions to the world of music releases martins music ranges from mainstream house music to deep house hiphop and nu jazz and he writes under the moniker atjazz martin also owns and runs atjazz record companyfrom his misspent youth skateboarding the frontier towns of north eastern england martin iveson arrived into the uks midland scene in the early nineties here he was to take a job at a new computer games development studio by the name of core design ltd this company is now synonymous with lara croft and the series of tomb raider gamesnot content with scoring this one of the worlds most famous video games martin left the company 13 years later to concentrate more on his own studio environment in which to channel his musical aspirations further and invite other musicians and producers to do the samethe success of his early works including his first ep story in 1996 led to the wellreceived album that something which was later licensed in japan by sonykioon in 1998 this debut album also featured cover artwork by fujio akatsuka very well known in japan for his illustrations and animated cartoons with two further albums labfunk labresults following soon after atjazz had at this time established himself as a distinct and inspirational voice in the underground music scenemartin has also been a prolific remixer throughout his career remixing and reworking songs works for artists such as nitin sawhney bob sinclar jazzanova zed bias omar to name but a few and was even requested to rework henri mancinis the pink panther returns for emi records martin is still remixing heavily as he states that remixing has helped to launch his production techniques forward and its the perfect practice pitch for trying out new ideas and breaking the mould within a diluted industry remixing helps to hone your sound and allows the producer to print their trademark into another spacemartins trademark sound has been requested on many occasions by top class vocalists including clara hill replife deborah jordan for their own artist album projects and also rubbing shoulders with some amazing musicians producers along the way martin has also teamed up with worldclass production legend charles webster as version and are working on their debut album for miso records2009 saw martin close his label mantis recordings due to harsh industry changes and from these ashes came the imprint appropriately named atjazz record company which has flown to great heights within the digital realm and has seen many fantastic and sought after releases including his 3rd long player full circle this label concentrates heavily on martins productions and collaborations atjazz record company is a new chapter for atjazz but with a continuation of his trademark soundmartin atjazz iveson is in demand across the world whether it be renowned producer sought after remixer or floor filling dj martin gives his heart to hold the soulhe cites shostakovich stravinsky john frizzell and john williams as influencers for the soundtrack of tomb raider the angel of darkness', 'eva felicitas habermann born january 16 1976 is a german actress who has appeared in numerous films and tv series she is best known for playing the role of zev bellringer in the television series lexx she was succeeded in her role by xenia seebergwhile studying for the german equivalent of her senior high school diploma advanced placement courses only eva received singing and dancing lessons soon after graduation she obtained her first television role in lexx she also moderated the children pumuckl tv broadcast on german tv 19951996while lexx was on hiatus between seasons 1 and 2 eva appeared in the zdf series rosa roth and the ard series the beach club as well as appearing in the rosamunde pilcher film two sisters due to scheduling conflicts she was ultimately unable to commit to the second season of the show as with a twoyear gap between the first and second seasons she accepted other projects and thus when season two was ultimately greenlit she was unavailable she was however able to free up enough time in her schedule to appear in the first two episodes allowing the writers to deal with her character properlyin 1999 she took drama lessons and played in such german tv series as the crime scene the investigators the commissioner and wild angelsin 2005 she was in the new episodes of the twentyyearold series the black forest clinic and in 2006 she was seen in the tv movie in heaven you write love differently alongside erol sanderin 2008 she played again with sander the role of olivia orourke in the film who loves promises by rebecca rymanher comedy roles included angel express 1997 fire ice and cans of beer 2001 and in the old monkey fear 2002in the clown payday 2005 she played the role of leah diehlin 2003 she was ranked no 17 in fhmgermanys 100 sexiest women', 'steve castle born 17 may 1966 in barking is a former english football midfielder who played in the football league between 1984 and 2001 he played for leyton orient in three separate spells amassing a total of 322 appearances for them castles combative style attracted the attention of liverpool boss kenny dalglish and wimbledon manager bobby gould castle was named in the pfa third division team of the year for the 199091 season a twitter poll in 2014 saw castle voted as orients greatest ever captainhe also played league football with plymouth argyle birmingham city gillingham and peterborough unitedplymouth argyle boss peter shilton was seeking a midfield general to rally his newlook squad following relegation from the second tier in 1992 on the advice of a scout he took in a game at brisbane road and left at halftime instructing argyle director denis angilley to start negotiations as he had seen enough of his target a 225000 transfer fee duly paid castle headed to home park and was promptly injured in a preseason friendly argyle fans would have to wait until late october to see their new midfield marvel in meaningful action but it turned out to be well worth the wait he scored on his debut in a 20 victory vs wigan athletic and by seasons end had notched up 12 more he continued in a similar vein the following season as argyle marched to the playoffs bagging 16 goals by christmas and eventually ending the campaign with 22 the undisputed highlight of his argyle career and one of his own personal highlights incidentally was a recordbreaking hattrick in a fine 32 win at stockport county in december 1993 his three goals in six secondhalf minutes were an astonishing feat and one that confirmed his place as a firm favourite of the fans indeed super stevie castle became home parks undisputed golden boy thanks to his barnstorming allaction style and a left foot that developed an intimate relationship with the back of the net castle was named alongside his midfield partner steve mccall in the alltime argyle xi in a poll taken on the clubs website in 2011 he was named in the pfa second division team of the year for the 199394 season before transferring to birmingham city in 1995castle joined peterborough on a free transfer as playercoach for the 199798 season and over the next three seasons he played 122 senior matches and scored 20 goals winning the playoff final at wembley in his final game he moved to leyton orient on a free for 200001 in his final season at orient castle gained his uefa a coaching licence castle retired due to a persistent knee injuryin september 2006 he became assistant manager to jimmy quinn at cambridge unitedon the 13th december 2013 he became royston town manager with his first game in charge expected to be the boxing day home fixture against top of the table dunstable town', 'armen ra is an american artist and performer of iranianarmenian descent born in tehran iran he was raised by his mother a concert pianist and his aunt an opera singer and ikebana master he taught himself to play theremin his music fuses armenian folk music with modern instrumentation along with melodic lounge standards and classical arias his concerts are known for their combination of both visual arts and his musicarmen ra has played at the united nations wiener konzerthaus mozartsaal vienna cbgbs knitting factory la mama etc joes pub boulder museum of modern art lincoln center the gershwin hotel bb king museum and dietch projects he has been featured on and appeared in cnn hbo mtv vh1 vogue the new york times the new york post the village voice rolling stone and glamourhe has performed and recorded with various bands and on many projects including a collaboration with british recording artist marc almond on the song my madness i from his 2010 release variet his debut solo cd plays the theremin released on bowl fork records in 2010 showcases many classical armenian laments and folk songs representing both armens heritage and his very first musical influence he has a cameo appearance in the film party monsterhe currently resides in hollywood californiain october 2010 armen appeared as a guest judge on the logo network show the arrangementra appeared on the cover track everyday is halloween playing the theremin for sharon needles album pg13 in 2014 he played the theremin for voltaires album raised by bats', 'david james shaughnessy also spelled shaughnessey is a britishborn television director theatre director and producer and actor he was educated at eton college and the central school of speech and drama london he started in repertory theatres all around the uk and went on to become a principal actor with the old vic theatre company in london and touring around the world he went on to perform in national tours including 18 months in godspell for producer cameron mackintosh and acted in television series and movies both in the uk and the uslater he turned to theatre and television directing then moved into producing ultimately becoming executive producer of the daytime drama the young and the restless he now directs for the bold and the beautiful on a freelance basis while developing and seen a service for actors with geoffrey wade he also provides voiceovers for films cartoons commercials and video gameshis father was alfred shaughnessy a scriptwriter he is best known for his work as writer and producer of upstairs downstairs his older brother is the actor charles shaughnessy best known as maxwell sheffield on the television show the nanny his wife is former days of our lives head writer anne schoettle david and anne live in los angeles and have three daughters amy katie and josiehe is the heir presumptive to the barony of shaughnessy which is held by his brother', 'john douglas reynolds pc born january 19 1942 was the member of parliament for the riding of west vancouversunshine coastsea to sky country in the canadian house of commons from 1997 to 2006 he had also been an mp in the 1970s as well as a provincial politician in british columbia in the 1980s and 1990s he was first elected to parliament as a candidate of the progressive conservatives in 1972 and was reelected in 1974 he resigned in 1977 after disagreeing with joe clarks red tory policiesbeginning in 1983 he was active in the social credit party of british columbia and served as speaker of the british columbia legislative assembly and as a cabinet minister in 1986 he was a candidate at the social credit leadership convention coming in fifth he remained in provincial politics until 1991 when he was defeated in his bid for reelectionreynolds returned to parliament in 1997 as a reform mp and served as chief opposition whip he remained in this role when the reform party was folded into the canadian alliance when stockwell day faced a revolt in his caucus in 2001 and chuck strahl resigned as house leader reynolds was named in his place when day resigned as alliance leader reynolds was chosen as interim party leader and leader of the opposition and served until stephen harper was elected the new party leaderreynolds resigned as house leader on january 24 2005 but continued as mp for his riding until his retirement at the 2006 federal election he was the coordinator of the conservative campaign in british columbia on the day after the election which resulted in a conservative minority government harper asked reynolds to approach liberal minister david emerson about crossing the floor and serving as a minister in harpers government emerson eventually accepted the offer which triggered a firestorm of criticism however reynolds who had strongly criticized belinda stronachs switch from the conservatives to the liberals told a suburban vancouver newspaper that he was very happy that emerson was a conservative and claimed that the people of emersons leftleaning vancouver riding got the better end of the bargain instead of having someone in opposition he said they have someone who is a cabinet minister of a new government', 'dean greig born 31 october 1968 is a former australian rules footballer in the australian football leaguegreig played under 19s football for hawthorn in the victorian football league vfl during the 1980s captaining the team and winning its best and fairest award in 1985 despite this hawthorn did not wish to retain him and it released him at the end of 1985 he trialled a preseason at collingwood but was also not recruited to its senior listin 1990 grieg played for the ailing camberwell football club in the victorian football association he polled ten j j liston trophy votes in only nine games and camberwell coach gary brice described griegs performances as the sole shining light in a winless season which turned out to be the clubs last in the vfagrieg was subsequently recruited to the australian football league to which the vfl had changed its name in 1990 by the st kilda football club in 1991 on debut in round 21 1991 at nearly 23 years of age he compiled a league record 39 disposals 23 kicks 16 handballs against carltona strongly built midfielder he didnt progress as expected nevertheless managed some fine games with the st kilda and was noted for his creative handballin 2001 whilst playing for his suburban club scoresby he suffered a broken leg and due to the onset of gangrene following infection had his lower leg amputated after an onfield mishap', ... ]"
      ]
     },
     "execution_count": 54,
     "metadata": {},
     "output_type": "execute_result"
    }
   ],
   "source": [
    "wiki['text']"
   ]
  },
  {
   "cell_type": "markdown",
   "metadata": {},
   "source": [
    "### Extract word count vectors"
   ]
  },
  {
   "cell_type": "code",
   "execution_count": 5,
   "metadata": {
    "collapsed": true
   },
   "outputs": [],
   "source": [
    "def load_sparse_csr(filename):\n",
    "    loader = np.load(filename)\n",
    "    data = loader['data']\n",
    "    indices = loader['indices']\n",
    "    indptr = loader['indptr']\n",
    "    shape = loader['shape']\n",
    "    print \"Shape = \", shape\n",
    "    \n",
    "    return csr_matrix( (data, indices, indptr), shape)"
   ]
  },
  {
   "cell_type": "code",
   "execution_count": 6,
   "metadata": {
    "collapsed": false
   },
   "outputs": [
    {
     "name": "stdout",
     "output_type": "stream",
     "text": [
      "Shape =  [ 59071 547979]\n"
     ]
    }
   ],
   "source": [
    "word_count  = load_sparse_csr('people_wiki_word_count.npz') # pre-processed set of word counts"
   ]
  },
  {
   "cell_type": "code",
   "execution_count": 18,
   "metadata": {
    "collapsed": false
   },
   "outputs": [
    {
     "name": "stdout",
     "output_type": "stream",
     "text": [
      "(doc#, word#)  count\n",
      "  (0, 5877)\t1\n",
      "  (0, 92219)\t1\n",
      "  (0, 227191)\t1\n",
      "  (0, 446948)\t1\n",
      "  (0, 468870)\t1\n",
      "  (0, 477285)\t5\n",
      "  (0, 492466)\t1\n",
      "  (0, 509506)\t1\n",
      "  (0, 514262)\t1\n",
      "  (0, 523996)\t1\n",
      "  (0, 528953)\t1\n",
      "  (0, 529843)\t1\n",
      "  (0, 533540)\t1\n",
      "  (0, 535034)\t3\n",
      "  (0, 535475)\t1\n",
      "  (0, 538022)\t1\n",
      "  (0, 538168)\t1\n",
      "  (0, 540827)\t1\n",
      "  (0, 541501)\t1\n",
      "  (0, 541760)\t1\n",
      "  (0, 542488)\t1\n",
      "  (0, 542854)\t1\n",
      "  (0, 542859)\t1\n",
      "  (0, 542919)\t1\n",
      "  (0, 543517)\t2\n",
      "  :\t:\n",
      "  (59070, 547944)\t1\n",
      "  (59070, 547947)\t1\n",
      "  (59070, 547949)\t1\n",
      "  (59070, 547950)\t1\n",
      "  (59070, 547951)\t1\n",
      "  (59070, 547954)\t1\n",
      "  (59070, 547957)\t2\n",
      "  (59070, 547960)\t2\n",
      "  (59070, 547961)\t1\n",
      "  (59070, 547962)\t1\n",
      "  (59070, 547964)\t4\n",
      "  (59070, 547965)\t2\n",
      "  (59070, 547966)\t6\n",
      "  (59070, 547967)\t1\n",
      "  (59070, 547968)\t4\n",
      "  (59070, 547969)\t1\n",
      "  (59070, 547970)\t8\n",
      "  (59070, 547971)\t3\n",
      "  (59070, 547972)\t6\n",
      "  (59070, 547973)\t1\n",
      "  (59070, 547974)\t2\n",
      "  (59070, 547975)\t6\n",
      "  (59070, 547976)\t6\n",
      "  (59070, 547977)\t9\n",
      "  (59070, 547978)\t14\n"
     ]
    }
   ],
   "source": [
    "print \"(doc#, word#)  count\"\n",
    "print word_count"
   ]
  },
  {
   "cell_type": "code",
   "execution_count": 8,
   "metadata": {
    "collapsed": false
   },
   "outputs": [
    {
     "data": {
      "text/plain": [
       "matrix([[ 0,  0,  0, ..., 13,  4, 27],\n",
       "        [ 0,  0,  0, ...,  4, 10,  2],\n",
       "        [ 0,  0,  0, ...,  7,  7, 12],\n",
       "        ..., \n",
       "        [ 0,  0,  0, ...,  6,  4,  9],\n",
       "        [ 0,  0,  0, ...,  9,  8, 13],\n",
       "        [ 0,  0,  0, ...,  6,  9, 14]])"
      ]
     },
     "execution_count": 8,
     "metadata": {},
     "output_type": "execute_result"
    }
   ],
   "source": [
    "word_count.todense()"
   ]
  },
  {
   "cell_type": "code",
   "execution_count": 9,
   "metadata": {
    "collapsed": true
   },
   "outputs": [],
   "source": [
    "map_index_to_word = sframe.SFrame('people_wiki_map_index_to_word.gl/') # mapping between words and integer indices"
   ]
  },
  {
   "cell_type": "code",
   "execution_count": 10,
   "metadata": {
    "collapsed": false
   },
   "outputs": [
    {
     "data": {
      "text/html": [
       "<div style=\"max-height:1000px;max-width:1500px;overflow:auto;\"><table frame=\"box\" rules=\"cols\">\n",
       "    <tr>\n",
       "        <th style=\"padding-left: 1em; padding-right: 1em; text-align: center\">feature</th>\n",
       "        <th style=\"padding-left: 1em; padding-right: 1em; text-align: center\">category</th>\n",
       "        <th style=\"padding-left: 1em; padding-right: 1em; text-align: center\">index</th>\n",
       "    </tr>\n",
       "    <tr>\n",
       "        <td style=\"padding-left: 1em; padding-right: 1em; text-align: center; vertical-align: top\">feature</td>\n",
       "        <td style=\"padding-left: 1em; padding-right: 1em; text-align: center; vertical-align: top\">bioarchaeologist</td>\n",
       "        <td style=\"padding-left: 1em; padding-right: 1em; text-align: center; vertical-align: top\">0</td>\n",
       "    </tr>\n",
       "    <tr>\n",
       "        <td style=\"padding-left: 1em; padding-right: 1em; text-align: center; vertical-align: top\">feature</td>\n",
       "        <td style=\"padding-left: 1em; padding-right: 1em; text-align: center; vertical-align: top\">leaguehockey</td>\n",
       "        <td style=\"padding-left: 1em; padding-right: 1em; text-align: center; vertical-align: top\">1</td>\n",
       "    </tr>\n",
       "    <tr>\n",
       "        <td style=\"padding-left: 1em; padding-right: 1em; text-align: center; vertical-align: top\">feature</td>\n",
       "        <td style=\"padding-left: 1em; padding-right: 1em; text-align: center; vertical-align: top\">electionruss</td>\n",
       "        <td style=\"padding-left: 1em; padding-right: 1em; text-align: center; vertical-align: top\">2</td>\n",
       "    </tr>\n",
       "    <tr>\n",
       "        <td style=\"padding-left: 1em; padding-right: 1em; text-align: center; vertical-align: top\">feature</td>\n",
       "        <td style=\"padding-left: 1em; padding-right: 1em; text-align: center; vertical-align: top\">teramoto</td>\n",
       "        <td style=\"padding-left: 1em; padding-right: 1em; text-align: center; vertical-align: top\">3</td>\n",
       "    </tr>\n",
       "    <tr>\n",
       "        <td style=\"padding-left: 1em; padding-right: 1em; text-align: center; vertical-align: top\">feature</td>\n",
       "        <td style=\"padding-left: 1em; padding-right: 1em; text-align: center; vertical-align: top\">trumpeterpercussionist</td>\n",
       "        <td style=\"padding-left: 1em; padding-right: 1em; text-align: center; vertical-align: top\">4</td>\n",
       "    </tr>\n",
       "    <tr>\n",
       "        <td style=\"padding-left: 1em; padding-right: 1em; text-align: center; vertical-align: top\">feature</td>\n",
       "        <td style=\"padding-left: 1em; padding-right: 1em; text-align: center; vertical-align: top\">spoofax</td>\n",
       "        <td style=\"padding-left: 1em; padding-right: 1em; text-align: center; vertical-align: top\">5</td>\n",
       "    </tr>\n",
       "    <tr>\n",
       "        <td style=\"padding-left: 1em; padding-right: 1em; text-align: center; vertical-align: top\">feature</td>\n",
       "        <td style=\"padding-left: 1em; padding-right: 1em; text-align: center; vertical-align: top\">mendelssohni</td>\n",
       "        <td style=\"padding-left: 1em; padding-right: 1em; text-align: center; vertical-align: top\">6</td>\n",
       "    </tr>\n",
       "    <tr>\n",
       "        <td style=\"padding-left: 1em; padding-right: 1em; text-align: center; vertical-align: top\">feature</td>\n",
       "        <td style=\"padding-left: 1em; padding-right: 1em; text-align: center; vertical-align: top\">crosswise</td>\n",
       "        <td style=\"padding-left: 1em; padding-right: 1em; text-align: center; vertical-align: top\">7</td>\n",
       "    </tr>\n",
       "    <tr>\n",
       "        <td style=\"padding-left: 1em; padding-right: 1em; text-align: center; vertical-align: top\">feature</td>\n",
       "        <td style=\"padding-left: 1em; padding-right: 1em; text-align: center; vertical-align: top\">yec</td>\n",
       "        <td style=\"padding-left: 1em; padding-right: 1em; text-align: center; vertical-align: top\">8</td>\n",
       "    </tr>\n",
       "    <tr>\n",
       "        <td style=\"padding-left: 1em; padding-right: 1em; text-align: center; vertical-align: top\">feature</td>\n",
       "        <td style=\"padding-left: 1em; padding-right: 1em; text-align: center; vertical-align: top\">asianthemed</td>\n",
       "        <td style=\"padding-left: 1em; padding-right: 1em; text-align: center; vertical-align: top\">9</td>\n",
       "    </tr>\n",
       "</table>\n",
       "[547979 rows x 3 columns]<br/>Note: Only the head of the SFrame is printed.<br/>You can use print_rows(num_rows=m, num_columns=n) to print more rows and columns.\n",
       "</div>"
      ],
      "text/plain": [
       "Columns:\n",
       "\tfeature\tstr\n",
       "\tcategory\tstr\n",
       "\tindex\tint\n",
       "\n",
       "Rows: 547979\n",
       "\n",
       "Data:\n",
       "+---------+------------------------+-------+\n",
       "| feature |        category        | index |\n",
       "+---------+------------------------+-------+\n",
       "| feature |    bioarchaeologist    |   0   |\n",
       "| feature |      leaguehockey      |   1   |\n",
       "| feature |      electionruss      |   2   |\n",
       "| feature |        teramoto        |   3   |\n",
       "| feature | trumpeterpercussionist |   4   |\n",
       "| feature |        spoofax         |   5   |\n",
       "| feature |      mendelssohni      |   6   |\n",
       "| feature |       crosswise        |   7   |\n",
       "| feature |          yec           |   8   |\n",
       "| feature |      asianthemed       |   9   |\n",
       "+---------+------------------------+-------+\n",
       "[547979 rows x 3 columns]\n",
       "Note: Only the head of the SFrame is printed.\n",
       "You can use print_rows(num_rows=m, num_columns=n) to print more rows and columns."
      ]
     },
     "execution_count": 10,
     "metadata": {},
     "output_type": "execute_result"
    }
   ],
   "source": [
    "map_index_to_word"
   ]
  },
  {
   "cell_type": "code",
   "execution_count": 11,
   "metadata": {
    "collapsed": false
   },
   "outputs": [
    {
     "name": "stdout",
     "output_type": "stream",
     "text": [
      "{'category': 'brisbaneafter', 'index': 5877, 'feature': 'feature'} {'category': 'morrell', 'index': 477285, 'feature': 'feature'}\n"
     ]
    }
   ],
   "source": [
    "print map_index_to_word[5877], map_index_to_word[477285]"
   ]
  },
  {
   "cell_type": "markdown",
   "metadata": {
    "collapsed": true
   },
   "source": [
    "### (Optional) Extracting word count vectors yourself"
   ]
  },
  {
   "cell_type": "code",
   "execution_count": 13,
   "metadata": {
    "collapsed": true
   },
   "outputs": [],
   "source": [
    "from sklearn.feature_extraction.text import CountVectorizer\n",
    "vectorizer = CountVectorizer(min_df=1)"
   ]
  },
  {
   "cell_type": "code",
   "execution_count": 14,
   "metadata": {
    "collapsed": false
   },
   "outputs": [
    {
     "data": {
      "text/plain": [
       "CountVectorizer(analyzer=u'word', binary=False, decode_error=u'strict',\n",
       "        dtype=<type 'numpy.int64'>, encoding=u'utf-8', input=u'content',\n",
       "        lowercase=True, max_df=1.0, max_features=None, min_df=1,\n",
       "        ngram_range=(1, 1), preprocessor=None, stop_words=None,\n",
       "        strip_accents=None, token_pattern=u'(?u)\\\\b\\\\w\\\\w+\\\\b',\n",
       "        tokenizer=None, vocabulary=None)"
      ]
     },
     "execution_count": 14,
     "metadata": {},
     "output_type": "execute_result"
    }
   ],
   "source": [
    "vectorizer"
   ]
  },
  {
   "cell_type": "code",
   "execution_count": 15,
   "metadata": {
    "collapsed": false
   },
   "outputs": [],
   "source": [
    "X = vectorizer.fit_transform(wiki['text'])"
   ]
  },
  {
   "cell_type": "code",
   "execution_count": 19,
   "metadata": {
    "collapsed": false
   },
   "outputs": [
    {
     "name": "stdout",
     "output_type": "stream",
     "text": [
      "  (0, 160700)\t1\n",
      "  (0, 336243)\t5\n",
      "  (0, 96657)\t1\n",
      "  (0, 708)\t1\n",
      "  (0, 359661)\t1\n",
      "  (0, 11155)\t1\n",
      "  (0, 259967)\t1\n",
      "  (0, 203221)\t1\n",
      "  (0, 72929)\t3\n",
      "  (0, 427401)\t1\n",
      "  (0, 202280)\t1\n",
      "  (0, 530198)\t1\n",
      "  (0, 387075)\t3\n",
      "  (0, 532952)\t5\n",
      "  (0, 487957)\t27\n",
      "  (0, 272604)\t3\n",
      "  (0, 58945)\t4\n",
      "  (0, 111996)\t2\n",
      "  (0, 251979)\t13\n",
      "  (0, 202239)\t10\n",
      "  (0, 293594)\t4\n",
      "  (0, 48453)\t1\n",
      "  (0, 528859)\t1\n",
      "  (0, 72776)\t1\n",
      "  (0, 239345)\t3\n",
      "  :\t:\n",
      "  (59070, 104461)\t1\n",
      "  (59070, 475505)\t1\n",
      "  (59070, 138923)\t1\n",
      "  (59070, 180471)\t1\n",
      "  (59070, 374547)\t1\n",
      "  (59070, 152855)\t1\n",
      "  (59070, 138660)\t1\n",
      "  (59070, 386402)\t1\n",
      "  (59070, 371886)\t1\n",
      "  (59070, 307299)\t1\n",
      "  (59070, 257250)\t1\n",
      "  (59070, 156935)\t1\n",
      "  (59070, 266591)\t2\n",
      "  (59070, 336653)\t1\n",
      "  (59070, 22972)\t1\n",
      "  (59070, 250992)\t1\n",
      "  (59070, 126989)\t1\n",
      "  (59070, 419213)\t1\n",
      "  (59070, 414286)\t1\n",
      "  (59070, 193318)\t1\n",
      "  (59070, 135518)\t1\n",
      "  (59070, 149863)\t4\n",
      "  (59070, 193336)\t1\n",
      "  (59070, 149862)\t1\n",
      "  (59070, 501983)\t1\n"
     ]
    }
   ],
   "source": [
    "print X"
   ]
  },
  {
   "cell_type": "code",
   "execution_count": 62,
   "metadata": {
    "collapsed": false
   },
   "outputs": [
    {
     "name": "stdout",
     "output_type": "stream",
     "text": [
      "  (0, 160700)\t1\n",
      "  (0, 336243)\t5\n",
      "  (0, 96657)\t1\n",
      "  (0, 708)\t1\n",
      "  (0, 359661)\t1\n",
      "  (0, 11155)\t1\n",
      "  (0, 259967)\t1\n",
      "  (0, 203221)\t1\n",
      "  (0, 72929)\t3\n",
      "  (0, 427401)\t1\n",
      "  (0, 202280)\t1\n",
      "  (0, 530198)\t1\n",
      "  (0, 387075)\t3\n",
      "  (0, 532952)\t5\n",
      "  (0, 487957)\t27\n",
      "  (0, 272604)\t3\n",
      "  (0, 58945)\t4\n",
      "  (0, 111996)\t2\n",
      "  (0, 251979)\t13\n",
      "  (0, 202239)\t10\n",
      "  (0, 293594)\t4\n",
      "  (0, 48453)\t1\n",
      "  (0, 528859)\t1\n",
      "  (0, 72776)\t1\n",
      "  (0, 239345)\t3\n",
      "  :\t:\n",
      "  (0, 207275)\t2\n",
      "  (0, 23810)\t1\n",
      "  (0, 510734)\t1\n",
      "  (0, 26672)\t1\n",
      "  (0, 470490)\t1\n",
      "  (0, 184573)\t1\n",
      "  (0, 163902)\t1\n",
      "  (0, 25333)\t1\n",
      "  (0, 395095)\t1\n",
      "  (0, 164319)\t1\n",
      "  (0, 395130)\t1\n",
      "  (0, 452091)\t1\n",
      "  (0, 27234)\t1\n",
      "  (0, 232405)\t1\n",
      "  (0, 128998)\t1\n",
      "  (0, 129472)\t1\n",
      "  (0, 55807)\t1\n",
      "  (0, 174317)\t1\n",
      "  (0, 147538)\t1\n",
      "  (0, 482973)\t1\n",
      "  (0, 383494)\t1\n",
      "  (0, 174892)\t1\n",
      "  (0, 373391)\t1\n",
      "  (0, 131019)\t1\n",
      "  (0, 323149)\t1\n"
     ]
    }
   ],
   "source": [
    "print X[0]"
   ]
  },
  {
   "cell_type": "markdown",
   "metadata": {
    "collapsed": true
   },
   "source": [
    "### Find nearest neighbors using word count vectors"
   ]
  },
  {
   "cell_type": "code",
   "execution_count": 23,
   "metadata": {
    "collapsed": false
   },
   "outputs": [
    {
     "data": {
      "text/plain": [
       "NearestNeighbors(algorithm='brute', leaf_size=30, metric='euclidean',\n",
       "         metric_params=None, n_jobs=1, n_neighbors=5, p=2, radius=1.0)"
      ]
     },
     "execution_count": 23,
     "metadata": {},
     "output_type": "execute_result"
    }
   ],
   "source": [
    "from sklearn.neighbors import NearestNeighbors\n",
    "model = NearestNeighbors(metric='euclidean', algorithm='brute')\n",
    "model.fit(word_count)"
   ]
  },
  {
   "cell_type": "code",
   "execution_count": 24,
   "metadata": {
    "collapsed": false
   },
   "outputs": [
    {
     "name": "stdout",
     "output_type": "stream",
     "text": [
      "+-------+-------------------------------+--------------+\n",
      "|   id  |              URI              |     name     |\n",
      "+-------+-------------------------------+--------------+\n",
      "| 35817 | <http://dbpedia.org/resour... | Barack Obama |\n",
      "+-------+-------------------------------+--------------+\n",
      "+-------------------------------+\n",
      "|              text             |\n",
      "+-------------------------------+\n",
      "| barack hussein obama ii br... |\n",
      "+-------------------------------+\n",
      "[? rows x 4 columns]\n",
      "Note: Only the head of the SFrame is printed. This SFrame is lazily evaluated.\n",
      "You can use sf.materialize() to force materialization.\n"
     ]
    }
   ],
   "source": [
    "print wiki[wiki['name']=='Barack Obama']"
   ]
  },
  {
   "cell_type": "code",
   "execution_count": 25,
   "metadata": {
    "collapsed": true
   },
   "outputs": [],
   "source": [
    "distances, indices = model.kneighbors(word_count[35817], n_neighbors=10)"
   ]
  },
  {
   "cell_type": "code",
   "execution_count": 26,
   "metadata": {
    "collapsed": false
   },
   "outputs": [
    {
     "name": "stdout",
     "output_type": "stream",
     "text": [
      "+-------+----------------------------+---------------+\n",
      "|   id  |            name            |    distance   |\n",
      "+-------+----------------------------+---------------+\n",
      "| 35817 |        Barack Obama        |      0.0      |\n",
      "| 24478 |         Joe Biden          | 33.0756708171 |\n",
      "| 28447 |       George W. Bush       | 34.3947670438 |\n",
      "| 35357 |      Lawrence Summers      | 36.1524549651 |\n",
      "| 14754 |        Mitt Romney         | 36.1662826401 |\n",
      "| 13229 |      Francisco Barrio      | 36.3318042492 |\n",
      "| 31423 |       Walter Mondale       | 36.4005494464 |\n",
      "| 22745 | Wynn Normington Hugh-Jones | 36.4965751818 |\n",
      "| 36364 |         Don Bonker         |  36.633318168 |\n",
      "|  9210 |        Andy Anstett        | 36.9594372252 |\n",
      "+-------+----------------------------+---------------+\n",
      "[10 rows x 3 columns]\n",
      "\n"
     ]
    }
   ],
   "source": [
    "neighbors = sframe.SFrame({'distance': distances.flatten(), 'id': indices.flatten() })\n",
    "print wiki.join(neighbors, on='id').sort('distance')[['id', 'name', 'distance']]"
   ]
  },
  {
   "cell_type": "markdown",
   "metadata": {},
   "source": [
    "### Testing with my own word_count vectors"
   ]
  },
  {
   "cell_type": "code",
   "execution_count": 27,
   "metadata": {
    "collapsed": false
   },
   "outputs": [
    {
     "data": {
      "text/plain": [
       "NearestNeighbors(algorithm='brute', leaf_size=30, metric='euclidean',\n",
       "         metric_params=None, n_jobs=1, n_neighbors=5, p=2, radius=1.0)"
      ]
     },
     "execution_count": 27,
     "metadata": {},
     "output_type": "execute_result"
    }
   ],
   "source": [
    "model2 = NearestNeighbors(metric='euclidean', algorithm='brute')\n",
    "model2.fit(X)"
   ]
  },
  {
   "cell_type": "code",
   "execution_count": 29,
   "metadata": {
    "collapsed": false
   },
   "outputs": [],
   "source": [
    "distances2, indices2 = model2.kneighbors(X[35817], n_neighbors=10)"
   ]
  },
  {
   "cell_type": "code",
   "execution_count": 30,
   "metadata": {
    "collapsed": false
   },
   "outputs": [
    {
     "name": "stdout",
     "output_type": "stream",
     "text": [
      "+-------+----------------------------+---------------+\n",
      "|   id  |            name            |    distance   |\n",
      "+-------+----------------------------+---------------+\n",
      "| 35817 |        Barack Obama        |      0.0      |\n",
      "| 24478 |         Joe Biden          | 33.0151480384 |\n",
      "| 28447 |       George W. Bush       | 34.3074335968 |\n",
      "| 14754 |        Mitt Romney         | 35.7910603363 |\n",
      "| 35357 |      Lawrence Summers      | 36.0693775937 |\n",
      "| 31423 |       Walter Mondale       | 36.2491379208 |\n",
      "| 13229 |      Francisco Barrio      | 36.2767142944 |\n",
      "| 36364 |         Don Bonker         | 36.4005494464 |\n",
      "| 22745 | Wynn Normington Hugh-Jones | 36.4417343166 |\n",
      "|  7660 |  Refael (Rafi) Benvenisti  | 36.8374809128 |\n",
      "+-------+----------------------------+---------------+\n",
      "[10 rows x 3 columns]\n",
      "\n"
     ]
    }
   ],
   "source": [
    "neighbors2 = sframe.SFrame({'distance': distances2.flatten(), 'id': indices2.flatten() })\n",
    "print wiki.join(neighbors2, on='id').sort('distance')[['id', 'name', 'distance']]"
   ]
  },
  {
   "cell_type": "markdown",
   "metadata": {},
   "source": [
    "### Interpreting the nearest neighbors"
   ]
  },
  {
   "cell_type": "code",
   "execution_count": 33,
   "metadata": {
    "collapsed": false
   },
   "outputs": [],
   "source": [
    "def unpack_dict(matrix, map_index_to_word):\n",
    "    table = list(map_index_to_word.sort('index')['category'])\n",
    "    \n",
    "    data = matrix.data\n",
    "    indices = matrix.indices\n",
    "    indptr = matrix.indptr\n",
    "    \n",
    "    num_doc = matrix.shape[0]\n",
    " \n",
    "    return [{k:v for k,v in zip([table[word_id] for word_id in indices[indptr[i]:indptr[i+1]] ], data[indptr[i]:indptr[i+1]].tolist())}  \\\n",
    "               for i in xrange(num_doc) ]\n",
    "\n",
    "wiki['word_count'] = unpack_dict(word_count, map_index_to_word)"
   ]
  },
  {
   "cell_type": "code",
   "execution_count": 34,
   "metadata": {
    "collapsed": false
   },
   "outputs": [
    {
     "data": {
      "text/html": [
       "<div style=\"max-height:1000px;max-width:1500px;overflow:auto;\"><table frame=\"box\" rules=\"cols\">\n",
       "    <tr>\n",
       "        <th style=\"padding-left: 1em; padding-right: 1em; text-align: center\">id</th>\n",
       "        <th style=\"padding-left: 1em; padding-right: 1em; text-align: center\">URI</th>\n",
       "        <th style=\"padding-left: 1em; padding-right: 1em; text-align: center\">name</th>\n",
       "        <th style=\"padding-left: 1em; padding-right: 1em; text-align: center\">text</th>\n",
       "        <th style=\"padding-left: 1em; padding-right: 1em; text-align: center\">word_count</th>\n",
       "    </tr>\n",
       "    <tr>\n",
       "        <td style=\"padding-left: 1em; padding-right: 1em; text-align: center; vertical-align: top\">0</td>\n",
       "        <td style=\"padding-left: 1em; padding-right: 1em; text-align: center; vertical-align: top\">&lt;http://dbpedia.org/resou<br>rce/Digby_Morrell&gt; ...</td>\n",
       "        <td style=\"padding-left: 1em; padding-right: 1em; text-align: center; vertical-align: top\">Digby Morrell</td>\n",
       "        <td style=\"padding-left: 1em; padding-right: 1em; text-align: center; vertical-align: top\">digby morrell born 10<br>october 1979 is a former ...</td>\n",
       "        <td style=\"padding-left: 1em; padding-right: 1em; text-align: center; vertical-align: top\">{'selection': 1,<br>'carltons': 1, 'being': ...</td>\n",
       "    </tr>\n",
       "    <tr>\n",
       "        <td style=\"padding-left: 1em; padding-right: 1em; text-align: center; vertical-align: top\">1</td>\n",
       "        <td style=\"padding-left: 1em; padding-right: 1em; text-align: center; vertical-align: top\">&lt;http://dbpedia.org/resou<br>rce/Alfred_J._Lewy&gt; ...</td>\n",
       "        <td style=\"padding-left: 1em; padding-right: 1em; text-align: center; vertical-align: top\">Alfred J. Lewy</td>\n",
       "        <td style=\"padding-left: 1em; padding-right: 1em; text-align: center; vertical-align: top\">alfred j lewy aka sandy<br>lewy graduated from ...</td>\n",
       "        <td style=\"padding-left: 1em; padding-right: 1em; text-align: center; vertical-align: top\">{'precise': 1, 'thomas':<br>1, 'they': 1, ...</td>\n",
       "    </tr>\n",
       "    <tr>\n",
       "        <td style=\"padding-left: 1em; padding-right: 1em; text-align: center; vertical-align: top\">2</td>\n",
       "        <td style=\"padding-left: 1em; padding-right: 1em; text-align: center; vertical-align: top\">&lt;http://dbpedia.org/resou<br>rce/Harpdog_Brown&gt; ...</td>\n",
       "        <td style=\"padding-left: 1em; padding-right: 1em; text-align: center; vertical-align: top\">Harpdog Brown</td>\n",
       "        <td style=\"padding-left: 1em; padding-right: 1em; text-align: center; vertical-align: top\">harpdog brown is a singer<br>and harmonica player who ...</td>\n",
       "        <td style=\"padding-left: 1em; padding-right: 1em; text-align: center; vertical-align: top\">{'just': 1, 'issued': 1,<br>'mainly': 1, 'nominat ...</td>\n",
       "    </tr>\n",
       "    <tr>\n",
       "        <td style=\"padding-left: 1em; padding-right: 1em; text-align: center; vertical-align: top\">3</td>\n",
       "        <td style=\"padding-left: 1em; padding-right: 1em; text-align: center; vertical-align: top\">&lt;http://dbpedia.org/resou<br>rce/Franz_Rottensteiner&gt; ...</td>\n",
       "        <td style=\"padding-left: 1em; padding-right: 1em; text-align: center; vertical-align: top\">Franz Rottensteiner</td>\n",
       "        <td style=\"padding-left: 1em; padding-right: 1em; text-align: center; vertical-align: top\">franz rottensteiner born<br>in waidmannsfeld lower ...</td>\n",
       "        <td style=\"padding-left: 1em; padding-right: 1em; text-align: center; vertical-align: top\">{'englishreading': 1,<br>'all': 1, 'bauforschu ...</td>\n",
       "    </tr>\n",
       "    <tr>\n",
       "        <td style=\"padding-left: 1em; padding-right: 1em; text-align: center; vertical-align: top\">4</td>\n",
       "        <td style=\"padding-left: 1em; padding-right: 1em; text-align: center; vertical-align: top\">&lt;http://dbpedia.org/resou<br>rce/G-Enka&gt; ...</td>\n",
       "        <td style=\"padding-left: 1em; padding-right: 1em; text-align: center; vertical-align: top\">G-Enka</td>\n",
       "        <td style=\"padding-left: 1em; padding-right: 1em; text-align: center; vertical-align: top\">henry krvits born 30<br>december 1974 in tallinn ...</td>\n",
       "        <td style=\"padding-left: 1em; padding-right: 1em; text-align: center; vertical-align: top\">{'they': 1,<br>'gangstergenka': 1, ...</td>\n",
       "    </tr>\n",
       "    <tr>\n",
       "        <td style=\"padding-left: 1em; padding-right: 1em; text-align: center; vertical-align: top\">5</td>\n",
       "        <td style=\"padding-left: 1em; padding-right: 1em; text-align: center; vertical-align: top\">&lt;http://dbpedia.org/resou<br>rce/Sam_Henderson&gt; ...</td>\n",
       "        <td style=\"padding-left: 1em; padding-right: 1em; text-align: center; vertical-align: top\">Sam Henderson</td>\n",
       "        <td style=\"padding-left: 1em; padding-right: 1em; text-align: center; vertical-align: top\">sam henderson born<br>october 18 1969 is an ...</td>\n",
       "        <td style=\"padding-left: 1em; padding-right: 1em; text-align: center; vertical-align: top\">{'now': 1, 'currently':<br>1, 'less': 1, 'being' ...</td>\n",
       "    </tr>\n",
       "    <tr>\n",
       "        <td style=\"padding-left: 1em; padding-right: 1em; text-align: center; vertical-align: top\">6</td>\n",
       "        <td style=\"padding-left: 1em; padding-right: 1em; text-align: center; vertical-align: top\">&lt;http://dbpedia.org/resou<br>rce/Aaron_LaCrate&gt; ...</td>\n",
       "        <td style=\"padding-left: 1em; padding-right: 1em; text-align: center; vertical-align: top\">Aaron LaCrate</td>\n",
       "        <td style=\"padding-left: 1em; padding-right: 1em; text-align: center; vertical-align: top\">aaron lacrate is an<br>american music producer ...</td>\n",
       "        <td style=\"padding-left: 1em; padding-right: 1em; text-align: center; vertical-align: top\">{'exclusive': 2,<br>'producer': 1, 'show' ...</td>\n",
       "    </tr>\n",
       "    <tr>\n",
       "        <td style=\"padding-left: 1em; padding-right: 1em; text-align: center; vertical-align: top\">7</td>\n",
       "        <td style=\"padding-left: 1em; padding-right: 1em; text-align: center; vertical-align: top\">&lt;http://dbpedia.org/resou<br>rce/Trevor_Ferguson&gt; ...</td>\n",
       "        <td style=\"padding-left: 1em; padding-right: 1em; text-align: center; vertical-align: top\">Trevor Ferguson</td>\n",
       "        <td style=\"padding-left: 1em; padding-right: 1em; text-align: center; vertical-align: top\">trevor ferguson aka john<br>farrow born 11 november ...</td>\n",
       "        <td style=\"padding-left: 1em; padding-right: 1em; text-align: center; vertical-align: top\">{'taxi': 1, 'salon': 1,<br>'gangs': 1, 'being': 1, ...</td>\n",
       "    </tr>\n",
       "    <tr>\n",
       "        <td style=\"padding-left: 1em; padding-right: 1em; text-align: center; vertical-align: top\">8</td>\n",
       "        <td style=\"padding-left: 1em; padding-right: 1em; text-align: center; vertical-align: top\">&lt;http://dbpedia.org/resou<br>rce/Grant_Nelson&gt; ...</td>\n",
       "        <td style=\"padding-left: 1em; padding-right: 1em; text-align: center; vertical-align: top\">Grant Nelson</td>\n",
       "        <td style=\"padding-left: 1em; padding-right: 1em; text-align: center; vertical-align: top\">grant nelson born 27<br>april 1971 in london  ...</td>\n",
       "        <td style=\"padding-left: 1em; padding-right: 1em; text-align: center; vertical-align: top\">{'houston': 1, 'frankie':<br>1, 'labels': 1, ...</td>\n",
       "    </tr>\n",
       "    <tr>\n",
       "        <td style=\"padding-left: 1em; padding-right: 1em; text-align: center; vertical-align: top\">9</td>\n",
       "        <td style=\"padding-left: 1em; padding-right: 1em; text-align: center; vertical-align: top\">&lt;http://dbpedia.org/resou<br>rce/Cathy_Caruth&gt; ...</td>\n",
       "        <td style=\"padding-left: 1em; padding-right: 1em; text-align: center; vertical-align: top\">Cathy Caruth</td>\n",
       "        <td style=\"padding-left: 1em; padding-right: 1em; text-align: center; vertical-align: top\">cathy caruth born 1955 is<br>frank h t rhodes ...</td>\n",
       "        <td style=\"padding-left: 1em; padding-right: 1em; text-align: center; vertical-align: top\">{'phenomenon': 1,<br>'deborash': 1, ...</td>\n",
       "    </tr>\n",
       "</table>\n",
       "[59071 rows x 5 columns]<br/>Note: Only the head of the SFrame is printed.<br/>You can use print_rows(num_rows=m, num_columns=n) to print more rows and columns.\n",
       "</div>"
      ],
      "text/plain": [
       "Columns:\n",
       "\tid\tint\n",
       "\tURI\tstr\n",
       "\tname\tstr\n",
       "\ttext\tstr\n",
       "\tword_count\tdict\n",
       "\n",
       "Rows: 59071\n",
       "\n",
       "Data:\n",
       "+----+-------------------------------+---------------------+\n",
       "| id |              URI              |         name        |\n",
       "+----+-------------------------------+---------------------+\n",
       "| 0  | <http://dbpedia.org/resour... |    Digby Morrell    |\n",
       "| 1  | <http://dbpedia.org/resour... |    Alfred J. Lewy   |\n",
       "| 2  | <http://dbpedia.org/resour... |    Harpdog Brown    |\n",
       "| 3  | <http://dbpedia.org/resour... | Franz Rottensteiner |\n",
       "| 4  | <http://dbpedia.org/resour... |        G-Enka       |\n",
       "| 5  | <http://dbpedia.org/resour... |    Sam Henderson    |\n",
       "| 6  | <http://dbpedia.org/resour... |    Aaron LaCrate    |\n",
       "| 7  | <http://dbpedia.org/resour... |   Trevor Ferguson   |\n",
       "| 8  | <http://dbpedia.org/resour... |     Grant Nelson    |\n",
       "| 9  | <http://dbpedia.org/resour... |     Cathy Caruth    |\n",
       "+----+-------------------------------+---------------------+\n",
       "+-------------------------------+-------------------------------+\n",
       "|              text             |           word_count          |\n",
       "+-------------------------------+-------------------------------+\n",
       "| digby morrell born 10 octo... | {'selection': 1, 'carltons... |\n",
       "| alfred j lewy aka sandy le... | {'precise': 1, 'thomas': 1... |\n",
       "| harpdog brown is a singer ... | {'just': 1, 'issued': 1, '... |\n",
       "| franz rottensteiner born i... | {'englishreading': 1, 'all... |\n",
       "| henry krvits born 30 decem... | {'they': 1, 'gangstergenka... |\n",
       "| sam henderson born october... | {'now': 1, 'currently': 1,... |\n",
       "| aaron lacrate is an americ... | {'exclusive': 2, 'producer... |\n",
       "| trevor ferguson aka john f... | {'taxi': 1, 'salon': 1, 'g... |\n",
       "| grant nelson born 27 april... | {'houston': 1, 'frankie': ... |\n",
       "| cathy caruth born 1955 is ... | {'phenomenon': 1, 'deboras... |\n",
       "+-------------------------------+-------------------------------+\n",
       "[59071 rows x 5 columns]\n",
       "Note: Only the head of the SFrame is printed.\n",
       "You can use print_rows(num_rows=m, num_columns=n) to print more rows and columns."
      ]
     },
     "execution_count": 34,
     "metadata": {},
     "output_type": "execute_result"
    }
   ],
   "source": [
    "wiki"
   ]
  },
  {
   "cell_type": "code",
   "execution_count": 35,
   "metadata": {
    "collapsed": false
   },
   "outputs": [
    {
     "name": "stdout",
     "output_type": "stream",
     "text": [
      "+-------+-------+\n",
      "|  word | count |\n",
      "+-------+-------+\n",
      "|  the  |   40  |\n",
      "|   in  |   30  |\n",
      "|  and  |   21  |\n",
      "|   of  |   18  |\n",
      "|   to  |   14  |\n",
      "|  his  |   11  |\n",
      "| obama |   9   |\n",
      "|  act  |   8   |\n",
      "|   a   |   7   |\n",
      "|   he  |   7   |\n",
      "+-------+-------+\n",
      "[273 rows x 2 columns]\n",
      "Note: Only the head of the SFrame is printed.\n",
      "You can use print_rows(num_rows=m, num_columns=n) to print more rows and columns.\n",
      "+-----------+-------+\n",
      "|    word   | count |\n",
      "+-----------+-------+\n",
      "|    the    |   36  |\n",
      "|     of    |   24  |\n",
      "|    and    |   18  |\n",
      "|     in    |   17  |\n",
      "|     he    |   10  |\n",
      "|     to    |   9   |\n",
      "| chihuahua |   7   |\n",
      "|     a     |   6   |\n",
      "|  governor |   6   |\n",
      "|     as    |   5   |\n",
      "+-----------+-------+\n",
      "[225 rows x 2 columns]\n",
      "Note: Only the head of the SFrame is printed.\n",
      "You can use print_rows(num_rows=m, num_columns=n) to print more rows and columns.\n"
     ]
    }
   ],
   "source": [
    "def top_words(name):\n",
    "    \"\"\"\n",
    "    get a table of the most frequent words in the given person's wikipedia page.\n",
    "    \"\"\"\n",
    "    row = wiki[wiki['name'] == name]\n",
    "    word_count_table = row[['word_count']].stack('word_count', new_column_name =['word', 'count'])\n",
    "    return word_count_table.sort('count', ascending=False)\n",
    "\n",
    "obama_words = top_words('Barack Obama')\n",
    "print obama_words\n",
    "\n",
    "barrio_words = top_words('Francisco Barrio')\n",
    "print barrio_words"
   ]
  },
  {
   "cell_type": "code",
   "execution_count": 47,
   "metadata": {
    "collapsed": false
   },
   "outputs": [
    {
     "data": {
      "text/html": [
       "<div style=\"max-height:1000px;max-width:1500px;overflow:auto;\"><table frame=\"box\" rules=\"cols\">\n",
       "    <tr>\n",
       "        <th style=\"padding-left: 1em; padding-right: 1em; text-align: center\">word</th>\n",
       "        <th style=\"padding-left: 1em; padding-right: 1em; text-align: center\">count</th>\n",
       "        <th style=\"padding-left: 1em; padding-right: 1em; text-align: center\">count.1</th>\n",
       "    </tr>\n",
       "    <tr>\n",
       "        <td style=\"padding-left: 1em; padding-right: 1em; text-align: center; vertical-align: top\">the</td>\n",
       "        <td style=\"padding-left: 1em; padding-right: 1em; text-align: center; vertical-align: top\">40</td>\n",
       "        <td style=\"padding-left: 1em; padding-right: 1em; text-align: center; vertical-align: top\">36</td>\n",
       "    </tr>\n",
       "    <tr>\n",
       "        <td style=\"padding-left: 1em; padding-right: 1em; text-align: center; vertical-align: top\">in</td>\n",
       "        <td style=\"padding-left: 1em; padding-right: 1em; text-align: center; vertical-align: top\">30</td>\n",
       "        <td style=\"padding-left: 1em; padding-right: 1em; text-align: center; vertical-align: top\">17</td>\n",
       "    </tr>\n",
       "    <tr>\n",
       "        <td style=\"padding-left: 1em; padding-right: 1em; text-align: center; vertical-align: top\">and</td>\n",
       "        <td style=\"padding-left: 1em; padding-right: 1em; text-align: center; vertical-align: top\">21</td>\n",
       "        <td style=\"padding-left: 1em; padding-right: 1em; text-align: center; vertical-align: top\">18</td>\n",
       "    </tr>\n",
       "    <tr>\n",
       "        <td style=\"padding-left: 1em; padding-right: 1em; text-align: center; vertical-align: top\">of</td>\n",
       "        <td style=\"padding-left: 1em; padding-right: 1em; text-align: center; vertical-align: top\">18</td>\n",
       "        <td style=\"padding-left: 1em; padding-right: 1em; text-align: center; vertical-align: top\">24</td>\n",
       "    </tr>\n",
       "    <tr>\n",
       "        <td style=\"padding-left: 1em; padding-right: 1em; text-align: center; vertical-align: top\">to</td>\n",
       "        <td style=\"padding-left: 1em; padding-right: 1em; text-align: center; vertical-align: top\">14</td>\n",
       "        <td style=\"padding-left: 1em; padding-right: 1em; text-align: center; vertical-align: top\">9</td>\n",
       "    </tr>\n",
       "    <tr>\n",
       "        <td style=\"padding-left: 1em; padding-right: 1em; text-align: center; vertical-align: top\">his</td>\n",
       "        <td style=\"padding-left: 1em; padding-right: 1em; text-align: center; vertical-align: top\">11</td>\n",
       "        <td style=\"padding-left: 1em; padding-right: 1em; text-align: center; vertical-align: top\">5</td>\n",
       "    </tr>\n",
       "    <tr>\n",
       "        <td style=\"padding-left: 1em; padding-right: 1em; text-align: center; vertical-align: top\">a</td>\n",
       "        <td style=\"padding-left: 1em; padding-right: 1em; text-align: center; vertical-align: top\">7</td>\n",
       "        <td style=\"padding-left: 1em; padding-right: 1em; text-align: center; vertical-align: top\">6</td>\n",
       "    </tr>\n",
       "    <tr>\n",
       "        <td style=\"padding-left: 1em; padding-right: 1em; text-align: center; vertical-align: top\">he</td>\n",
       "        <td style=\"padding-left: 1em; padding-right: 1em; text-align: center; vertical-align: top\">7</td>\n",
       "        <td style=\"padding-left: 1em; padding-right: 1em; text-align: center; vertical-align: top\">10</td>\n",
       "    </tr>\n",
       "    <tr>\n",
       "        <td style=\"padding-left: 1em; padding-right: 1em; text-align: center; vertical-align: top\">as</td>\n",
       "        <td style=\"padding-left: 1em; padding-right: 1em; text-align: center; vertical-align: top\">6</td>\n",
       "        <td style=\"padding-left: 1em; padding-right: 1em; text-align: center; vertical-align: top\">5</td>\n",
       "    </tr>\n",
       "    <tr>\n",
       "        <td style=\"padding-left: 1em; padding-right: 1em; text-align: center; vertical-align: top\">was</td>\n",
       "        <td style=\"padding-left: 1em; padding-right: 1em; text-align: center; vertical-align: top\">5</td>\n",
       "        <td style=\"padding-left: 1em; padding-right: 1em; text-align: center; vertical-align: top\">4</td>\n",
       "    </tr>\n",
       "</table>\n",
       "[56 rows x 3 columns]<br/>Note: Only the head of the SFrame is printed.<br/>You can use print_rows(num_rows=m, num_columns=n) to print more rows and columns.\n",
       "</div>"
      ],
      "text/plain": [
       "Columns:\n",
       "\tword\tstr\n",
       "\tcount\tint\n",
       "\tcount.1\tint\n",
       "\n",
       "Rows: 56\n",
       "\n",
       "Data:\n",
       "+------+-------+---------+\n",
       "| word | count | count.1 |\n",
       "+------+-------+---------+\n",
       "| the  |   40  |    36   |\n",
       "|  in  |   30  |    17   |\n",
       "| and  |   21  |    18   |\n",
       "|  of  |   18  |    24   |\n",
       "|  to  |   14  |    9    |\n",
       "| his  |   11  |    5    |\n",
       "|  a   |   7   |    6    |\n",
       "|  he  |   7   |    10   |\n",
       "|  as  |   6   |    5    |\n",
       "| was  |   5   |    4    |\n",
       "+------+-------+---------+\n",
       "[56 rows x 3 columns]\n",
       "Note: Only the head of the SFrame is printed.\n",
       "You can use print_rows(num_rows=m, num_columns=n) to print more rows and columns."
      ]
     },
     "execution_count": 47,
     "metadata": {},
     "output_type": "execute_result"
    }
   ],
   "source": [
    "combined_words = obama_words.join(barrio_words, on='word')\n",
    "combined_words"
   ]
  },
  {
   "cell_type": "code",
   "execution_count": 48,
   "metadata": {
    "collapsed": false
   },
   "outputs": [],
   "source": [
    "combined_words = combined_words.rename({'count':'Obama', 'count.1':'Barrio'})"
   ]
  },
  {
   "cell_type": "code",
   "execution_count": 49,
   "metadata": {
    "collapsed": false
   },
   "outputs": [
    {
     "data": {
      "text/html": [
       "<div style=\"max-height:1000px;max-width:1500px;overflow:auto;\"><table frame=\"box\" rules=\"cols\">\n",
       "    <tr>\n",
       "        <th style=\"padding-left: 1em; padding-right: 1em; text-align: center\">word</th>\n",
       "        <th style=\"padding-left: 1em; padding-right: 1em; text-align: center\">Obama</th>\n",
       "        <th style=\"padding-left: 1em; padding-right: 1em; text-align: center\">Barrio</th>\n",
       "    </tr>\n",
       "    <tr>\n",
       "        <td style=\"padding-left: 1em; padding-right: 1em; text-align: center; vertical-align: top\">the</td>\n",
       "        <td style=\"padding-left: 1em; padding-right: 1em; text-align: center; vertical-align: top\">40</td>\n",
       "        <td style=\"padding-left: 1em; padding-right: 1em; text-align: center; vertical-align: top\">36</td>\n",
       "    </tr>\n",
       "    <tr>\n",
       "        <td style=\"padding-left: 1em; padding-right: 1em; text-align: center; vertical-align: top\">in</td>\n",
       "        <td style=\"padding-left: 1em; padding-right: 1em; text-align: center; vertical-align: top\">30</td>\n",
       "        <td style=\"padding-left: 1em; padding-right: 1em; text-align: center; vertical-align: top\">17</td>\n",
       "    </tr>\n",
       "    <tr>\n",
       "        <td style=\"padding-left: 1em; padding-right: 1em; text-align: center; vertical-align: top\">and</td>\n",
       "        <td style=\"padding-left: 1em; padding-right: 1em; text-align: center; vertical-align: top\">21</td>\n",
       "        <td style=\"padding-left: 1em; padding-right: 1em; text-align: center; vertical-align: top\">18</td>\n",
       "    </tr>\n",
       "    <tr>\n",
       "        <td style=\"padding-left: 1em; padding-right: 1em; text-align: center; vertical-align: top\">of</td>\n",
       "        <td style=\"padding-left: 1em; padding-right: 1em; text-align: center; vertical-align: top\">18</td>\n",
       "        <td style=\"padding-left: 1em; padding-right: 1em; text-align: center; vertical-align: top\">24</td>\n",
       "    </tr>\n",
       "    <tr>\n",
       "        <td style=\"padding-left: 1em; padding-right: 1em; text-align: center; vertical-align: top\">to</td>\n",
       "        <td style=\"padding-left: 1em; padding-right: 1em; text-align: center; vertical-align: top\">14</td>\n",
       "        <td style=\"padding-left: 1em; padding-right: 1em; text-align: center; vertical-align: top\">9</td>\n",
       "    </tr>\n",
       "    <tr>\n",
       "        <td style=\"padding-left: 1em; padding-right: 1em; text-align: center; vertical-align: top\">his</td>\n",
       "        <td style=\"padding-left: 1em; padding-right: 1em; text-align: center; vertical-align: top\">11</td>\n",
       "        <td style=\"padding-left: 1em; padding-right: 1em; text-align: center; vertical-align: top\">5</td>\n",
       "    </tr>\n",
       "    <tr>\n",
       "        <td style=\"padding-left: 1em; padding-right: 1em; text-align: center; vertical-align: top\">a</td>\n",
       "        <td style=\"padding-left: 1em; padding-right: 1em; text-align: center; vertical-align: top\">7</td>\n",
       "        <td style=\"padding-left: 1em; padding-right: 1em; text-align: center; vertical-align: top\">6</td>\n",
       "    </tr>\n",
       "    <tr>\n",
       "        <td style=\"padding-left: 1em; padding-right: 1em; text-align: center; vertical-align: top\">he</td>\n",
       "        <td style=\"padding-left: 1em; padding-right: 1em; text-align: center; vertical-align: top\">7</td>\n",
       "        <td style=\"padding-left: 1em; padding-right: 1em; text-align: center; vertical-align: top\">10</td>\n",
       "    </tr>\n",
       "    <tr>\n",
       "        <td style=\"padding-left: 1em; padding-right: 1em; text-align: center; vertical-align: top\">as</td>\n",
       "        <td style=\"padding-left: 1em; padding-right: 1em; text-align: center; vertical-align: top\">6</td>\n",
       "        <td style=\"padding-left: 1em; padding-right: 1em; text-align: center; vertical-align: top\">5</td>\n",
       "    </tr>\n",
       "    <tr>\n",
       "        <td style=\"padding-left: 1em; padding-right: 1em; text-align: center; vertical-align: top\">was</td>\n",
       "        <td style=\"padding-left: 1em; padding-right: 1em; text-align: center; vertical-align: top\">5</td>\n",
       "        <td style=\"padding-left: 1em; padding-right: 1em; text-align: center; vertical-align: top\">4</td>\n",
       "    </tr>\n",
       "</table>\n",
       "[56 rows x 3 columns]<br/>Note: Only the head of the SFrame is printed.<br/>You can use print_rows(num_rows=m, num_columns=n) to print more rows and columns.\n",
       "</div>"
      ],
      "text/plain": [
       "Columns:\n",
       "\tword\tstr\n",
       "\tObama\tint\n",
       "\tBarrio\tint\n",
       "\n",
       "Rows: 56\n",
       "\n",
       "Data:\n",
       "+------+-------+--------+\n",
       "| word | Obama | Barrio |\n",
       "+------+-------+--------+\n",
       "| the  |   40  |   36   |\n",
       "|  in  |   30  |   17   |\n",
       "| and  |   21  |   18   |\n",
       "|  of  |   18  |   24   |\n",
       "|  to  |   14  |   9    |\n",
       "| his  |   11  |   5    |\n",
       "|  a   |   7   |   6    |\n",
       "|  he  |   7   |   10   |\n",
       "|  as  |   6   |   5    |\n",
       "| was  |   5   |   4    |\n",
       "+------+-------+--------+\n",
       "[56 rows x 3 columns]\n",
       "Note: Only the head of the SFrame is printed.\n",
       "You can use print_rows(num_rows=m, num_columns=n) to print more rows and columns."
      ]
     },
     "execution_count": 49,
     "metadata": {},
     "output_type": "execute_result"
    }
   ],
   "source": [
    "combined_words.sort('Obama', ascending=False)"
   ]
  },
  {
   "cell_type": "code",
   "execution_count": 51,
   "metadata": {
    "collapsed": false
   },
   "outputs": [
    {
     "data": {
      "text/plain": [
       "dtype: str\n",
       "Rows: 5\n",
       "['the', 'in', 'and', 'of', 'to']"
      ]
     },
     "execution_count": 51,
     "metadata": {},
     "output_type": "execute_result"
    }
   ],
   "source": [
    "common_words = combined_words.sort('Obama', ascending=False)['word'][:5]\n",
    "common_words"
   ]
  },
  {
   "cell_type": "code",
   "execution_count": 56,
   "metadata": {
    "collapsed": false
   },
   "outputs": [],
   "source": [
    "from sets import Set\n",
    "def has_top_words(word_count_vector):\n",
    "    # extract the keys of word_count_vector and convert it to a set\n",
    "    unique_words = Set(word_count_vector.keys())\n",
    "    # return True if common_words is a subset of unique_words \n",
    "    # return False otherwise\n",
    "    return True if Set(common_words).issubset(unique_words) else False\n",
    "\n",
    "wiki['has_top_words'] = wiki['word_count'].apply(has_top_words)"
   ]
  },
  {
   "cell_type": "code",
   "execution_count": 57,
   "metadata": {
    "collapsed": false
   },
   "outputs": [
    {
     "name": "stdout",
     "output_type": "stream",
     "text": [
      "Output from your function: True\n",
      "Correct output: True\n",
      "Also check the length of unique_words. It should be 167\n",
      "Output from your function: False\n",
      "Correct output: False\n",
      "Also check the length of unique_words. It should be 188\n"
     ]
    }
   ],
   "source": [
    "print 'Output from your function:', has_top_words(wiki[32]['word_count'])\n",
    "print 'Correct output: True'\n",
    "print 'Also check the length of unique_words. It should be 167'\n",
    "\n",
    "print 'Output from your function:', has_top_words(wiki[33]['word_count'])\n",
    "print 'Correct output: False'\n",
    "print 'Also check the length of unique_words. It should be 188'"
   ]
  },
  {
   "cell_type": "code",
   "execution_count": 58,
   "metadata": {
    "collapsed": false
   },
   "outputs": [
    {
     "name": "stdout",
     "output_type": "stream",
     "text": [
      "56066 3005\n"
     ]
    }
   ],
   "source": [
    "print len(wiki[wiki['has_top_words'] == True]),  len(wiki[wiki['has_top_words'] == False])"
   ]
  },
  {
   "cell_type": "markdown",
   "metadata": {},
   "source": [
    "### Quiz\n",
    "Among the words that appear in both Barack Obama and Francisco Barrio, take the 5 that appear most frequently in Obama. How many of the articles in the Wikipedia dataset contain all of those 5 words? ------> 56066"
   ]
  },
  {
   "cell_type": "code",
   "execution_count": 59,
   "metadata": {
    "collapsed": false
   },
   "outputs": [
    {
     "data": {
      "text/html": [
       "<div style=\"max-height:1000px;max-width:1500px;overflow:auto;\"><table frame=\"box\" rules=\"cols\">\n",
       "    <tr>\n",
       "        <th style=\"padding-left: 1em; padding-right: 1em; text-align: center\">id</th>\n",
       "        <th style=\"padding-left: 1em; padding-right: 1em; text-align: center\">URI</th>\n",
       "        <th style=\"padding-left: 1em; padding-right: 1em; text-align: center\">name</th>\n",
       "        <th style=\"padding-left: 1em; padding-right: 1em; text-align: center\">text</th>\n",
       "        <th style=\"padding-left: 1em; padding-right: 1em; text-align: center\">word_count</th>\n",
       "        <th style=\"padding-left: 1em; padding-right: 1em; text-align: center\">has_top_words</th>\n",
       "    </tr>\n",
       "    <tr>\n",
       "        <td style=\"padding-left: 1em; padding-right: 1em; text-align: center; vertical-align: top\">35817</td>\n",
       "        <td style=\"padding-left: 1em; padding-right: 1em; text-align: center; vertical-align: top\">&lt;http://dbpedia.org/resou<br>rce/Barack_Obama&gt; ...</td>\n",
       "        <td style=\"padding-left: 1em; padding-right: 1em; text-align: center; vertical-align: top\">Barack Obama</td>\n",
       "        <td style=\"padding-left: 1em; padding-right: 1em; text-align: center; vertical-align: top\">barack hussein obama ii<br>brk husen bm born august ...</td>\n",
       "        <td style=\"padding-left: 1em; padding-right: 1em; text-align: center; vertical-align: top\">{'operations': 1,<br>'represent': 1, 'offi ...</td>\n",
       "        <td style=\"padding-left: 1em; padding-right: 1em; text-align: center; vertical-align: top\">1</td>\n",
       "    </tr>\n",
       "</table>\n",
       "[? rows x 6 columns]<br/>Note: Only the head of the SFrame is printed. This SFrame is lazily evaluated.<br/>You can use sf.materialize() to force materialization.\n",
       "</div>"
      ],
      "text/plain": [
       "Columns:\n",
       "\tid\tint\n",
       "\tURI\tstr\n",
       "\tname\tstr\n",
       "\ttext\tstr\n",
       "\tword_count\tdict\n",
       "\thas_top_words\tint\n",
       "\n",
       "Rows: Unknown\n",
       "\n",
       "Data:\n",
       "+-------+-------------------------------+--------------+\n",
       "|   id  |              URI              |     name     |\n",
       "+-------+-------------------------------+--------------+\n",
       "| 35817 | <http://dbpedia.org/resour... | Barack Obama |\n",
       "+-------+-------------------------------+--------------+\n",
       "+-------------------------------+-------------------------------+---------------+\n",
       "|              text             |           word_count          | has_top_words |\n",
       "+-------------------------------+-------------------------------+---------------+\n",
       "| barack hussein obama ii br... | {'operations': 1, 'represe... |       1       |\n",
       "+-------------------------------+-------------------------------+---------------+\n",
       "[? rows x 6 columns]\n",
       "Note: Only the head of the SFrame is printed. This SFrame is lazily evaluated.\n",
       "You can use sf.materialize() to force materialization."
      ]
     },
     "execution_count": 59,
     "metadata": {},
     "output_type": "execute_result"
    }
   ],
   "source": [
    "wiki[wiki['name'] == 'Barack Obama']"
   ]
  },
  {
   "cell_type": "code",
   "execution_count": 60,
   "metadata": {
    "collapsed": false
   },
   "outputs": [
    {
     "data": {
      "text/html": [
       "<div style=\"max-height:1000px;max-width:1500px;overflow:auto;\"><table frame=\"box\" rules=\"cols\">\n",
       "    <tr>\n",
       "        <th style=\"padding-left: 1em; padding-right: 1em; text-align: center\">id</th>\n",
       "        <th style=\"padding-left: 1em; padding-right: 1em; text-align: center\">URI</th>\n",
       "        <th style=\"padding-left: 1em; padding-right: 1em; text-align: center\">name</th>\n",
       "        <th style=\"padding-left: 1em; padding-right: 1em; text-align: center\">text</th>\n",
       "        <th style=\"padding-left: 1em; padding-right: 1em; text-align: center\">word_count</th>\n",
       "        <th style=\"padding-left: 1em; padding-right: 1em; text-align: center\">has_top_words</th>\n",
       "    </tr>\n",
       "    <tr>\n",
       "        <td style=\"padding-left: 1em; padding-right: 1em; text-align: center; vertical-align: top\">28447</td>\n",
       "        <td style=\"padding-left: 1em; padding-right: 1em; text-align: center; vertical-align: top\">&lt;http://dbpedia.org/resou<br>rce/George_W._Bush&gt; ...</td>\n",
       "        <td style=\"padding-left: 1em; padding-right: 1em; text-align: center; vertical-align: top\">George W. Bush</td>\n",
       "        <td style=\"padding-left: 1em; padding-right: 1em; text-align: center; vertical-align: top\">george walker bush born<br>july 6 1946 is an ...</td>\n",
       "        <td style=\"padding-left: 1em; padding-right: 1em; text-align: center; vertical-align: top\">{'amending': 1, 'office':<br>2, 'increasingly': 1, ...</td>\n",
       "        <td style=\"padding-left: 1em; padding-right: 1em; text-align: center; vertical-align: top\">1</td>\n",
       "    </tr>\n",
       "</table>\n",
       "[? rows x 6 columns]<br/>Note: Only the head of the SFrame is printed. This SFrame is lazily evaluated.<br/>You can use sf.materialize() to force materialization.\n",
       "</div>"
      ],
      "text/plain": [
       "Columns:\n",
       "\tid\tint\n",
       "\tURI\tstr\n",
       "\tname\tstr\n",
       "\ttext\tstr\n",
       "\tword_count\tdict\n",
       "\thas_top_words\tint\n",
       "\n",
       "Rows: Unknown\n",
       "\n",
       "Data:\n",
       "+-------+-------------------------------+----------------+\n",
       "|   id  |              URI              |      name      |\n",
       "+-------+-------------------------------+----------------+\n",
       "| 28447 | <http://dbpedia.org/resour... | George W. Bush |\n",
       "+-------+-------------------------------+----------------+\n",
       "+-------------------------------+-------------------------------+---------------+\n",
       "|              text             |           word_count          | has_top_words |\n",
       "+-------------------------------+-------------------------------+---------------+\n",
       "| george walker bush born ju... | {'amending': 1, 'office': ... |       1       |\n",
       "+-------------------------------+-------------------------------+---------------+\n",
       "[? rows x 6 columns]\n",
       "Note: Only the head of the SFrame is printed. This SFrame is lazily evaluated.\n",
       "You can use sf.materialize() to force materialization."
      ]
     },
     "execution_count": 60,
     "metadata": {},
     "output_type": "execute_result"
    }
   ],
   "source": [
    "wiki[wiki['name'] == 'George W. Bush']"
   ]
  },
  {
   "cell_type": "code",
   "execution_count": 61,
   "metadata": {
    "collapsed": false
   },
   "outputs": [
    {
     "data": {
      "text/html": [
       "<div style=\"max-height:1000px;max-width:1500px;overflow:auto;\"><table frame=\"box\" rules=\"cols\">\n",
       "    <tr>\n",
       "        <th style=\"padding-left: 1em; padding-right: 1em; text-align: center\">id</th>\n",
       "        <th style=\"padding-left: 1em; padding-right: 1em; text-align: center\">URI</th>\n",
       "        <th style=\"padding-left: 1em; padding-right: 1em; text-align: center\">name</th>\n",
       "        <th style=\"padding-left: 1em; padding-right: 1em; text-align: center\">text</th>\n",
       "        <th style=\"padding-left: 1em; padding-right: 1em; text-align: center\">word_count</th>\n",
       "        <th style=\"padding-left: 1em; padding-right: 1em; text-align: center\">has_top_words</th>\n",
       "    </tr>\n",
       "    <tr>\n",
       "        <td style=\"padding-left: 1em; padding-right: 1em; text-align: center; vertical-align: top\">24478</td>\n",
       "        <td style=\"padding-left: 1em; padding-right: 1em; text-align: center; vertical-align: top\">&lt;http://dbpedia.org/resou<br>rce/Joe_Biden&gt; ...</td>\n",
       "        <td style=\"padding-left: 1em; padding-right: 1em; text-align: center; vertical-align: top\">Joe Biden</td>\n",
       "        <td style=\"padding-left: 1em; padding-right: 1em; text-align: center; vertical-align: top\">joseph robinette joe<br>biden jr dosf rbnt badn ...</td>\n",
       "        <td style=\"padding-left: 1em; padding-right: 1em; text-align: center; vertical-align: top\">{'delaware': 2,<br>'proposed': 1, ...</td>\n",
       "        <td style=\"padding-left: 1em; padding-right: 1em; text-align: center; vertical-align: top\">1</td>\n",
       "    </tr>\n",
       "</table>\n",
       "[? rows x 6 columns]<br/>Note: Only the head of the SFrame is printed. This SFrame is lazily evaluated.<br/>You can use sf.materialize() to force materialization.\n",
       "</div>"
      ],
      "text/plain": [
       "Columns:\n",
       "\tid\tint\n",
       "\tURI\tstr\n",
       "\tname\tstr\n",
       "\ttext\tstr\n",
       "\tword_count\tdict\n",
       "\thas_top_words\tint\n",
       "\n",
       "Rows: Unknown\n",
       "\n",
       "Data:\n",
       "+-------+-------------------------------+-----------+\n",
       "|   id  |              URI              |    name   |\n",
       "+-------+-------------------------------+-----------+\n",
       "| 24478 | <http://dbpedia.org/resour... | Joe Biden |\n",
       "+-------+-------------------------------+-----------+\n",
       "+-------------------------------+-------------------------------+---------------+\n",
       "|              text             |           word_count          | has_top_words |\n",
       "+-------------------------------+-------------------------------+---------------+\n",
       "| joseph robinette joe biden... | {'delaware': 2, 'proposed'... |       1       |\n",
       "+-------------------------------+-------------------------------+---------------+\n",
       "[? rows x 6 columns]\n",
       "Note: Only the head of the SFrame is printed. This SFrame is lazily evaluated.\n",
       "You can use sf.materialize() to force materialization."
      ]
     },
     "execution_count": 61,
     "metadata": {},
     "output_type": "execute_result"
    }
   ],
   "source": [
    "wiki[wiki['name'] == 'Joe Biden']"
   ]
  },
  {
   "cell_type": "code",
   "execution_count": 65,
   "metadata": {
    "collapsed": false
   },
   "outputs": [],
   "source": [
    "from sklearn.metrics.pairwise import euclidean_distances\n",
    "baracko = word_count[35817]\n",
    "georgeb = word_count[28447]\n",
    "joeb = word_count[24478]"
   ]
  },
  {
   "cell_type": "code",
   "execution_count": 66,
   "metadata": {
    "collapsed": false
   },
   "outputs": [
    {
     "data": {
      "text/plain": [
       "array([[ 34.39476704]])"
      ]
     },
     "execution_count": 66,
     "metadata": {},
     "output_type": "execute_result"
    }
   ],
   "source": [
    "euclidean_distances(baracko, georgeb)"
   ]
  },
  {
   "cell_type": "code",
   "execution_count": 67,
   "metadata": {
    "collapsed": false
   },
   "outputs": [
    {
     "data": {
      "text/plain": [
       "array([[ 32.75667871]])"
      ]
     },
     "execution_count": 67,
     "metadata": {},
     "output_type": "execute_result"
    }
   ],
   "source": [
    "euclidean_distances(georgeb, joeb)"
   ]
  },
  {
   "cell_type": "code",
   "execution_count": 68,
   "metadata": {
    "collapsed": false
   },
   "outputs": [
    {
     "data": {
      "text/plain": [
       "array([[ 33.07567082]])"
      ]
     },
     "execution_count": 68,
     "metadata": {},
     "output_type": "execute_result"
    }
   ],
   "source": [
    "euclidean_distances(joeb, baracko)"
   ]
  },
  {
   "cell_type": "markdown",
   "metadata": {},
   "source": [
    "### Quiz Question\n",
    "Measure the pairwise distance between the Wikipedia pages of Barack Obama, George W. Bush, and Joe Biden. Which of the three pairs has the smallest distance?  ---> Bush and Biden"
   ]
  },
  {
   "cell_type": "code",
   "execution_count": 74,
   "metadata": {
    "collapsed": false
   },
   "outputs": [
    {
     "name": "stdout",
     "output_type": "stream",
     "text": [
      "+-----------+-------+------+\n",
      "|    word   | Obama | Bush |\n",
      "+-----------+-------+------+\n",
      "|    the    |   40  |  39  |\n",
      "|     in    |   30  |  22  |\n",
      "|    and    |   21  |  14  |\n",
      "|     of    |   18  |  14  |\n",
      "|     to    |   14  |  11  |\n",
      "|     he    |   7   |  8   |\n",
      "|     a     |   7   |  6   |\n",
      "|     as    |   6   |  6   |\n",
      "| president |   4   |  6   |\n",
      "|    his    |   11  |  6   |\n",
      "+-----------+-------+------+\n",
      "[86 rows x 3 columns]\n",
      "Note: Only the head of the SFrame is printed.\n",
      "You can use print_rows(num_rows=m, num_columns=n) to print more rows and columns.\n",
      "['the', 'in', 'and', 'of', 'to', 'his', 'act', 'a', 'he', 'law']\n"
     ]
    }
   ],
   "source": [
    "obama_words = top_words('Barack Obama')\n",
    "#print obama_words\n",
    "bush_words = top_words('George W. Bush')\n",
    "#print bush_words\n",
    "combined_words2 = obama_words.join(bush_words, on='word')\n",
    "combined_words2.rename({'count':'Obama', 'count.1':'Bush'})\n",
    "print combined_words2\n",
    "common_words2 = combined_words2.sort('Obama', ascending=False)['word'][:10]\n",
    "print common_words2"
   ]
  },
  {
   "cell_type": "markdown",
   "metadata": {},
   "source": [
    "### Quiz Question. \n",
    "Collect all words that appear both in Barack Obama and George W. Bush pages. Out of those words, find the 10 words that show up most often in Obama's page. ---> ['the', 'in', 'and', 'of', 'to', 'his', 'act', 'a', 'he', 'law']"
   ]
  },
  {
   "cell_type": "markdown",
   "metadata": {},
   "source": [
    "## Extract the TF-IDF vectors"
   ]
  },
  {
   "cell_type": "code",
   "execution_count": 75,
   "metadata": {
    "collapsed": false
   },
   "outputs": [
    {
     "name": "stdout",
     "output_type": "stream",
     "text": [
      "Shape =  [ 59071 547979]\n"
     ]
    }
   ],
   "source": [
    "tf_idf = load_sparse_csr('people_wiki_tf_idf.npz')"
   ]
  },
  {
   "cell_type": "code",
   "execution_count": 78,
   "metadata": {
    "collapsed": false
   },
   "outputs": [
    {
     "name": "stdout",
     "output_type": "stream",
     "text": [
      "  (0, 5877)\t10.9864953892\n",
      "  (0, 92219)\t10.9864953892\n",
      "  (0, 227191)\t10.9864953892\n",
      "  (0, 446948)\t9.88788310056\n",
      "  (0, 468870)\t9.60020102811\n",
      "  (0, 477285)\t46.885287384\n",
      "  (0, 492466)\t9.04058524017\n",
      "  (0, 509506)\t8.58860011643\n",
      "  (0, 514262)\t8.34743805961\n",
      "  (0, 523996)\t7.8510011733\n",
      "  (0, 528953)\t7.48998782776\n",
      "  (0, 529843)\t7.43114732774\n",
      "  (0, 533540)\t7.0744723838\n",
      "  (0, 535034)\t20.726873836\n",
      "  (0, 535475)\t6.85936100418\n",
      "  (0, 538022)\t6.50915857475\n",
      "  (0, 538168)\t6.48668571889\n",
      "  (0, 540827)\t6.01668208965\n",
      "  (0, 541501)\t5.86850157681\n",
      "  (0, 541760)\t5.81601139419\n",
      "  (0, 542488)\t5.63463725575\n",
      "  (0, 542854)\t5.53117427387\n",
      "  (0, 542859)\t5.53117427387\n",
      "  (0, 542919)\t5.51003183729\n",
      "  (0, 543517)\t10.6820969832\n",
      "  :\t:\n",
      "  (59070, 547944)\t1.17742841231\n",
      "  (59070, 547947)\t1.08907621209\n",
      "  (59070, 547949)\t0.97747733548\n",
      "  (59070, 547950)\t0.944333442001\n",
      "  (59070, 547951)\t0.930930733809\n",
      "  (59070, 547954)\t0.847343004821\n",
      "  (59070, 547957)\t1.32281389334\n",
      "  (59070, 547960)\t0.749106824124\n",
      "  (59070, 547961)\t0.298239089082\n",
      "  (59070, 547962)\t0.293755337986\n",
      "  (59070, 547964)\t1.05044582085\n",
      "  (59070, 547965)\t0.430638573308\n",
      "  (59070, 547966)\t1.28021134595\n",
      "  (59070, 547967)\t0.202468642522\n",
      "  (59070, 547968)\t0.737651013402\n",
      "  (59070, 547969)\t0.127169522012\n",
      "  (59070, 547970)\t0.634926284897\n",
      "  (59070, 547971)\t0.21858758803\n",
      "  (59070, 547972)\t0.281669626091\n",
      "  (59070, 547973)\t0.0276162504755\n",
      "  (59070, 547974)\t0.0112383689452\n",
      "  (59070, 547975)\t0.0249370571947\n",
      "  (59070, 547976)\t0.00579243810073\n",
      "  (59070, 547977)\t0.00670629508244\n",
      "  (59070, 547978)\t0.00142208979603\n"
     ]
    }
   ],
   "source": [
    "print tf_idf"
   ]
  },
  {
   "cell_type": "code",
   "execution_count": 80,
   "metadata": {
    "collapsed": false
   },
   "outputs": [
    {
     "name": "stdout",
     "output_type": "stream",
     "text": [
      "{'category': 'the', 'index': 547978, 'feature': 'feature'} {'category': 'brisbaneafter', 'index': 5877, 'feature': 'feature'}\n"
     ]
    }
   ],
   "source": [
    "print map_index_to_word[547978], map_index_to_word[5877]"
   ]
  },
  {
   "cell_type": "code",
   "execution_count": 81,
   "metadata": {
    "collapsed": true
   },
   "outputs": [],
   "source": [
    "wiki['tf_idf'] = unpack_dict(tf_idf, map_index_to_word) # dictionary form"
   ]
  },
  {
   "cell_type": "code",
   "execution_count": 82,
   "metadata": {
    "collapsed": false
   },
   "outputs": [
    {
     "data": {
      "text/html": [
       "<div style=\"max-height:1000px;max-width:1500px;overflow:auto;\"><table frame=\"box\" rules=\"cols\">\n",
       "    <tr>\n",
       "        <th style=\"padding-left: 1em; padding-right: 1em; text-align: center\">id</th>\n",
       "        <th style=\"padding-left: 1em; padding-right: 1em; text-align: center\">URI</th>\n",
       "        <th style=\"padding-left: 1em; padding-right: 1em; text-align: center\">name</th>\n",
       "        <th style=\"padding-left: 1em; padding-right: 1em; text-align: center\">text</th>\n",
       "        <th style=\"padding-left: 1em; padding-right: 1em; text-align: center\">word_count</th>\n",
       "    </tr>\n",
       "    <tr>\n",
       "        <td style=\"padding-left: 1em; padding-right: 1em; text-align: center; vertical-align: top\">0</td>\n",
       "        <td style=\"padding-left: 1em; padding-right: 1em; text-align: center; vertical-align: top\">&lt;http://dbpedia.org/resou<br>rce/Digby_Morrell&gt; ...</td>\n",
       "        <td style=\"padding-left: 1em; padding-right: 1em; text-align: center; vertical-align: top\">Digby Morrell</td>\n",
       "        <td style=\"padding-left: 1em; padding-right: 1em; text-align: center; vertical-align: top\">digby morrell born 10<br>october 1979 is a former ...</td>\n",
       "        <td style=\"padding-left: 1em; padding-right: 1em; text-align: center; vertical-align: top\">{'selection': 1,<br>'carltons': 1, 'being': ...</td>\n",
       "    </tr>\n",
       "    <tr>\n",
       "        <td style=\"padding-left: 1em; padding-right: 1em; text-align: center; vertical-align: top\">1</td>\n",
       "        <td style=\"padding-left: 1em; padding-right: 1em; text-align: center; vertical-align: top\">&lt;http://dbpedia.org/resou<br>rce/Alfred_J._Lewy&gt; ...</td>\n",
       "        <td style=\"padding-left: 1em; padding-right: 1em; text-align: center; vertical-align: top\">Alfred J. Lewy</td>\n",
       "        <td style=\"padding-left: 1em; padding-right: 1em; text-align: center; vertical-align: top\">alfred j lewy aka sandy<br>lewy graduated from ...</td>\n",
       "        <td style=\"padding-left: 1em; padding-right: 1em; text-align: center; vertical-align: top\">{'precise': 1, 'thomas':<br>1, 'they': 1, ...</td>\n",
       "    </tr>\n",
       "    <tr>\n",
       "        <td style=\"padding-left: 1em; padding-right: 1em; text-align: center; vertical-align: top\">2</td>\n",
       "        <td style=\"padding-left: 1em; padding-right: 1em; text-align: center; vertical-align: top\">&lt;http://dbpedia.org/resou<br>rce/Harpdog_Brown&gt; ...</td>\n",
       "        <td style=\"padding-left: 1em; padding-right: 1em; text-align: center; vertical-align: top\">Harpdog Brown</td>\n",
       "        <td style=\"padding-left: 1em; padding-right: 1em; text-align: center; vertical-align: top\">harpdog brown is a singer<br>and harmonica player who ...</td>\n",
       "        <td style=\"padding-left: 1em; padding-right: 1em; text-align: center; vertical-align: top\">{'just': 1, 'issued': 1,<br>'mainly': 1, 'nominat ...</td>\n",
       "    </tr>\n",
       "    <tr>\n",
       "        <td style=\"padding-left: 1em; padding-right: 1em; text-align: center; vertical-align: top\">3</td>\n",
       "        <td style=\"padding-left: 1em; padding-right: 1em; text-align: center; vertical-align: top\">&lt;http://dbpedia.org/resou<br>rce/Franz_Rottensteiner&gt; ...</td>\n",
       "        <td style=\"padding-left: 1em; padding-right: 1em; text-align: center; vertical-align: top\">Franz Rottensteiner</td>\n",
       "        <td style=\"padding-left: 1em; padding-right: 1em; text-align: center; vertical-align: top\">franz rottensteiner born<br>in waidmannsfeld lower ...</td>\n",
       "        <td style=\"padding-left: 1em; padding-right: 1em; text-align: center; vertical-align: top\">{'englishreading': 1,<br>'all': 1, 'bauforschu ...</td>\n",
       "    </tr>\n",
       "    <tr>\n",
       "        <td style=\"padding-left: 1em; padding-right: 1em; text-align: center; vertical-align: top\">4</td>\n",
       "        <td style=\"padding-left: 1em; padding-right: 1em; text-align: center; vertical-align: top\">&lt;http://dbpedia.org/resou<br>rce/G-Enka&gt; ...</td>\n",
       "        <td style=\"padding-left: 1em; padding-right: 1em; text-align: center; vertical-align: top\">G-Enka</td>\n",
       "        <td style=\"padding-left: 1em; padding-right: 1em; text-align: center; vertical-align: top\">henry krvits born 30<br>december 1974 in tallinn ...</td>\n",
       "        <td style=\"padding-left: 1em; padding-right: 1em; text-align: center; vertical-align: top\">{'they': 1,<br>'gangstergenka': 1, ...</td>\n",
       "    </tr>\n",
       "    <tr>\n",
       "        <td style=\"padding-left: 1em; padding-right: 1em; text-align: center; vertical-align: top\">5</td>\n",
       "        <td style=\"padding-left: 1em; padding-right: 1em; text-align: center; vertical-align: top\">&lt;http://dbpedia.org/resou<br>rce/Sam_Henderson&gt; ...</td>\n",
       "        <td style=\"padding-left: 1em; padding-right: 1em; text-align: center; vertical-align: top\">Sam Henderson</td>\n",
       "        <td style=\"padding-left: 1em; padding-right: 1em; text-align: center; vertical-align: top\">sam henderson born<br>october 18 1969 is an ...</td>\n",
       "        <td style=\"padding-left: 1em; padding-right: 1em; text-align: center; vertical-align: top\">{'now': 1, 'currently':<br>1, 'less': 1, 'being' ...</td>\n",
       "    </tr>\n",
       "    <tr>\n",
       "        <td style=\"padding-left: 1em; padding-right: 1em; text-align: center; vertical-align: top\">6</td>\n",
       "        <td style=\"padding-left: 1em; padding-right: 1em; text-align: center; vertical-align: top\">&lt;http://dbpedia.org/resou<br>rce/Aaron_LaCrate&gt; ...</td>\n",
       "        <td style=\"padding-left: 1em; padding-right: 1em; text-align: center; vertical-align: top\">Aaron LaCrate</td>\n",
       "        <td style=\"padding-left: 1em; padding-right: 1em; text-align: center; vertical-align: top\">aaron lacrate is an<br>american music producer ...</td>\n",
       "        <td style=\"padding-left: 1em; padding-right: 1em; text-align: center; vertical-align: top\">{'exclusive': 2,<br>'producer': 1, 'show' ...</td>\n",
       "    </tr>\n",
       "    <tr>\n",
       "        <td style=\"padding-left: 1em; padding-right: 1em; text-align: center; vertical-align: top\">7</td>\n",
       "        <td style=\"padding-left: 1em; padding-right: 1em; text-align: center; vertical-align: top\">&lt;http://dbpedia.org/resou<br>rce/Trevor_Ferguson&gt; ...</td>\n",
       "        <td style=\"padding-left: 1em; padding-right: 1em; text-align: center; vertical-align: top\">Trevor Ferguson</td>\n",
       "        <td style=\"padding-left: 1em; padding-right: 1em; text-align: center; vertical-align: top\">trevor ferguson aka john<br>farrow born 11 november ...</td>\n",
       "        <td style=\"padding-left: 1em; padding-right: 1em; text-align: center; vertical-align: top\">{'taxi': 1, 'salon': 1,<br>'gangs': 1, 'being': 1, ...</td>\n",
       "    </tr>\n",
       "    <tr>\n",
       "        <td style=\"padding-left: 1em; padding-right: 1em; text-align: center; vertical-align: top\">8</td>\n",
       "        <td style=\"padding-left: 1em; padding-right: 1em; text-align: center; vertical-align: top\">&lt;http://dbpedia.org/resou<br>rce/Grant_Nelson&gt; ...</td>\n",
       "        <td style=\"padding-left: 1em; padding-right: 1em; text-align: center; vertical-align: top\">Grant Nelson</td>\n",
       "        <td style=\"padding-left: 1em; padding-right: 1em; text-align: center; vertical-align: top\">grant nelson born 27<br>april 1971 in london  ...</td>\n",
       "        <td style=\"padding-left: 1em; padding-right: 1em; text-align: center; vertical-align: top\">{'houston': 1, 'frankie':<br>1, 'labels': 1, ...</td>\n",
       "    </tr>\n",
       "    <tr>\n",
       "        <td style=\"padding-left: 1em; padding-right: 1em; text-align: center; vertical-align: top\">9</td>\n",
       "        <td style=\"padding-left: 1em; padding-right: 1em; text-align: center; vertical-align: top\">&lt;http://dbpedia.org/resou<br>rce/Cathy_Caruth&gt; ...</td>\n",
       "        <td style=\"padding-left: 1em; padding-right: 1em; text-align: center; vertical-align: top\">Cathy Caruth</td>\n",
       "        <td style=\"padding-left: 1em; padding-right: 1em; text-align: center; vertical-align: top\">cathy caruth born 1955 is<br>frank h t rhodes ...</td>\n",
       "        <td style=\"padding-left: 1em; padding-right: 1em; text-align: center; vertical-align: top\">{'phenomenon': 1,<br>'deborash': 1, ...</td>\n",
       "    </tr>\n",
       "</table>\n",
       "<table frame=\"box\" rules=\"cols\">\n",
       "    <tr>\n",
       "        <th style=\"padding-left: 1em; padding-right: 1em; text-align: center\">has_top_words</th>\n",
       "        <th style=\"padding-left: 1em; padding-right: 1em; text-align: center\">tf_idf</th>\n",
       "    </tr>\n",
       "    <tr>\n",
       "        <td style=\"padding-left: 1em; padding-right: 1em; text-align: center; vertical-align: top\">1</td>\n",
       "        <td style=\"padding-left: 1em; padding-right: 1em; text-align: center; vertical-align: top\">{'selection':<br>3.836578553093086, ...</td>\n",
       "    </tr>\n",
       "    <tr>\n",
       "        <td style=\"padding-left: 1em; padding-right: 1em; text-align: center; vertical-align: top\">1</td>\n",
       "        <td style=\"padding-left: 1em; padding-right: 1em; text-align: center; vertical-align: top\">{'precise':<br>6.44320060695519, ...</td>\n",
       "    </tr>\n",
       "    <tr>\n",
       "        <td style=\"padding-left: 1em; padding-right: 1em; text-align: center; vertical-align: top\">1</td>\n",
       "        <td style=\"padding-left: 1em; padding-right: 1em; text-align: center; vertical-align: top\">{'just':<br>2.7007299687108643, ...</td>\n",
       "    </tr>\n",
       "    <tr>\n",
       "        <td style=\"padding-left: 1em; padding-right: 1em; text-align: center; vertical-align: top\">1</td>\n",
       "        <td style=\"padding-left: 1em; padding-right: 1em; text-align: center; vertical-align: top\">{'englishreading':<br>10.293348208665249, ...</td>\n",
       "    </tr>\n",
       "    <tr>\n",
       "        <td style=\"padding-left: 1em; padding-right: 1em; text-align: center; vertical-align: top\">0</td>\n",
       "        <td style=\"padding-left: 1em; padding-right: 1em; text-align: center; vertical-align: top\">{'they':<br>1.8993401178193898, ...</td>\n",
       "    </tr>\n",
       "    <tr>\n",
       "        <td style=\"padding-left: 1em; padding-right: 1em; text-align: center; vertical-align: top\">0</td>\n",
       "        <td style=\"padding-left: 1em; padding-right: 1em; text-align: center; vertical-align: top\">{'now': 1.96695239252401,<br>'currently': ...</td>\n",
       "    </tr>\n",
       "    <tr>\n",
       "        <td style=\"padding-left: 1em; padding-right: 1em; text-align: center; vertical-align: top\">1</td>\n",
       "        <td style=\"padding-left: 1em; padding-right: 1em; text-align: center; vertical-align: top\">{'exclusive':<br>10.455187230695827, ...</td>\n",
       "    </tr>\n",
       "    <tr>\n",
       "        <td style=\"padding-left: 1em; padding-right: 1em; text-align: center; vertical-align: top\">1</td>\n",
       "        <td style=\"padding-left: 1em; padding-right: 1em; text-align: center; vertical-align: top\">{'taxi':<br>6.0520214560945025, ...</td>\n",
       "    </tr>\n",
       "    <tr>\n",
       "        <td style=\"padding-left: 1em; padding-right: 1em; text-align: center; vertical-align: top\">1</td>\n",
       "        <td style=\"padding-left: 1em; padding-right: 1em; text-align: center; vertical-align: top\">{'houston':<br>3.935505942157149, ...</td>\n",
       "    </tr>\n",
       "    <tr>\n",
       "        <td style=\"padding-left: 1em; padding-right: 1em; text-align: center; vertical-align: top\">1</td>\n",
       "        <td style=\"padding-left: 1em; padding-right: 1em; text-align: center; vertical-align: top\">{'phenomenon':<br>5.750053426395245, ...</td>\n",
       "    </tr>\n",
       "</table>\n",
       "[59071 rows x 7 columns]<br/>Note: Only the head of the SFrame is printed.<br/>You can use print_rows(num_rows=m, num_columns=n) to print more rows and columns.\n",
       "</div>"
      ],
      "text/plain": [
       "Columns:\n",
       "\tid\tint\n",
       "\tURI\tstr\n",
       "\tname\tstr\n",
       "\ttext\tstr\n",
       "\tword_count\tdict\n",
       "\thas_top_words\tint\n",
       "\ttf_idf\tdict\n",
       "\n",
       "Rows: 59071\n",
       "\n",
       "Data:\n",
       "+----+-------------------------------+---------------------+\n",
       "| id |              URI              |         name        |\n",
       "+----+-------------------------------+---------------------+\n",
       "| 0  | <http://dbpedia.org/resour... |    Digby Morrell    |\n",
       "| 1  | <http://dbpedia.org/resour... |    Alfred J. Lewy   |\n",
       "| 2  | <http://dbpedia.org/resour... |    Harpdog Brown    |\n",
       "| 3  | <http://dbpedia.org/resour... | Franz Rottensteiner |\n",
       "| 4  | <http://dbpedia.org/resour... |        G-Enka       |\n",
       "| 5  | <http://dbpedia.org/resour... |    Sam Henderson    |\n",
       "| 6  | <http://dbpedia.org/resour... |    Aaron LaCrate    |\n",
       "| 7  | <http://dbpedia.org/resour... |   Trevor Ferguson   |\n",
       "| 8  | <http://dbpedia.org/resour... |     Grant Nelson    |\n",
       "| 9  | <http://dbpedia.org/resour... |     Cathy Caruth    |\n",
       "+----+-------------------------------+---------------------+\n",
       "+-------------------------------+-------------------------------+---------------+\n",
       "|              text             |           word_count          | has_top_words |\n",
       "+-------------------------------+-------------------------------+---------------+\n",
       "| digby morrell born 10 octo... | {'selection': 1, 'carltons... |       1       |\n",
       "| alfred j lewy aka sandy le... | {'precise': 1, 'thomas': 1... |       1       |\n",
       "| harpdog brown is a singer ... | {'just': 1, 'issued': 1, '... |       1       |\n",
       "| franz rottensteiner born i... | {'englishreading': 1, 'all... |       1       |\n",
       "| henry krvits born 30 decem... | {'they': 1, 'gangstergenka... |       0       |\n",
       "| sam henderson born october... | {'now': 1, 'currently': 1,... |       0       |\n",
       "| aaron lacrate is an americ... | {'exclusive': 2, 'producer... |       1       |\n",
       "| trevor ferguson aka john f... | {'taxi': 1, 'salon': 1, 'g... |       1       |\n",
       "| grant nelson born 27 april... | {'houston': 1, 'frankie': ... |       1       |\n",
       "| cathy caruth born 1955 is ... | {'phenomenon': 1, 'deboras... |       1       |\n",
       "+-------------------------------+-------------------------------+---------------+\n",
       "+-------------------------------+\n",
       "|             tf_idf            |\n",
       "+-------------------------------+\n",
       "| {'selection': 3.8365785530... |\n",
       "| {'precise': 6.443200606955... |\n",
       "| {'just': 2.700729968710864... |\n",
       "| {'englishreading': 10.2933... |\n",
       "| {'they': 1.899340117819389... |\n",
       "| {'now': 1.96695239252401, ... |\n",
       "| {'exclusive': 10.455187230... |\n",
       "| {'taxi': 6.052021456094502... |\n",
       "| {'houston': 3.935505942157... |\n",
       "| {'phenomenon': 5.750053426... |\n",
       "+-------------------------------+\n",
       "[59071 rows x 7 columns]\n",
       "Note: Only the head of the SFrame is printed.\n",
       "You can use print_rows(num_rows=m, num_columns=n) to print more rows and columns."
      ]
     },
     "execution_count": 82,
     "metadata": {},
     "output_type": "execute_result"
    }
   ],
   "source": [
    "wiki"
   ]
  },
  {
   "cell_type": "markdown",
   "metadata": {},
   "source": [
    "### (Optional) Extracting TF-IDF vectors yourself"
   ]
  },
  {
   "cell_type": "code",
   "execution_count": 95,
   "metadata": {
    "collapsed": true
   },
   "outputs": [],
   "source": [
    "from sklearn.feature_extraction.text import TfidfVectorizer\n",
    "vectorizer2 = TfidfVectorizer()\n",
    "X2 = vectorizer2.fit_transform(wiki['text'])"
   ]
  },
  {
   "cell_type": "code",
   "execution_count": 96,
   "metadata": {
    "collapsed": false
   },
   "outputs": [
    {
     "name": "stdout",
     "output_type": "stream",
     "text": [
      "  (0, 323149)\t0.0494287004671\n",
      "  (0, 131019)\t0.0258866726495\n",
      "  (0, 373391)\t0.0657538158118\n",
      "  (0, 174892)\t0.0348538045284\n",
      "  (0, 383494)\t0.0505429936659\n",
      "  (0, 482973)\t0.0482150532182\n",
      "  (0, 147538)\t0.0266519256537\n",
      "  (0, 174317)\t0.114140224702\n",
      "  (0, 55807)\t0.0147834467381\n",
      "  (0, 129472)\t0.0890256729345\n",
      "  (0, 128998)\t0.0504499281913\n",
      "  (0, 232405)\t0.0144375033087\n",
      "  (0, 27234)\t0.0324152871689\n",
      "  (0, 452091)\t0.0248155352758\n",
      "  (0, 395130)\t0.0560159537936\n",
      "  (0, 164319)\t0.0383084696158\n",
      "  (0, 395095)\t0.0472591973318\n",
      "  (0, 25333)\t0.0273114196834\n",
      "  (0, 163902)\t0.0381453856702\n",
      "  (0, 184573)\t0.0708467044132\n",
      "  (0, 470490)\t0.0960311999833\n",
      "  (0, 26672)\t0.0298602685331\n",
      "  (0, 510734)\t0.0278849701607\n",
      "  (0, 23810)\t0.0259177002944\n",
      "  (0, 207275)\t0.0261514373131\n",
      "  :\t:\n",
      "  (59070, 487825)\t0.0366218915535\n",
      "  (59070, 362879)\t0.0522156528767\n",
      "  (59070, 228463)\t0.023998008636\n",
      "  (59070, 58345)\t0.0143084179254\n",
      "  (59070, 48892)\t0.0214290889988\n",
      "  (59070, 509228)\t0.0203601576712\n",
      "  (59070, 131019)\t0.0282292787287\n",
      "  (59070, 207275)\t0.0142590015925\n",
      "  (59070, 22257)\t0.0274204418376\n",
      "  (59070, 68220)\t0.0124230220449\n",
      "  (59070, 261796)\t0.0296203815282\n",
      "  (59070, 105848)\t0.0302989856192\n",
      "  (59070, 494242)\t0.0692330807451\n",
      "  (59070, 360152)\t0.0664035636199\n",
      "  (59070, 70663)\t0.0267890822406\n",
      "  (59070, 525358)\t0.0951693219221\n",
      "  (59070, 233848)\t0.0802382502051\n",
      "  (59070, 528757)\t0.119110845077\n",
      "  (59070, 202512)\t0.0354734736239\n",
      "  (59070, 239345)\t0.0556630335489\n",
      "  (59070, 251979)\t0.0661925656571\n",
      "  (59070, 58945)\t0.0992670003429\n",
      "  (59070, 487957)\t0.154316033075\n",
      "  (59070, 532952)\t0.0132529112882\n",
      "  (59070, 259967)\t0.0113258202919\n"
     ]
    }
   ],
   "source": [
    "print X2"
   ]
  },
  {
   "cell_type": "markdown",
   "metadata": {},
   "source": [
    "### Find nearest neighbors using TF-IDF vectors"
   ]
  },
  {
   "cell_type": "code",
   "execution_count": 98,
   "metadata": {
    "collapsed": false
   },
   "outputs": [
    {
     "data": {
      "text/plain": [
       "NearestNeighbors(algorithm='brute', leaf_size=30, metric='euclidean',\n",
       "         metric_params=None, n_jobs=1, n_neighbors=5, p=2, radius=1.0)"
      ]
     },
     "execution_count": 98,
     "metadata": {},
     "output_type": "execute_result"
    }
   ],
   "source": [
    "model_tf_idf = NearestNeighbors(metric='euclidean', algorithm='brute')\n",
    "model_tf_idf.fit(tf_idf)"
   ]
  },
  {
   "cell_type": "code",
   "execution_count": 99,
   "metadata": {
    "collapsed": true
   },
   "outputs": [],
   "source": [
    "distances, indices = model_tf_idf.kneighbors(tf_idf[35817], n_neighbors=10)"
   ]
  },
  {
   "cell_type": "code",
   "execution_count": 100,
   "metadata": {
    "collapsed": false
   },
   "outputs": [
    {
     "name": "stdout",
     "output_type": "stream",
     "text": [
      "+-------+-------------------------+---------------+\n",
      "|   id  |           name          |    distance   |\n",
      "+-------+-------------------------+---------------+\n",
      "| 35817 |       Barack Obama      |      0.0      |\n",
      "|  7914 |      Phil Schiliro      | 106.861013691 |\n",
      "| 46811 |      Jeff Sessions      | 108.871674216 |\n",
      "| 44681 |  Jesse Lee (politician) | 109.045697909 |\n",
      "| 38376 |      Samantha Power     | 109.108106165 |\n",
      "|  6507 |       Bob Menendez      | 109.781867105 |\n",
      "| 38714 | Eric Stern (politician) |  109.95778808 |\n",
      "| 44825 |      James A. Guest     | 110.413888718 |\n",
      "| 44368 |   Roland Grossenbacher  |  110.4706087  |\n",
      "| 33417 |      Tulsi Gabbard      | 110.696997999 |\n",
      "+-------+-------------------------+---------------+\n",
      "[10 rows x 3 columns]\n",
      "\n"
     ]
    }
   ],
   "source": [
    "neighbors = sframe.SFrame({'distance':distances.flatten(), 'id':indices.flatten()})\n",
    "print wiki.join(neighbors, on='id').sort('distance')[['id', 'name', 'distance']]"
   ]
  },
  {
   "cell_type": "code",
   "execution_count": 101,
   "metadata": {
    "collapsed": false
   },
   "outputs": [
    {
     "name": "stdout",
     "output_type": "stream",
     "text": [
      "+-------------+---------------+\n",
      "|     word    |     weight    |\n",
      "+-------------+---------------+\n",
      "|    obama    | 43.2956530721 |\n",
      "|     act     |  27.678222623 |\n",
      "|     iraq    |  17.747378588 |\n",
      "|   control   | 14.8870608452 |\n",
      "|     law     | 14.7229357618 |\n",
      "|   ordered   | 14.5333739509 |\n",
      "|   military  | 13.1159327785 |\n",
      "|   response  | 12.7843852412 |\n",
      "| involvement | 12.7843852412 |\n",
      "|  democratic | 12.4106886973 |\n",
      "+-------------+---------------+\n",
      "[273 rows x 2 columns]\n",
      "Note: Only the head of the SFrame is printed.\n",
      "You can use print_rows(num_rows=m, num_columns=n) to print more rows and columns.\n",
      "+-----------------+---------------+\n",
      "|       word      |     weight    |\n",
      "+-----------------+---------------+\n",
      "|     schiliro    | 21.9729907785 |\n",
      "|      staff      | 15.8564416352 |\n",
      "|  congressional  | 13.5470876563 |\n",
      "| daschleschiliro | 10.9864953892 |\n",
      "|      obama      | 9.62125623824 |\n",
      "|      waxman     | 9.04058524017 |\n",
      "|    president    | 9.03358661416 |\n",
      "|     2014from    | 8.68391029623 |\n",
      "|       law       | 7.36146788088 |\n",
      "|    consultant   | 6.91310403725 |\n",
      "+-----------------+---------------+\n",
      "[119 rows x 2 columns]\n",
      "Note: Only the head of the SFrame is printed.\n",
      "You can use print_rows(num_rows=m, num_columns=n) to print more rows and columns.\n"
     ]
    }
   ],
   "source": [
    "def top_words_tf_idf(name):\n",
    "    row = wiki[wiki['name'] == name]\n",
    "    word_count_table = row[['tf_idf']].stack('tf_idf', new_column_name=['word', 'weight'])\n",
    "    return word_count_table.sort('weight', ascending=False)\n",
    "\n",
    "obama_tf_idf = top_words_tf_idf('Barack Obama')\n",
    "print obama_tf_idf\n",
    "\n",
    "schiliro_tf_idf = top_words_tf_idf('Phil Schiliro')\n",
    "print schiliro_tf_idf\n"
   ]
  },
  {
   "cell_type": "code",
   "execution_count": 105,
   "metadata": {
    "collapsed": false
   },
   "outputs": [
    {
     "data": {
      "text/html": [
       "<div style=\"max-height:1000px;max-width:1500px;overflow:auto;\"><table frame=\"box\" rules=\"cols\">\n",
       "    <tr>\n",
       "        <th style=\"padding-left: 1em; padding-right: 1em; text-align: center\">word</th>\n",
       "        <th style=\"padding-left: 1em; padding-right: 1em; text-align: center\">Obama</th>\n",
       "        <th style=\"padding-left: 1em; padding-right: 1em; text-align: center\">Schiliro</th>\n",
       "    </tr>\n",
       "    <tr>\n",
       "        <td style=\"padding-left: 1em; padding-right: 1em; text-align: center; vertical-align: top\">obama</td>\n",
       "        <td style=\"padding-left: 1em; padding-right: 1em; text-align: center; vertical-align: top\">43.2956530721</td>\n",
       "        <td style=\"padding-left: 1em; padding-right: 1em; text-align: center; vertical-align: top\">9.62125623824</td>\n",
       "    </tr>\n",
       "    <tr>\n",
       "        <td style=\"padding-left: 1em; padding-right: 1em; text-align: center; vertical-align: top\">law</td>\n",
       "        <td style=\"padding-left: 1em; padding-right: 1em; text-align: center; vertical-align: top\">14.7229357618</td>\n",
       "        <td style=\"padding-left: 1em; padding-right: 1em; text-align: center; vertical-align: top\">7.36146788088</td>\n",
       "    </tr>\n",
       "    <tr>\n",
       "        <td style=\"padding-left: 1em; padding-right: 1em; text-align: center; vertical-align: top\">democratic</td>\n",
       "        <td style=\"padding-left: 1em; padding-right: 1em; text-align: center; vertical-align: top\">12.4106886973</td>\n",
       "        <td style=\"padding-left: 1em; padding-right: 1em; text-align: center; vertical-align: top\">6.20534434867</td>\n",
       "    </tr>\n",
       "    <tr>\n",
       "        <td style=\"padding-left: 1em; padding-right: 1em; text-align: center; vertical-align: top\">senate</td>\n",
       "        <td style=\"padding-left: 1em; padding-right: 1em; text-align: center; vertical-align: top\">10.1642881797</td>\n",
       "        <td style=\"padding-left: 1em; padding-right: 1em; text-align: center; vertical-align: top\">3.3880960599</td>\n",
       "    </tr>\n",
       "    <tr>\n",
       "        <td style=\"padding-left: 1em; padding-right: 1em; text-align: center; vertical-align: top\">presidential</td>\n",
       "        <td style=\"padding-left: 1em; padding-right: 1em; text-align: center; vertical-align: top\">7.3869554189</td>\n",
       "        <td style=\"padding-left: 1em; padding-right: 1em; text-align: center; vertical-align: top\">3.69347770945</td>\n",
       "    </tr>\n",
       "    <tr>\n",
       "        <td style=\"padding-left: 1em; padding-right: 1em; text-align: center; vertical-align: top\">president</td>\n",
       "        <td style=\"padding-left: 1em; padding-right: 1em; text-align: center; vertical-align: top\">7.22686929133</td>\n",
       "        <td style=\"padding-left: 1em; padding-right: 1em; text-align: center; vertical-align: top\">9.03358661416</td>\n",
       "    </tr>\n",
       "    <tr>\n",
       "        <td style=\"padding-left: 1em; padding-right: 1em; text-align: center; vertical-align: top\">policy</td>\n",
       "        <td style=\"padding-left: 1em; padding-right: 1em; text-align: center; vertical-align: top\">6.09538628214</td>\n",
       "        <td style=\"padding-left: 1em; padding-right: 1em; text-align: center; vertical-align: top\">3.04769314107</td>\n",
       "    </tr>\n",
       "    <tr>\n",
       "        <td style=\"padding-left: 1em; padding-right: 1em; text-align: center; vertical-align: top\">states</td>\n",
       "        <td style=\"padding-left: 1em; padding-right: 1em; text-align: center; vertical-align: top\">5.47320098963</td>\n",
       "        <td style=\"padding-left: 1em; padding-right: 1em; text-align: center; vertical-align: top\">1.82440032988</td>\n",
       "    </tr>\n",
       "    <tr>\n",
       "        <td style=\"padding-left: 1em; padding-right: 1em; text-align: center; vertical-align: top\">office</td>\n",
       "        <td style=\"padding-left: 1em; padding-right: 1em; text-align: center; vertical-align: top\">5.24817282322</td>\n",
       "        <td style=\"padding-left: 1em; padding-right: 1em; text-align: center; vertical-align: top\">2.62408641161</td>\n",
       "    </tr>\n",
       "    <tr>\n",
       "        <td style=\"padding-left: 1em; padding-right: 1em; text-align: center; vertical-align: top\">2011</td>\n",
       "        <td style=\"padding-left: 1em; padding-right: 1em; text-align: center; vertical-align: top\">5.10704127031</td>\n",
       "        <td style=\"padding-left: 1em; padding-right: 1em; text-align: center; vertical-align: top\">3.40469418021</td>\n",
       "    </tr>\n",
       "</table>\n",
       "[47 rows x 3 columns]<br/>Note: Only the head of the SFrame is printed.<br/>You can use print_rows(num_rows=m, num_columns=n) to print more rows and columns.\n",
       "</div>"
      ],
      "text/plain": [
       "Columns:\n",
       "\tword\tstr\n",
       "\tObama\tfloat\n",
       "\tSchiliro\tfloat\n",
       "\n",
       "Rows: 47\n",
       "\n",
       "Data:\n",
       "+--------------+---------------+---------------+\n",
       "|     word     |     Obama     |    Schiliro   |\n",
       "+--------------+---------------+---------------+\n",
       "|    obama     | 43.2956530721 | 9.62125623824 |\n",
       "|     law      | 14.7229357618 | 7.36146788088 |\n",
       "|  democratic  | 12.4106886973 | 6.20534434867 |\n",
       "|    senate    | 10.1642881797 |  3.3880960599 |\n",
       "| presidential |  7.3869554189 | 3.69347770945 |\n",
       "|  president   | 7.22686929133 | 9.03358661416 |\n",
       "|    policy    | 6.09538628214 | 3.04769314107 |\n",
       "|    states    | 5.47320098963 | 1.82440032988 |\n",
       "|    office    | 5.24817282322 | 2.62408641161 |\n",
       "|     2011     | 5.10704127031 | 3.40469418021 |\n",
       "+--------------+---------------+---------------+\n",
       "[47 rows x 3 columns]\n",
       "Note: Only the head of the SFrame is printed.\n",
       "You can use print_rows(num_rows=m, num_columns=n) to print more rows and columns."
      ]
     },
     "execution_count": 105,
     "metadata": {},
     "output_type": "execute_result"
    }
   ],
   "source": [
    "combined_words_tf_idf = obama_tf_idf.join(schiliro_tf_idf, on='word')\n",
    "combined_words_tf_idf = combined_words_tf_idf.rename({'weight':'Obama', 'weight.1':'Schiliro'})\n",
    "combined_words_tf_idf"
   ]
  },
  {
   "cell_type": "code",
   "execution_count": 106,
   "metadata": {
    "collapsed": false
   },
   "outputs": [
    {
     "data": {
      "text/html": [
       "<div style=\"max-height:1000px;max-width:1500px;overflow:auto;\"><table frame=\"box\" rules=\"cols\">\n",
       "    <tr>\n",
       "        <th style=\"padding-left: 1em; padding-right: 1em; text-align: center\">word</th>\n",
       "        <th style=\"padding-left: 1em; padding-right: 1em; text-align: center\">Obama</th>\n",
       "        <th style=\"padding-left: 1em; padding-right: 1em; text-align: center\">Schiliro</th>\n",
       "    </tr>\n",
       "    <tr>\n",
       "        <td style=\"padding-left: 1em; padding-right: 1em; text-align: center; vertical-align: top\">obama</td>\n",
       "        <td style=\"padding-left: 1em; padding-right: 1em; text-align: center; vertical-align: top\">43.2956530721</td>\n",
       "        <td style=\"padding-left: 1em; padding-right: 1em; text-align: center; vertical-align: top\">9.62125623824</td>\n",
       "    </tr>\n",
       "    <tr>\n",
       "        <td style=\"padding-left: 1em; padding-right: 1em; text-align: center; vertical-align: top\">law</td>\n",
       "        <td style=\"padding-left: 1em; padding-right: 1em; text-align: center; vertical-align: top\">14.7229357618</td>\n",
       "        <td style=\"padding-left: 1em; padding-right: 1em; text-align: center; vertical-align: top\">7.36146788088</td>\n",
       "    </tr>\n",
       "    <tr>\n",
       "        <td style=\"padding-left: 1em; padding-right: 1em; text-align: center; vertical-align: top\">democratic</td>\n",
       "        <td style=\"padding-left: 1em; padding-right: 1em; text-align: center; vertical-align: top\">12.4106886973</td>\n",
       "        <td style=\"padding-left: 1em; padding-right: 1em; text-align: center; vertical-align: top\">6.20534434867</td>\n",
       "    </tr>\n",
       "    <tr>\n",
       "        <td style=\"padding-left: 1em; padding-right: 1em; text-align: center; vertical-align: top\">senate</td>\n",
       "        <td style=\"padding-left: 1em; padding-right: 1em; text-align: center; vertical-align: top\">10.1642881797</td>\n",
       "        <td style=\"padding-left: 1em; padding-right: 1em; text-align: center; vertical-align: top\">3.3880960599</td>\n",
       "    </tr>\n",
       "    <tr>\n",
       "        <td style=\"padding-left: 1em; padding-right: 1em; text-align: center; vertical-align: top\">presidential</td>\n",
       "        <td style=\"padding-left: 1em; padding-right: 1em; text-align: center; vertical-align: top\">7.3869554189</td>\n",
       "        <td style=\"padding-left: 1em; padding-right: 1em; text-align: center; vertical-align: top\">3.69347770945</td>\n",
       "    </tr>\n",
       "    <tr>\n",
       "        <td style=\"padding-left: 1em; padding-right: 1em; text-align: center; vertical-align: top\">president</td>\n",
       "        <td style=\"padding-left: 1em; padding-right: 1em; text-align: center; vertical-align: top\">7.22686929133</td>\n",
       "        <td style=\"padding-left: 1em; padding-right: 1em; text-align: center; vertical-align: top\">9.03358661416</td>\n",
       "    </tr>\n",
       "    <tr>\n",
       "        <td style=\"padding-left: 1em; padding-right: 1em; text-align: center; vertical-align: top\">policy</td>\n",
       "        <td style=\"padding-left: 1em; padding-right: 1em; text-align: center; vertical-align: top\">6.09538628214</td>\n",
       "        <td style=\"padding-left: 1em; padding-right: 1em; text-align: center; vertical-align: top\">3.04769314107</td>\n",
       "    </tr>\n",
       "    <tr>\n",
       "        <td style=\"padding-left: 1em; padding-right: 1em; text-align: center; vertical-align: top\">states</td>\n",
       "        <td style=\"padding-left: 1em; padding-right: 1em; text-align: center; vertical-align: top\">5.47320098963</td>\n",
       "        <td style=\"padding-left: 1em; padding-right: 1em; text-align: center; vertical-align: top\">1.82440032988</td>\n",
       "    </tr>\n",
       "    <tr>\n",
       "        <td style=\"padding-left: 1em; padding-right: 1em; text-align: center; vertical-align: top\">office</td>\n",
       "        <td style=\"padding-left: 1em; padding-right: 1em; text-align: center; vertical-align: top\">5.24817282322</td>\n",
       "        <td style=\"padding-left: 1em; padding-right: 1em; text-align: center; vertical-align: top\">2.62408641161</td>\n",
       "    </tr>\n",
       "    <tr>\n",
       "        <td style=\"padding-left: 1em; padding-right: 1em; text-align: center; vertical-align: top\">2011</td>\n",
       "        <td style=\"padding-left: 1em; padding-right: 1em; text-align: center; vertical-align: top\">5.10704127031</td>\n",
       "        <td style=\"padding-left: 1em; padding-right: 1em; text-align: center; vertical-align: top\">3.40469418021</td>\n",
       "    </tr>\n",
       "</table>\n",
       "[47 rows x 3 columns]<br/>Note: Only the head of the SFrame is printed.<br/>You can use print_rows(num_rows=m, num_columns=n) to print more rows and columns.\n",
       "</div>"
      ],
      "text/plain": [
       "Columns:\n",
       "\tword\tstr\n",
       "\tObama\tfloat\n",
       "\tSchiliro\tfloat\n",
       "\n",
       "Rows: 47\n",
       "\n",
       "Data:\n",
       "+--------------+---------------+---------------+\n",
       "|     word     |     Obama     |    Schiliro   |\n",
       "+--------------+---------------+---------------+\n",
       "|    obama     | 43.2956530721 | 9.62125623824 |\n",
       "|     law      | 14.7229357618 | 7.36146788088 |\n",
       "|  democratic  | 12.4106886973 | 6.20534434867 |\n",
       "|    senate    | 10.1642881797 |  3.3880960599 |\n",
       "| presidential |  7.3869554189 | 3.69347770945 |\n",
       "|  president   | 7.22686929133 | 9.03358661416 |\n",
       "|    policy    | 6.09538628214 | 3.04769314107 |\n",
       "|    states    | 5.47320098963 | 1.82440032988 |\n",
       "|    office    | 5.24817282322 | 2.62408641161 |\n",
       "|     2011     | 5.10704127031 | 3.40469418021 |\n",
       "+--------------+---------------+---------------+\n",
       "[47 rows x 3 columns]\n",
       "Note: Only the head of the SFrame is printed.\n",
       "You can use print_rows(num_rows=m, num_columns=n) to print more rows and columns."
      ]
     },
     "execution_count": 106,
     "metadata": {},
     "output_type": "execute_result"
    }
   ],
   "source": [
    "combined_words_tf_idf.sort('Obama', ascending=False)"
   ]
  },
  {
   "cell_type": "code",
   "execution_count": 108,
   "metadata": {
    "collapsed": false
   },
   "outputs": [
    {
     "data": {
      "text/plain": [
       "dtype: str\n",
       "Rows: 5\n",
       "['obama', 'law', 'democratic', 'senate', 'presidential']"
      ]
     },
     "execution_count": 108,
     "metadata": {},
     "output_type": "execute_result"
    }
   ],
   "source": [
    "common_words_tf_idf = combined_words_tf_idf[:5]['word']\n",
    "common_words_tf_idf"
   ]
  },
  {
   "cell_type": "code",
   "execution_count": 109,
   "metadata": {
    "collapsed": true
   },
   "outputs": [],
   "source": [
    "def has_top_words(word_count_vector):\n",
    "    # extract the keys of word_count_vector and convert it to a set\n",
    "    unique_words = Set(word_count_vector.keys())\n",
    "    # return True if common_words is a subset of unique_words \n",
    "    # return False otherwise\n",
    "    return True if Set(common_words_tf_idf).issubset(unique_words) else False\n",
    "\n",
    "wiki['has_top_words'] = wiki['word_count'].apply(has_top_words)"
   ]
  },
  {
   "cell_type": "code",
   "execution_count": 110,
   "metadata": {
    "collapsed": false
   },
   "outputs": [
    {
     "name": "stdout",
     "output_type": "stream",
     "text": [
      "14 59057\n"
     ]
    }
   ],
   "source": [
    "print len(wiki[wiki['has_top_words'] ==True]), len(wiki[wiki['has_top_words'] == False])"
   ]
  },
  {
   "cell_type": "markdown",
   "metadata": {},
   "source": [
    "### Quiz Question.\n",
    "\n",
    " How many of the articles in the Wikipedia dataset contain all of those 5 words? \n",
    " ----> 14"
   ]
  },
  {
   "cell_type": "markdown",
   "metadata": {},
   "source": [
    "### Testing with my own TF-IDF vectors"
   ]
  },
  {
   "cell_type": "code",
   "execution_count": 111,
   "metadata": {
    "collapsed": false
   },
   "outputs": [
    {
     "name": "stdout",
     "output_type": "stream",
     "text": [
      "+-------+-------------------------+---------------+\n",
      "|   id  |           name          |    distance   |\n",
      "+-------+-------------------------+---------------+\n",
      "| 35817 |       Barack Obama      |      0.0      |\n",
      "| 24478 |        Joe Biden        | 1.06843684644 |\n",
      "| 57108 |  Hillary Rodham Clinton | 1.10989477164 |\n",
      "| 38376 |      Samantha Power     | 1.11802845363 |\n",
      "| 38714 | Eric Stern (politician) | 1.13997042076 |\n",
      "| 28447 |      George W. Bush     | 1.14776878131 |\n",
      "| 39357 |       John McCain       | 1.15037535434 |\n",
      "| 48693 |       Artur Davis       | 1.15493991533 |\n",
      "| 18827 |       Henry Waxman      | 1.15776013528 |\n",
      "| 46811 |      Jeff Sessions      | 1.15967844325 |\n",
      "+-------+-------------------------+---------------+\n",
      "[10 rows x 3 columns]\n",
      "\n"
     ]
    }
   ],
   "source": [
    "model3 = NearestNeighbors(metric='euclidean', algorithm='brute')\n",
    "model3.fit(X2)\n",
    "distances3, indices3 = model3.kneighbors(X2[35817], n_neighbors=10)\n",
    "neighbors3 = sframe.SFrame({'distance': distances3.flatten(), 'id': indices3.flatten() })\n",
    "print wiki.join(neighbors3, on='id').sort('distance')[['id', 'name', 'distance']]"
   ]
  },
  {
   "cell_type": "markdown",
   "metadata": {},
   "source": [
    "### Choosing metrics"
   ]
  },
  {
   "cell_type": "code",
   "execution_count": 115,
   "metadata": {
    "collapsed": false
   },
   "outputs": [
    {
     "data": {
      "text/plain": [
       "array([[ 123.29745601]])"
      ]
     },
     "execution_count": 115,
     "metadata": {},
     "output_type": "execute_result"
    }
   ],
   "source": [
    "baracko = tf_idf[35817]\n",
    "joeb = tf_idf[24478]\n",
    "euclidean_distances(baracko, joeb)"
   ]
  },
  {
   "cell_type": "markdown",
   "metadata": {},
   "source": [
    "### Quiz Question\n",
    "Compute the Euclidean distance between TF-IDF features of Obama and Biden.\n",
    "     ---->  123.29745601"
   ]
  },
  {
   "cell_type": "code",
   "execution_count": 116,
   "metadata": {
    "collapsed": true
   },
   "outputs": [],
   "source": [
    "# Compute length of all documents\n",
    "def compute_length(row):\n",
    "    return len(row['text'].split(' '))\n",
    "wiki['length'] = wiki.apply(compute_length)"
   ]
  },
  {
   "cell_type": "code",
   "execution_count": 117,
   "metadata": {
    "collapsed": false
   },
   "outputs": [
    {
     "name": "stdout",
     "output_type": "stream",
     "text": [
      "+-------+-------------------------+--------+---------------+\n",
      "|   id  |           name          | length |    distance   |\n",
      "+-------+-------------------------+--------+---------------+\n",
      "| 35817 |       Barack Obama      |  540   |      0.0      |\n",
      "|  7914 |      Phil Schiliro      |  208   | 106.861013691 |\n",
      "| 46811 |      Jeff Sessions      |  230   | 108.871674216 |\n",
      "| 44681 |  Jesse Lee (politician) |  216   | 109.045697909 |\n",
      "| 38376 |      Samantha Power     |  310   | 109.108106165 |\n",
      "|  6507 |       Bob Menendez      |  220   | 109.781867105 |\n",
      "| 38714 | Eric Stern (politician) |  255   |  109.95778808 |\n",
      "| 44825 |      James A. Guest     |  215   | 110.413888718 |\n",
      "| 44368 |   Roland Grossenbacher  |  201   |  110.4706087  |\n",
      "| 33417 |      Tulsi Gabbard      |  228   | 110.696997999 |\n",
      "+-------+-------------------------+--------+---------------+\n",
      "[100 rows x 4 columns]\n",
      "Note: Only the head of the SFrame is printed.\n",
      "You can use print_rows(num_rows=m, num_columns=n) to print more rows and columns.\n"
     ]
    }
   ],
   "source": [
    "# Compute 100 nearest neightbors and display their lengths\n",
    "distances, indices = model_tf_idf.kneighbors(tf_idf[35817], n_neighbors=100)\n",
    "neighbors = sframe.SFrame({'distance':distances.flatten(), 'id':indices.flatten()})\n",
    "nearest_neighbors_euclidean = wiki.join(neighbors, on='id')[['id', 'name', 'length', 'distance']].sort('distance')\n",
    "print nearest_neighbors_euclidean"
   ]
  },
  {
   "cell_type": "code",
   "execution_count": 118,
   "metadata": {
    "collapsed": false
   },
   "outputs": [
    {
     "data": {
      "image/png": "[encoded data removed]",
      "text/plain": [
       "<matplotlib.figure.Figure at 0x11ad8d950>"
      ]
     },
     "metadata": {},
     "output_type": "display_data"
    }
   ],
   "source": [
    "plt.figure(figsize=(10.5,4.5))\n",
    "plt.hist(wiki['length'], 50, color='k', edgecolor='None', histtype='stepfilled', normed=True,\n",
    "         label='Entire Wikipedia', zorder=3, alpha=0.8)\n",
    "plt.hist(nearest_neighbors_euclidean['length'], 50, color='r', edgecolor='None', histtype='stepfilled', normed=True,\n",
    "         label='100 NNs of Obama (Euclidean)', zorder=10, alpha=0.8)\n",
    "plt.axvline(x=wiki['length'][wiki['name'] == 'Barack Obama'][0], color='k', linestyle='--', linewidth=4,\n",
    "           label='Length of Barack Obama', zorder=2)\n",
    "plt.axvline(x=wiki['length'][wiki['name'] == 'Joe Biden'][0], color='g', linestyle='--', linewidth=4,\n",
    "           label='Length of Joe Biden', zorder=1)\n",
    "plt.axis([0, 1000, 0, 0.04])\n",
    "\n",
    "plt.legend(loc='best', prop={'size':15})\n",
    "plt.title('Distribution of document length')\n",
    "plt.xlabel('# of words')\n",
    "plt.ylabel('Percentage')\n",
    "plt.rcParams.update({'font.size':16})\n",
    "plt.tight_layout()"
   ]
  },
  {
   "cell_type": "code",
   "execution_count": 119,
   "metadata": {
    "collapsed": false
   },
   "outputs": [
    {
     "name": "stdout",
     "output_type": "stream",
     "text": [
      "+-------+-------------------------+--------+--------------------+\n",
      "|   id  |           name          | length |      distance      |\n",
      "+-------+-------------------------+--------+--------------------+\n",
      "| 35817 |       Barack Obama      |  540   | -1.11022302463e-15 |\n",
      "| 24478 |        Joe Biden        |  414   |   0.703138676734   |\n",
      "| 38376 |      Samantha Power     |  310   |   0.742981902328   |\n",
      "| 57108 |  Hillary Rodham Clinton |  580   |   0.758358397887   |\n",
      "| 38714 | Eric Stern (politician) |  255   |   0.770561227601   |\n",
      "| 46140 |       Robert Gibbs      |  257   |   0.784677504751   |\n",
      "|  6796 |       Eric Holder       |  232   |   0.788039072943   |\n",
      "| 44681 |  Jesse Lee (politician) |  216   |   0.790926415366   |\n",
      "| 18827 |       Henry Waxman      |  279   |   0.798322602893   |\n",
      "|  2412 |     Joe the Plumber     |  217   |   0.799466360042   |\n",
      "+-------+-------------------------+--------+--------------------+\n",
      "[100 rows x 4 columns]\n",
      "Note: Only the head of the SFrame is printed.\n",
      "You can use print_rows(num_rows=m, num_columns=n) to print more rows and columns.\n"
     ]
    }
   ],
   "source": [
    "model2_tf_idf = NearestNeighbors(algorithm='brute', metric='cosine') # Use cosine distance\n",
    "model2_tf_idf.fit(tf_idf)\n",
    "distances, indices = model2_tf_idf.kneighbors(tf_idf[35817], n_neighbors=100)\n",
    "neighbors = sframe.SFrame({'distance':distances.flatten(), 'id':indices.flatten()})\n",
    "nearest_neighbors_cosine = wiki.join(neighbors, on='id')[['id', 'name', 'length', 'distance']].sort('distance')\n",
    "print nearest_neighbors_cosine"
   ]
  },
  {
   "cell_type": "code",
   "execution_count": 120,
   "metadata": {
    "collapsed": false
   },
   "outputs": [
    {
     "data": {
      "text/plain": [
       "<matplotlib.figure.Figure at 0x132b4c990>"
      ]
     },
     "metadata": {},
     "output_type": "display_data"
    },
    {
     "data": {
      "image/png": "[encoded data removed]",
      "text/plain": [
       "<matplotlib.figure.Figure at 0x1383e78d0>"
      ]
     },
     "metadata": {},
     "output_type": "display_data"
    }
   ],
   "source": [
    "plt.figure(figsize=(10.5,4.5))\n",
    "plt.figure(figsize=(10.5,4.5))\n",
    "plt.hist(wiki['length'], 50, color='k', edgecolor='None', histtype='stepfilled', normed=True,\n",
    "         label='Entire Wikipedia', zorder=3, alpha=0.8)\n",
    "plt.hist(nearest_neighbors_euclidean['length'], 50, color='r', edgecolor='None', histtype='stepfilled', normed=True,\n",
    "         label='100 NNs of Obama (Euclidean)', zorder=10, alpha=0.8)\n",
    "plt.hist(nearest_neighbors_cosine['length'], 50, color='b', edgecolor='None', histtype='stepfilled', normed=True,\n",
    "         label='100 NNs of Obama (cosine)', zorder=11, alpha=0.8)\n",
    "plt.axvline(x=wiki['length'][wiki['name'] == 'Barack Obama'][0], color='k', linestyle='--', linewidth=4,\n",
    "           label='Length of Barack Obama', zorder=2)\n",
    "plt.axvline(x=wiki['length'][wiki['name'] == 'Joe Biden'][0], color='g', linestyle='--', linewidth=4,\n",
    "           label='Length of Joe Biden', zorder=1)\n",
    "plt.axis([0, 1000, 0, 0.04])\n",
    "plt.legend(loc='best', prop={'size':15})\n",
    "plt.title('Distribution of document length')\n",
    "plt.xlabel('# of words')\n",
    "plt.ylabel('Percentage')\n",
    "plt.rcParams.update({'font.size': 16})\n",
    "plt.tight_layout()"
   ]
  },
  {
   "cell_type": "markdown",
   "metadata": {},
   "source": [
    "### Problem with cosine distances: tweets vs. long articles"
   ]
  },
  {
   "cell_type": "code",
   "execution_count": 121,
   "metadata": {
    "collapsed": true
   },
   "outputs": [],
   "source": [
    "tweet = {'act': 3.4597778278724887,\n",
    " 'control': 3.721765211295327,\n",
    " 'democratic': 3.1026721743330414,\n",
    " 'governments': 4.167571323949673,\n",
    " 'in': 0.0009654063501214492,\n",
    " 'law': 2.4538226269605703,\n",
    " 'popular': 2.764478952022998,\n",
    " 'response': 4.261461747058352,\n",
    " 'to': 0.04694493768179923}"
   ]
  },
  {
   "cell_type": "code",
   "execution_count": 122,
   "metadata": {
    "collapsed": true
   },
   "outputs": [],
   "source": [
    "word_indices = [map_index_to_word[map_index_to_word['category']==word][0]['index'] for word in tweet.keys()]\n",
    "tweet_tf_idf = csr_matrix((list(tweet.values()), ([0]*len(word_indices), word_indices)), shape=(1, tf_idf.shape[1]))"
   ]
  },
  {
   "cell_type": "code",
   "execution_count": 124,
   "metadata": {
    "collapsed": false
   },
   "outputs": [
    {
     "name": "stdout",
     "output_type": "stream",
     "text": [
      "  (0, 546136)\t4.26146174706\n",
      "  (0, 546279)\t4.16757132395\n",
      "  (0, 546835)\t3.7217652113\n",
      "  (0, 547084)\t3.45977782787\n",
      "  (0, 547347)\t3.10267217433\n",
      "  (0, 547556)\t2.76447895202\n",
      "  (0, 547685)\t2.45382262696\n",
      "  (0, 547972)\t0.0469449376818\n",
      "  (0, 547976)\t0.000965406350121\n"
     ]
    }
   ],
   "source": [
    "print tweet_tf_idf"
   ]
  },
  {
   "cell_type": "code",
   "execution_count": 125,
   "metadata": {
    "collapsed": false
   },
   "outputs": [
    {
     "name": "stdout",
     "output_type": "stream",
     "text": [
      "[[ 0.70591838]]\n"
     ]
    }
   ],
   "source": [
    "from sklearn.metrics.pairwise import cosine_distances\n",
    "\n",
    "obama_tf_idf = tf_idf[35817]\n",
    "print cosine_distances(obama_tf_idf, tweet_tf_idf)"
   ]
  },
  {
   "cell_type": "code",
   "execution_count": 126,
   "metadata": {
    "collapsed": false
   },
   "outputs": [
    {
     "name": "stdout",
     "output_type": "stream",
     "text": [
      "[[ -1.11022302e-15   7.03138677e-01   7.42981902e-01   7.58358398e-01\n",
      "    7.70561228e-01   7.84677505e-01   7.88039073e-01   7.90926415e-01\n",
      "    7.98322603e-01   7.99466360e-01]]\n"
     ]
    }
   ],
   "source": [
    "distances, indices = model2_tf_idf.kneighbors(obama_tf_idf, n_neighbors=10)\n",
    "print distances"
   ]
  },
  {
   "cell_type": "code",
   "execution_count": null,
   "metadata": {
    "collapsed": true
   },
   "outputs": [],
   "source": []
  }
 ],
 "metadata": {
  "kernelspec": {
   "display_name": "Python 2",
   "language": "python",
   "name": "python2"
  },
  "language_info": {
   "codemirror_mode": {
    "name": "ipython",
    "version": 2
   },
   "file_extension": ".py",
   "mimetype": "text/x-python",
   "name": "python",
   "nbconvert_exporter": "python",
   "pygments_lexer": "ipython2",
   "version": "2.7.11"
  }
 },
 "nbformat": 4,
 "nbformat_minor": 0
}
